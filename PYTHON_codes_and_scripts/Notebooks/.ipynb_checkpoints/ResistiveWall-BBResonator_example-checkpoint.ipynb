{
 "cells": [
  {
   "cell_type": "markdown",
   "metadata": {},
   "source": [
    "# DELPHI simulations on Resistive Wall + Resonator\n",
    "## Looking at eigenvalues and eigenvectors output by DELPHI"
   ]
  },
  {
   "cell_type": "markdown",
   "metadata": {},
   "source": [
    "### 0.1) Import libraries"
   ]
  },
  {
   "cell_type": "code",
   "execution_count": 1,
   "metadata": {
    "collapsed": false,
    "scrolled": true
   },
   "outputs": [
    {
     "name": "stdout",
     "output_type": "stream",
     "text": [
      "Populating the interactive namespace from numpy and matplotlib\n"
     ]
    },
    {
     "name": "stderr",
     "output_type": "stream",
     "text": [
      "/afs/cern.ch/user/d/damorim/work/GitIRIS/IW2D/PYTHON_codes_and_scripts/Impedance_lib_Python/Impedance.py:1299: SyntaxWarning: import * only allowed at module level\n",
      "  def plot_impmod(imp_mod,comp,axtypex,axtypey,nfig):\n"
     ]
    }
   ],
   "source": [
    "%pylab notebook\n",
    "\n",
    "from __future__ import division\n",
    "from Impedance import *\n",
    "from DELPHI import *\n",
    "from string import *\n",
    "from LHC_param import LHC_param\n",
    "from SPS_param import SPS_param\n",
    "import itertools\n",
    "import os\n",
    "from  scipy.constants import c as clight\n",
    "import scipy.special\n",
    "from scipy.misc import factorial\n",
    "import collections\n",
    "#import skrf as rf\n",
    "\n",
    "\n",
    "#from matplotlib import rc\n",
    "#rc('font',**{'family':'serif','serif':['Times New Roman'],'size':12})\n",
    "#rc('text', usetex=True)"
   ]
  },
  {
   "cell_type": "markdown",
   "metadata": {},
   "source": [
    "### 0.2) Machine parameters"
   ]
  },
  {
   "cell_type": "code",
   "execution_count": 2,
   "metadata": {
    "collapsed": false
   },
   "outputs": [
    {
     "name": "stdout",
     "output_type": "stream",
     "text": [
      "Qx = 64.310000 , Qxfrac = 0.310000\n",
      "Qs = 0.004905\n",
      "omega0 = 70657.404242 , omegas = 346.596859\n",
      "f0 = 11245.475151 , fs = 55.162603\n"
     ]
    }
   ],
   "source": [
    "#Particle parameters (from LHC)\n",
    "energy = 450.0 #in GeV\n",
    "e,m0,c,E0 = proton_param()\n",
    "machine,E,gamma,sigmaz,taub,R,Qx,Qxfrac,Qy,Qyfrac,Qs,eta,f0,omega0,omegas,dphase,Estr,V,h = LHC_param(E0,E=energy*1e9);\n",
    "\n",
    "f0 = omega0/(2*np.pi)\n",
    "fs = omegas/(2*np.pi)\n",
    "\n",
    "print 'Qx = %f , Qxfrac = %f' % (Qx, Qxfrac)\n",
    "print 'Qs = %f' % (Qs)\n",
    "print 'omega0 = %f , omegas = %f' % (omega0, omegas)\n",
    "print 'f0 = %f , fs = %f' % (omega0/(2.*np.pi), omegas/(2.*np.pi))"
   ]
  },
  {
   "cell_type": "markdown",
   "metadata": {},
   "source": [
    "## 1) Resistive Wall + Broadband Resonnator Impedance Model"
   ]
  },
  {
   "cell_type": "code",
   "execution_count": 4,
   "metadata": {
    "collapsed": false,
    "scrolled": false
   },
   "outputs": [],
   "source": [
    "#Construction of the chamber\n",
    "thick = 5e-3\n",
    "    \n",
    "Cu_lay = Cu300K_layer(thickness=thick)\n",
    "vac_lay = vacuum_layer(thickness=np.inf)\n",
    "\n",
    "chamber = construct_layers([Cu_lay,vac_lay])\n",
    "\n",
    "\n",
    "#Frequency range\n",
    "freq = freq_param(fmin=1e2,fmax=1e10,ftypescan=2,nflog=20,fadded=[],fmaxrefine=1e3,fminrefine=1e10,nrefine=500)\n",
    "\n",
    "\n",
    "#Executables paths\n",
    "#IW2D executables path\n",
    "IW2Dexec='/afs/cern.ch/user/d/damorim/work/GitIRIS/IW2D/ImpedanceWake2D'\n",
    "\n",
    "#IW2D result files location and names\n",
    "ResultsDirIW2D='/afs/cern.ch/user/d/damorim/work/IW2D/RW_Resonator_round_chamber/'\n",
    "comment='_Thick'+str(thick*1e3)+'mm'\n",
    "\n",
    "\n",
    "\n",
    "#Resistive wall Impedances simulations\n",
    "imp_model_RW_R = []; wake_model_RW_R = []\n",
    "\n",
    "iw_input_R = impedance_wake_input(machine='LHC',b=[10e-3],layers=chamber,fpar=freq,geometry='round',comment=comment)\n",
    "imp_model_RW_R, wake_model_RW_R = imp_model_from_IW2D(iw_input_R,wake_calc=False,path=IW2Dexec,flagrm=True, lxplusbatch=None,dire=ResultsDirIW2D);\n",
    "\n",
    "\n",
    "\n",
    "#Resonator model\n",
    "imp_resonator = []; wake_resonator = []\n",
    "\n",
    "#For info: Function header:\n",
    "#imp_model_resonator(Rlist,frlist,Qlist,beta=1,wake_calc=False,fpar=freq_param(ftypescan=0,nflog=100),zpar=z_param(),listcomp=['Zxdip','Zydip']):\n",
    "\n",
    "imp_resonator, wake_resonator = imp_model_resonator(np.array([1.0e3]),np.array([1.0e9]),np.array([1]),beta=1,wake_calc=False, fpar=freq,zpar=z_param(),listcomp=['Zxdip'])\n",
    "\n",
    "\n",
    "\n",
    "#Total impedance calculation: RW + resonator\n",
    "imp_total_RW_R = add_impedance_wake(imp_model_RW_R,imp_resonator,weightx=1,weighty=1)\n",
    "\n",
    "\n",
    "#Writing impedance files\n",
    "write_imp_wake_mod(imp_total_RW_R,name='RW_Resonator',listcomp=['Zl','Zxdip','Zydip','Zxquad','Zyquad'],dire=ResultsDirIW2D)"
   ]
  },
  {
   "cell_type": "markdown",
   "metadata": {},
   "source": [
    "## 2) Computation with eigenmodesDELPHI_converged\n"
   ]
  },
  {
   "cell_type": "markdown",
   "metadata": {
    "collapsed": false
   },
   "source": [
    "### 2.1) Parameters for eigenmodesDELPHI_converged"
   ]
  },
  {
   "cell_type": "code",
   "execution_count": 5,
   "metadata": {
    "collapsed": false
   },
   "outputs": [],
   "source": [
    "#DELPHI parameters\n",
    "\n",
    "#Number of bunches, coupled bunch mode, particles per bunch\n",
    "M = 1 # 2748, 3564\n",
    "nx = 0\n",
    "Nb = 1e11\n",
    "\n",
    "#Distribution\n",
    "g,a,b=longdistribution_decomp(taub,typelong=\"Gaussian\");\n",
    "\n",
    "#Chromaticity\n",
    "Qp = 0\n",
    "omegaksi = Qp*omega0/eta\n",
    "\n",
    "#Frequency downsampling\n",
    "nevery = 1 \n",
    "\n",
    "#Convergence criterion\n",
    "crit = 5.e-3\n",
    "abseps = 1.e-3\n",
    "\n",
    "\n",
    "\n",
    "#Convert IW2D output into lists for DELPHI\n",
    "#Here we take the Zxdip component\n",
    "Zlist_RW_R = deepcopy(imp_total_RW_R[1].func[::nevery,:])\n",
    "freqlist_RW_R = deepcopy(imp_total_RW_R[1].var[::nevery])\n",
    "\n",
    "# Impedance and damper matrix coefficient computation\n",
    "coefdamper_RW_R,coefZ_RW_R = computes_coef(f0,0,b,g[0],1,taub,0,M,Nb,gamma,Qx,particle='proton');\n",
    "\n",
    "#Tables used for eigenmodesDELPHI output\n",
    "lmaxold = 1\n",
    "nmaxold = 1\n",
    "\n",
    "eigenvalues_converged_RW_R = np.zeros(((2*lmaxold+1)*(nmaxold+1)), dtype = complex)\n",
    "eigenvectors_converged_RW_R = np.zeros(((2*lmaxold+1)*(nmaxold+1),(2*lmaxold+1)*(nmaxold+1)), dtype = complex)\n",
    "\n",
    "matdamperold = np.zeros((2*lmaxold+1,nmaxold+1,2*lmaxold+1,nmaxold+1),dtype=complex)\n",
    "matZold = np.zeros((2*lmaxold+1,nmaxold+1,2*lmaxold+1,nmaxold+1),dtype=complex)"
   ]
  },
  {
   "cell_type": "raw",
   "metadata": {
    "collapsed": false
   },
   "source": [
    "#Impedance plot\n",
    "\n",
    "plt.close('all')\n",
    "\n",
    "plt.figure(1)\n",
    "plt.semilogx(freqlist_RW_R, Zlist_RW_R, 'x')\n",
    "plt.grid()\n",
    "\n",
    "plt.show()"
   ]
  },
  {
   "cell_type": "markdown",
   "metadata": {},
   "source": [
    "### 2.2) Computation with eigenmodesDELPHI_converged"
   ]
  },
  {
   "cell_type": "code",
   "execution_count": 6,
   "metadata": {
    "collapsed": false
   },
   "outputs": [
    {
     "name": "stdout",
     "output_type": "stream",
     "text": [
      "lmax= 1 , nmax= 1 , time for computing matrices [seconds]:  0.15\n",
      "lmax= 1 , nmax= 1 , time for eigenvalue pb resolution [seconds]:  0.01\n",
      "lmax= 2 , nmax= 2 , time for computing matrices [seconds]:  0.05\n",
      "lmax= 2 , nmax= 2 , time for eigenvalue pb resolution [seconds]:  0.0\n"
     ]
    },
    {
     "name": "stderr",
     "output_type": "stream",
     "text": [
      "/afs/cern.ch/user/d/damorim/scratch0/IRIS/PYTHON_codes_and_scripts/DELPHI_Python/DELPHI.py:171: FutureWarning: comparison to `None` will result in an elementwise object comparison in the future.\n",
      "  if (damperold==None) or ( ( (l>lmaxold)or(lprime>lmaxold) ) or ( (n>nmaxold)or(nprime>nmaxold) ) ):\n",
      "/afs/cern.ch/user/d/damorim/scratch0/IRIS/PYTHON_codes_and_scripts/DELPHI_Python/DELPHI.py:81: FutureWarning: comparison to `None` will result in an elementwise object comparison in the future.\n",
      "  if (couplold==None) or ( ( (l>lmaxold)or(lprime>lmaxold) ) or ( (n>nmaxold)or(nprime>nmaxold) ) ):\n"
     ]
    }
   ],
   "source": [
    "#Function header\n",
    "#eigenmodesDELPHI_converged(nx,M,omegaksi,omega0,tunefrac,a,b,taub,g,Z,freqZ,coefdamper,coefZ,omegas,flag_trapz=0,flagdamperimp=0,d=None,freqd=None,kmax=5,crit=5.e-2,abseps=1.e-3,lmaxold=-1,nmaxold=-1,matdamperold=None,matZold=None,flageigenvect=False)\n",
    "\n",
    "#Computation with eigenmodesDELPHI_converged\n",
    "eigenvalues_converged_RW_R, eigenvectors_converged_RW_R, lmax0, nmax0, matdamperold, matZold = eigenmodesDELPHI_converged(nx,M,omegaksi,omega0,Qxfrac,a,b,taub,g,Zlist_RW_R,freqlist_RW_R,coefdamper_RW_R,coefZ_RW_R,omegas,flag_trapz=1,flagdamperimp=0,d=None,freqd=None,kmax=1,crit=crit,abseps=abseps,lmaxold=-1,nmaxold=-1,matdamperold=None,matZold=None,flageigenvect=True)\n"
   ]
  },
  {
   "cell_type": "code",
   "execution_count": 7,
   "metadata": {
    "collapsed": false
   },
   "outputs": [
    {
     "name": "stdout",
     "output_type": "stream",
     "text": [
      "[  3.46593671e+02 -9.84554954e-15j  -3.46600047e+02 -2.90021186e-15j\n",
      "  -3.46597043e+02 -4.75310130e-16j   3.46596676e+02 -4.58990416e-16j\n",
      "   6.93193765e+02 -2.30301356e-16j   6.93193701e+02 -1.59680919e-16j\n",
      "  -3.46596837e+02 -1.28409239e-17j   3.46596882e+02 -5.53918511e-18j\n",
      "  -6.93193672e+02 +5.33882196e-19j  -6.93193737e+02 +6.21791885e-19j\n",
      "   6.93192819e+02 +3.59389916e-17j  -6.93194619e+02 +3.59652467e-17j\n",
      "  -1.46247055e-05 +4.36889672e-09j  -1.13673102e-03 +1.64680470e-07j\n",
      "  -1.56195973e-02 +4.13702704e-06j]\n"
     ]
    }
   ],
   "source": [
    "#The eigenvalues are ordered by their imaginary part: the most unstable mode is first\n",
    "\n",
    "print eigenvalues_converged_RW_R"
   ]
  },
  {
   "cell_type": "code",
   "execution_count": 8,
   "metadata": {
    "collapsed": false
   },
   "outputs": [
    {
     "name": "stdout",
     "output_type": "stream",
     "text": [
      "[  4.90527037e-03 -1.39342078e-19j  -4.90536061e-03 -4.10461139e-20j\n",
      "  -4.90531809e-03 -6.72696846e-21j   4.90531289e-03 -6.49599884e-21j\n",
      "   9.81063163e-03 -3.25940866e-21j   9.81063072e-03 -2.25993186e-21j\n",
      "  -4.90531517e-03 -1.81735007e-22j   4.90531580e-03 -7.83949703e-23j\n",
      "  -9.81063032e-03 +7.55592711e-24j  -9.81063123e-03 +8.80009522e-24j\n",
      "   9.81061824e-03 +5.08637304e-22j  -9.81064372e-03 +5.09008888e-22j\n",
      "  -2.06980509e-10 +6.18321146e-14j  -1.60879250e-08 +2.33068950e-12j\n",
      "  -2.21061012e-07 +5.85505099e-11j]\n"
     ]
    }
   ],
   "source": [
    "#The tuneshifts are ordered by their imaginary part: the most unstable mode is first\n",
    "\n",
    "print eigenvalues_converged_RW_R/omega0"
   ]
  }
 ],
 "metadata": {
  "celltoolbar": "Raw Cell Format",
  "kernelspec": {
   "display_name": "Python 2",
   "language": "python",
   "name": "python2"
  },
  "language_info": {
   "codemirror_mode": {
    "name": "ipython",
    "version": 2
   },
   "file_extension": ".py",
   "mimetype": "text/x-python",
   "name": "python",
   "nbconvert_exporter": "python",
   "pygments_lexer": "ipython2",
   "version": "2.7.11"
  }
 },
 "nbformat": 4,
 "nbformat_minor": 0
}
