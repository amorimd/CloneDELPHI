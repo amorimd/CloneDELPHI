{
 "cells": [
  {
   "cell_type": "markdown",
   "metadata": {},
   "source": [
    "# DELPHI simulations with LHC impedance\n",
    "#### Computes also the eigenvectors"
   ]
  },
  {
   "cell_type": "markdown",
   "metadata": {},
   "source": [
    "### 1) Import libraries"
   ]
  },
  {
   "cell_type": "code",
   "execution_count": 1,
   "metadata": {
    "collapsed": false
   },
   "outputs": [
    {
     "name": "stdout",
     "output_type": "stream",
     "text": [
      "Populating the interactive namespace from numpy and matplotlib\n"
     ]
    }
   ],
   "source": [
    "%pylab notebook\n",
    "\n",
    "import sys\n",
    "import commands\n",
    "from string import *\n",
    "import time\n",
    "import numpy as np\n",
    "from copy import deepcopy\n",
    "import os,re\n",
    "from io_lib import *\n",
    "from tables_lib import select_in_table\n",
    "from particle_param import *\n",
    "from Impedance import *\n",
    "\n",
    "#from DELPHI import *\n",
    "from DELPHI_EVectors import *\n",
    "from LHC_param import *\n",
    "\n"
   ]
  },
  {
   "cell_type": "markdown",
   "metadata": {},
   "source": [
    "### 1bis) Results directory"
   ]
  },
  {
   "cell_type": "code",
   "execution_count": 2,
   "metadata": {
    "collapsed": false
   },
   "outputs": [],
   "source": [
    "# machine parameters\n",
    "machine2save='LHC'; \n",
    "beam='1'\n",
    "\n",
    "# CHANGE DIRECTORY HERE\n",
    "# subdirectory (inside DELPHI_results/[machine2save]) where to put the results\n",
    "#ResultDir='/afs/cern.ch/user/d/damorim/work/DELPHI/Notebooks/Eigenvectors/DELPHI_output/';\n",
    "ResultDir='/afs/cern.ch/work/d/damorim/work/DELPHI_results/LHC/RunII/';\n",
    "\n",
    "os.system(\"mkdir -p \"+ResultDir);"
   ]
  },
  {
   "cell_type": "markdown",
   "metadata": {},
   "source": [
    "### 2) Parameters"
   ]
  },
  {
   "cell_type": "code",
   "execution_count": 3,
   "metadata": {
    "collapsed": false
   },
   "outputs": [
    {
     "name": "stdout",
     "output_type": "stream",
     "text": [
      "['LHC_inj_450GeV_B1_2016']\n",
      "[0]\n"
     ]
    }
   ],
   "source": [
    "# beam parameters\n",
    "e,m0,c,E0=proton_param();\n",
    "\n",
    "#E=3e12\n",
    "#V=12e6 #RF voltage\n",
    "\n",
    "\n",
    "\n",
    "# flags for plotting and DELPHI\n",
    "flagdamperimp=0; # 1 to use frequency dependent damper gain (provided in Zd,fd)\n",
    "strnorm=[''];\n",
    "flagnorm=0; # 1 if damper matrix normalized at current chromaticity (instead of at zero chroma)\n",
    "flagplot=True; # to write impedance files by elements\n",
    "nevery=1; # downsampling of the impedance (take less points than in the full model)\n",
    "wake_calc=False; # True -> compute wake as well (otherwise only imp.)\n",
    "\n",
    "\n",
    "# number of eigenvalues ans convergence criterion for DELPHI\n",
    "kmax=1; # number of converged eigenvalues (kmax most unstable ones are converged)\n",
    "kmaxplot=300; # number of kept and plotted eigenvalues (in TMCI plot)\n",
    "crit=5.0e-3\n",
    "abseps=1.0e-5\n",
    "\n",
    "\n",
    "# scan definition\n",
    "\n",
    "scenarioscan=np.array(['LHC_inj_450GeV_B1_2016'])\n",
    "#scenarioscan=np.array(['LHC_ft_6.5TeV_B1_2016'])\n",
    "\n",
    "print scenarioscan\n",
    "\n",
    "\n",
    "model=['Nominal LHC'  for ii in scenarioscan]; # case in LHC_param\n",
    "Escan=np.array([450.0e9 for ii in scenarioscan]); # Energy at injection\n",
    "#Escan=np.array([6500.0e9 for ii in scenarioscan]); # Energy at flat top\n",
    "subscan=np.arange(0,len(Escan))\n",
    "print subscan\n",
    "\n",
    "\n",
    "# setting the scans\n",
    "planes=['x'];\n",
    "\n",
    "Qpscan=np.arange(-10,41,1);\n",
    "#Qpscan=np.array([-0.01,0,0.01])\n",
    "\n",
    "dampscan=np.array([0.0]); # damper gain scan\n",
    "\n",
    "#Nbscan=np.arange(0,15.5e11,5e10);\n",
    "Nbscan=np.array([1.2e11])\n",
    "\n",
    "Mscan=np.array([1]); # scan on number of bunches\n",
    "imp_fact=1. #impedance factor\n",
    "\n",
    "\n",
    "# initialize impedance model and tune shifts\n",
    "tuneshiftQp=np.zeros((len(subscan),2,len(Mscan),len(Qpscan),len(dampscan),len(Nbscan),1,1,kmaxplot),dtype=complex);\n",
    "tuneshiftm0Qp=np.zeros((len(subscan),2,len(Mscan),len(Qpscan),len(dampscan),len(Nbscan),1,1),dtype=complex);\n",
    "eigenvectors=np.empty((len(subscan),2,len(Mscan),len(Qpscan),len(dampscan),len(Nbscan),1,1),dtype=np.object_);\n",
    "\n",
    "\n",
    "imp_mod_list=[]; # complete list of impedance scenarios\n",
    "wake_mod_list=[];# complete list of wake scenarios"
   ]
  },
  {
   "cell_type": "code",
   "execution_count": 4,
   "metadata": {
    "collapsed": false
   },
   "outputs": [],
   "source": [
    "for iscenario,scenario in enumerate(scenarioscan[subscan]):\n",
    "\n",
    "    root_result=ResultDir+scenarioscan[subscan[iscenario]]+'/'\n",
    "    os.system(\"mkdir -p \"+root_result);"
   ]
  },
  {
   "cell_type": "code",
   "execution_count": 5,
   "metadata": {
    "collapsed": false
   },
   "outputs": [
    {
     "name": "stdout",
     "output_type": "stream",
     "text": [
      "scenario:  LHC_inj_450GeV_B1_2016\n"
     ]
    }
   ],
   "source": [
    "if machine2save=='LHC':\n",
    "    machine_str,E,gamma,sigmaz,taub,R,Qx,Qxfrac,Qy,Qyfrac,Qs,eta,f0,omega0,omegas,dphase,Estr,V,h, M,en=LHC_param(E0,E=Escan[subscan[iscenario]],scenario=model[subscan[iscenario]])    #machine=LHC(E0,E=Escan[subscan[iscenario]],scenario=model[subscan[iscenario]])\n",
    "\n",
    "    g,a,b=longdistribution_decomp(taub,typelong=\"Gaussian\");\n",
    "    avbetax=R/Qx;avbetay=R/Qy; # average beta functions used\n",
    "    print \"scenario: \",scenario"
   ]
  },
  {
   "cell_type": "markdown",
   "metadata": {},
   "source": [
    "### 3) Retrieving the impedance"
   ]
  },
  {
   "cell_type": "code",
   "execution_count": 17,
   "metadata": {
    "collapsed": false,
    "scrolled": true
   },
   "outputs": [
    {
     "name": "stdout",
     "output_type": "stream",
     "text": [
      "Loading from impedance database...LHC_inj_450GeV_B1_2016\n"
     ]
    }
   ],
   "source": [
    "print 'Loading from impedance database...'+scenario\n",
    "imp_mod=[]; wake_mod=[];\n",
    "\n",
    "imp_files_directory=ResultDir+scenario\n",
    "\n",
    "suffix='_Allthemachine_'+Estr+'_B'+beam+'_'+scenario+'.dat';\n",
    "\n",
    "freq_mod,Z_mod=readZ(imp_files_directory+\"/Zxdip\"+suffix);\n",
    "Z_mod*=imp_fact\n",
    "\n",
    "imp_mod.append(impedance_wake(a=1,b=0,c=0,d=0,plane='x',var=freq_mod,func=Z_mod));\n",
    "\n",
    "#freq_mod,Z_mod=readZ(root_result+\"Zydip\"+suffix);\n",
    "#Z_mod*=imp_fact\n",
    "\n",
    "\n",
    "#imp_mod.append(impedance_wake(a=0,b=1,c=0,d=0,plane='y',var=freq_mod,func=Z_mod));\n",
    "\n",
    "imp_mod_list.append(imp_mod);\n",
    "wake_mod_list.append(wake_mod);"
   ]
  },
  {
   "cell_type": "markdown",
   "metadata": {},
   "source": [
    "### 3bis) Impedance Plot"
   ]
  },
  {
   "cell_type": "raw",
   "metadata": {
    "collapsed": false
   },
   "source": [
    "#Puting the impedance inside a list\n",
    "Zlist_RW_R = deepcopy(imp_mod_list[0][0].func[::nevery,:])\n",
    "freqlist_RW_R = deepcopy(imp_mod_list[0][0].var[::nevery])\n",
    "\n",
    "#Impedance plot\n",
    "plt.close('all')\n",
    "\n",
    "plt.figure(1)\n",
    "plt.loglog(freqlist_RW_R, Zlist_RW_R, 'x')\n",
    "plt.xlim([1.0e3,1.0e10])\n",
    "plt.ylim([1.0e5,1.0e9])\n",
    "plt.grid()\n",
    "\n",
    "plt.show()"
   ]
  },
  {
   "cell_type": "markdown",
   "metadata": {},
   "source": [
    "### 4) DELPHI calculations"
   ]
  },
  {
   "cell_type": "code",
   "execution_count": 23,
   "metadata": {
    "collapsed": false
   },
   "outputs": [
    {
     "name": "stdout",
     "output_type": "stream",
     "text": [
      "/afs/cern.ch/work/d/damorim/work/DELPHI_results/LHC/RunII/LHC_inj_450GeV_B1_2016/ResultsFolder_EVectors\n"
     ]
    }
   ],
   "source": [
    "# CHANGE IF NEEDED\n",
    "# Result folder\n",
    "root_result=ResultDir+scenario+'/ResultsFolder_EVectors';\n",
    "os.system(\"mkdir -p \"+root_result);\n",
    "\n",
    "print root_result"
   ]
  },
  {
   "cell_type": "raw",
   "metadata": {
    "collapsed": true
   },
   "source": [
    "# DELPHI scans now\n",
    "for iscenario,scenario in enumerate(scenarioscan[subscan]):\n",
    "\n",
    "    print 'DELPHI computation for '+scenario\n",
    "\n",
    "    # DELPHI run\n",
    "    tuneshiftQp[iscenario,:,:,:,:,:,:,:,:],tuneshiftm0Qp[iscenario,:,:,:,:,:,:,:],eigenvectors[iscenario,:,:,:,:,:,:,:]=DELPHI_wrapper(imp_mod_list[iscenario],Mscan,Qpscan,dampscan,Nbscan,[omegas],[dphase],omega0,Qx,Qy,gamma,eta,a,b,taub,g,planes,nevery=nevery,particle='proton',flagnorm=0,flagdamperimp=0,d=None,freqd=None,kmax=kmax,kmaxplot=kmaxplot,crit=crit,abseps=abseps,flagm0=True,flageigenvect=True,lxplusbatch='launch',comment=machine_str+scenario+'_'+float_to_str(round(E/1e9))+'GeV_Z'+float_to_str(imp_fact),queue='2nw',dire=root_result+'/',flagQpscan_outside=True);"
   ]
  },
  {
   "cell_type": "code",
   "execution_count": null,
   "metadata": {
    "collapsed": false
   },
   "outputs": [],
   "source": [
    "# Retrieve DELPHI Results\n",
    "for iscenario,scenario in enumerate(scenarioscan[subscan]):\n",
    "\n",
    "    print 'DELPHI computation for '+scenario\n",
    "\n",
    "    # DELPHI run\n",
    "    tuneshiftQp[iscenario,:,:,:,:,:,:,:,:],tuneshiftm0Qp[iscenario,:,:,:,:,:,:,:],eigenvectors[iscenario,:,:,:,:,:,:,:]=DELPHI_wrapper(imp_mod_list[iscenario],Mscan,Qpscan,dampscan,Nbscan,[omegas],[dphase],omega0,Qx,Qy,gamma,eta,a,b,taub,g,planes,nevery=nevery,particle='proton',flagnorm=0,flagdamperimp=0,d=None,freqd=None,kmax=kmax,kmaxplot=kmaxplot,crit=crit,abseps=abseps,flagm0=True,flageigenvect=True,lxplusbatch='retrieve',comment=machine_str+scenario+'_'+float_to_str(round(E/1e9))+'GeV_Z'+float_to_str(imp_fact),queue='2nw',dire=root_result+'/',flagQpscan_outside=True);"
   ]
  },
  {
   "cell_type": "markdown",
   "metadata": {},
   "source": [
    "### 5) Write DELPHI output in files"
   ]
  },
  {
   "cell_type": "markdown",
   "metadata": {},
   "source": [
    "##### Save tuneshifts in text files"
   ]
  },
  {
   "cell_type": "code",
   "execution_count": null,
   "metadata": {
    "collapsed": false
   },
   "outputs": [],
   "source": [
    "''' Output file: data vs Qp '''\n",
    "\n",
    "for iplane,plane in enumerate(planes):\n",
    "    for iM,M in enumerate(Mscan):\n",
    "        for idamp,damp in enumerate(dampscan):\n",
    "            for Nb in Nbscan:\n",
    "                strpart=['Re','Im'];\n",
    "                for ir,r in enumerate(['real','imag']):\n",
    "                    for iscenario,scenario in enumerate(scenarioscan[subscan]):\n",
    "\n",
    "                        # output files name for data vs Qp\n",
    "                        Estr=float_to_str(round(Escan[subscan[iscenario]]/1e9))+'GeV';\n",
    "                        fileoutdataQp=root_result+'/data_vs_Qp_'+machine_str+'_'+Estr+scenario+'_'+str(M)+'b_d'+float_to_str(damp)+'_Nb'+float_to_str(Nb/1.e11)+'e11_'+str(kmax)+'converged'+strnorm[flagnorm]+'_'+plane;\n",
    "                        fileoutdataQpm0=root_result+'/data_vs_Qp_m0_'+machine_str+'_'+Estr+scenario+'_'+str(M)+'b_d'+float_to_str(damp)+'_Nb'+float_to_str(Nb/1.e11)+'e11_'+str(kmax)+'converged'+strnorm[flagnorm]+'_'+plane;\n",
    "                        fileoutdata_all=root_result+'/data_vs_Qp_all_'+machine_str+'_'+Estr+scenario+'_'+str(M)+'b_d'+float_to_str(damp)+'_Nb'+float_to_str(Nb/1.e11)+'e11_'+str(kmax)+'converged'+strnorm[flagnorm]+'_'+plane;\n",
    "                        \n",
    "                        ts=getattr(tuneshiftQp[iscenario,iplane,iM,:,idamp,np.where(Nbscan==Nb),0,0,0],r);\n",
    "                        data=np.hstack((Qpscan.reshape((-1,1)),ts.reshape((-1,1))));\n",
    "                        write_ncol_file(fileoutdataQp+'_'+r+'.dat',data,header=\"Qp\\t\"+strpart[ir]+\"_tuneshift\")\n",
    "\n",
    "                        tsm0=getattr(tuneshiftm0Qp[iscenario,iplane,iM,:,idamp,np.where(Nbscan==Nb),0,0],r);\n",
    "                        data=np.hstack((Qpscan.reshape((-1,1)),ts.reshape((-1,1))));\n",
    "                        write_ncol_file(fileoutdataQpm0+'_'+r+'.dat',data,header=\"Qp\\t\"+strpart[ir]+\"_tuneshiftm0\")\n",
    "\n",
    "                        all_unstable_modes=getattr(tuneshiftQp[iscenario,iplane,iM,:,idamp,np.where(Nbscan==Nb),0,0,:],r);\n",
    "                        data=np.hstack((Qpscan.reshape((-1,1)),all_unstable_modes.reshape((-1,kmaxplot))));\n",
    "                        write_ncol_file(fileoutdata_all+'_'+r+'.dat',data,header=\"Qp\\t\"+strpart[ir]+\"_tuneshift\")\n",
    "\n"
   ]
  },
  {
   "cell_type": "markdown",
   "metadata": {
    "collapsed": true
   },
   "source": [
    "##### Save eigenvectors in numpy .npy file"
   ]
  },
  {
   "cell_type": "code",
   "execution_count": null,
   "metadata": {
    "collapsed": true
   },
   "outputs": [],
   "source": [
    "for iscenario,scenario in enumerate(scenarioscan[subscan]):\n",
    "    np.save(root_result+'/Eigenvectors.npy',eigenvectors[iscenario,:,:,:,:,:,:,:])"
   ]
  }
 ],
 "metadata": {
  "celltoolbar": "Raw Cell Format",
  "kernelspec": {
   "display_name": "Python 2",
   "language": "python",
   "name": "python2"
  },
  "language_info": {
   "codemirror_mode": {
    "name": "ipython",
    "version": 2
   },
   "file_extension": ".py",
   "mimetype": "text/x-python",
   "name": "python",
   "nbconvert_exporter": "python",
   "pygments_lexer": "ipython2",
   "version": "2.7.11"
  }
 },
 "nbformat": 4,
 "nbformat_minor": 0
}
