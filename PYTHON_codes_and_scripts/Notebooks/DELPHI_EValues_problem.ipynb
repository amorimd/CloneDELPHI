{
 "cells": [
  {
   "cell_type": "code",
   "execution_count": 1,
   "metadata": {
    "collapsed": false
   },
   "outputs": [],
   "source": [
    "%matplotlib notebook\n",
    "import matplotlib.pyplot as plt\n",
    "from __future__ import division\n",
    "from sympy import *\n",
    "import numpy as np\n",
    "\n",
    "init_printing(fontsize='15pt',use_latex='mathjax')"
   ]
  },
  {
   "cell_type": "markdown",
   "metadata": {},
   "source": [
    "###  Gives the generalized (associated) Laguerre polynomial\n",
    "\n",
    "\n",
    "The Laguerre polynomials are orthogonal with respect to the weight $z^a e^{−z}$ on [0,∞)[0,∞).\n",
    "\n"
   ]
  },
  {
   "cell_type": "raw",
   "metadata": {
    "collapsed": true
   },
   "source": [
    "import mpmath"
   ]
  },
  {
   "cell_type": "raw",
   "metadata": {
    "collapsed": false
   },
   "source": [
    "n = 3\n",
    "k = 2\n",
    "\n",
    "f0 = lambda x: mpmath.laguerre(n,k-n,x)\n",
    "f2 = lambda x: mpmath.laguerre(k,n-k,x)*(-x)**(n-k)/(factorial(n)/factorial(k))\n",
    "\n",
    "\n",
    "n = 2\n",
    "k = 3\n",
    "\n",
    "f1 = lambda x: mpmath.laguerre(n,k-n,x)\n",
    "\n",
    "\n",
    "#f2 = lambda x: mpmath.laguerre(k,n-k,x)\n",
    "\n",
    "\n",
    "#mpmath.plot([f0,f1,f2],[0,10],[-10,10])\n",
    "mpmath.plot([f0],[0,10],[-10,10])\n",
    "mpmath.plot([f1],[0,10],[-10,10])\n",
    "mpmath.plot([f2],[0,10],[-10,10])"
   ]
  },
  {
   "cell_type": "markdown",
   "metadata": {},
   "source": [
    "###  orthogonality"
   ]
  },
  {
   "cell_type": "raw",
   "metadata": {
    "collapsed": false
   },
   "source": [
    "Lm = lambda t: laguerre(m,a,t)\n",
    "Ln = lambda t: laguerre(n,a,t)\n",
    "a, n, m = 2.5, 2, 4\n",
    "mpmath.chop(mpmath.quad(lambda t: exp(-t)*t**a*Lm(t)*Ln(t), [0,mpmath.inf]))"
   ]
  },
  {
   "cell_type": "markdown",
   "metadata": {},
   "source": [
    "###  $R_l(\\tau)$"
   ]
  },
  {
   "cell_type": "code",
   "execution_count": 2,
   "metadata": {
    "collapsed": false
   },
   "outputs": [
    {
     "data": {
      "text/latex": [
       "$$\\sum_{{n}'=0}^{\\infty} \\frac{c_{{n}'}^{\\left|{{l}'}\\right|} \\left(\\frac{{\\tau}'}{\\tau_{b}}\\right)^{\\left|{{l}'}\\right|}}{e^{b {\\tau}'^{2}}} \\operatorname{L_{{n}'}}^{\\left|{{l}'}\\right|}{\\left (a {\\tau}'^{2} \\right )}$$"
      ],
      "text/plain": [
       "  ∞                                              \n",
       " ____                                            \n",
       " ╲                                               \n",
       "  ╲                  │l′│                       2\n",
       "   ╲       │l′│ ⎛ τ′⎞         │l′│⎛    2⎞  -b⋅τ′ \n",
       "   ╱   c_n′    ⋅⎜───⎟    ⋅L_n′    ⎝a⋅τ′ ⎠⋅ℯ      \n",
       "  ╱             ⎝τ_b⎠                            \n",
       " ╱                                               \n",
       " ‾‾‾‾                                            \n",
       "n′ = 0                                           "
      ]
     },
     "execution_count": 2,
     "metadata": {},
     "output_type": "execute_result"
    }
   ],
   "source": [
    "tau, tauprime, taub = symbols(\"tau tauprime tau_b\", positive=True)\n",
    "b, cn, Ln = symbols(\"b, c_n L_n\")\n",
    "cnprime, Lnprime = symbols(\"c_nprime L_nprime\")\n",
    "Ln, Rl = symbols(\"L_n, R_l\", cls=Function)\n",
    "Lnprime = symbols(\"L_nprime\", cls=Function)\n",
    "x, a, b, omegaxi = symbols(\"x a b omega_xi\", positive=True)\n",
    "n, nprime, k, l, lprime, n0 = symbols(\"n nprime k l lprime n0\", integer=True)\n",
    "\n",
    "\n",
    "Rl=Sum((tau/taub)**abs(l)*exp(-b*tau**2)*cnprime**abs(l)*Lnprime(a* tau**2)**abs(l), (nprime,0,oo))\n",
    "Rlprime_tauprime = Rl.subs(tau,tauprime).subs(l,lprime)\n",
    "Rlprime_tauprime"
   ]
  },
  {
   "cell_type": "markdown",
   "metadata": {},
   "source": [
    "##  $g_0(\\tau)$"
   ]
  },
  {
   "cell_type": "code",
   "execution_count": 3,
   "metadata": {
    "collapsed": false
   },
   "outputs": [
    {
     "data": {
      "text/latex": [
       "$$\\frac{1}{e^{b \\tau^{2}}} \\sum_{k=0}^{n_{0}} g_{k} \\operatorname{L^{0}_{k}}{\\left (a \\tau^{2} \\right )}$$"
      ],
      "text/plain": [
       "         n₀                  \n",
       "        ___                  \n",
       "     2  ╲                    \n",
       " -b⋅τ    ╲             ⎛   2⎞\n",
       "ℯ     ⋅  ╱   g_k⋅L_k__0⎝a⋅τ ⎠\n",
       "        ╱                    \n",
       "        ‾‾‾                  \n",
       "       k = 0                 "
      ]
     },
     "execution_count": 3,
     "metadata": {},
     "output_type": "execute_result"
    }
   ],
   "source": [
    "Lk0 = symbols('L_k^0',cls=Function)\n",
    "gk = symbols('g_k')\n",
    "g0=exp(-b*tau**2)*Sum(gk*Lk0(a* tau**2), (k,0,n0))\n",
    "g0"
   ]
  },
  {
   "cell_type": "markdown",
   "metadata": {},
   "source": [
    "## 1) RHS Damper part\n",
    "\n",
    "### 1.1) Expression from DELPHI-expanded.pdf"
   ]
  },
  {
   "cell_type": "markdown",
   "metadata": {},
   "source": [
    "Expression as in DELPHI-expanded, slide 34 (without $\\frac{\\mu}{\\omega_0} \\kappa g_0$)"
   ]
  },
  {
   "cell_type": "code",
   "execution_count": 4,
   "metadata": {
    "collapsed": false
   },
   "outputs": [
    {
     "data": {
      "text/latex": [
       "$$\\sum_{{l}'=-\\infty}^{\\infty} \\int_{0}^{\\infty} i^{- l + {l}'} {\\tau}' \\operatorname{J_{l}}{\\left (- \\omega_{\\xi} \\tau \\right )} \\operatorname{J_{{l}'}}{\\left (- \\omega_{\\xi} {\\tau}' \\right )} \\sum_{{n}'=0}^{\\infty} \\frac{c_{{n}'}^{\\left|{{l}'}\\right|} \\tau_{b}^{- \\left|{{l}'}\\right|} {\\tau}'^{\\left|{{l}'}\\right|}}{e^{b {\\tau}'^{2}}} \\operatorname{L_{{n}'}}^{\\left|{{l}'}\\right|}{\\left (a {\\tau}'^{2} \\right )}\\, d{\\tau}'$$"
      ],
      "text/plain": [
       "    ∞                                                                         \n",
       "_________                                                                     \n",
       "╲                                                                             \n",
       " ╲        ∞                                                                   \n",
       "  ╲       ⌠                                                                   \n",
       "   ╲      ⎮                                         ∞                         \n",
       "    ╲     ⎮                                        ____                       \n",
       "     ╲    ⎮                                        ╲                          \n",
       "      ╲   ⎮                                         ╲                         \n",
       "       ╲  ⎮  -l + l′                                 ╲       │l′│    -│l′│   │\n",
       "       ╱  ⎮ ⅈ       ⋅τ′⋅J_l(-ωₓᵢ⋅τ)⋅J_l′(-ωₓᵢ⋅τ′)⋅   ╱   c_n′    ⋅τ_b     ⋅τ′ \n",
       "      ╱   ⎮                                         ╱                         \n",
       "     ╱    ⎮                                        ╱                          \n",
       "    ╱     ⎮                                        ‾‾‾‾                       \n",
       "   ╱      ⎮                                       n′ = 0                      \n",
       "  ╱       ⌡                                                                   \n",
       " ╱        0                                                                   \n",
       "╱                                                                             \n",
       "‾‾‾‾‾‾‾‾‾                                                                     \n",
       " l′ = -∞                                                                      \n",
       "\n",
       "                                 \n",
       "                                 \n",
       "                                 \n",
       "                                 \n",
       "                                 \n",
       "                                 \n",
       "                                 \n",
       "                                 \n",
       "                          2      \n",
       "l′│     │l′│⎛    2⎞  -b⋅τ′       \n",
       "   ⋅L_n′    ⎝a⋅τ′ ⎠⋅ℯ       d(τ′)\n",
       "                                 \n",
       "                                 \n",
       "                                 \n",
       "                                 \n",
       "                                 \n",
       "                                 \n",
       "                                 \n",
       "                                 \n",
       "                                 "
      ]
     },
     "execution_count": 4,
     "metadata": {},
     "output_type": "execute_result"
    }
   ],
   "source": [
    "Jl, Jlprime = symbols(\"J_l J_lprime\",cls=Function)\n",
    "\n",
    "expr=Integral(I**(lprime-l) * tauprime * Rlprime_tauprime* Jlprime(-omegaxi* tauprime)* Jl(-omegaxi*tau),\n",
    " (tauprime, 0, oo))\n",
    "\n",
    "expr=Sum(expr,(lprime, -oo, oo))\n",
    "expr=simplify(expand_power_base(expr))\n",
    "\n",
    "expr"
   ]
  },
  {
   "cell_type": "markdown",
   "metadata": {},
   "source": [
    "!!! The sums over $l'$ and $n'$ are not written in front !!!"
   ]
  },
  {
   "cell_type": "code",
   "execution_count": 5,
   "metadata": {
    "collapsed": false
   },
   "outputs": [
    {
     "data": {
      "text/latex": [
       "$$\\frac{c_{{n}'}^{\\left|{{l}'}\\right|} \\tau_{b}^{- \\left|{{l}'}\\right|} {\\tau}'}{e^{b {\\tau}'^{2}}} i^{- l + {l}'} {\\tau}'^{\\left|{{l}'}\\right|} \\operatorname{J_{l}}{\\left (- \\omega_{\\xi} \\tau \\right )} \\operatorname{J_{{l}'}}{\\left (- \\omega_{\\xi} {\\tau}' \\right )} \\operatorname{L_{{n}'}}^{\\left|{{l}'}\\right|}{\\left (a {\\tau}'^{2} \\right )}$$"
      ],
      "text/plain": [
       "                                                                              \n",
       " -l + l′     │l′│    -│l′│      │l′│                               │l′│⎛    2⎞\n",
       "ⅈ       ⋅c_n′    ⋅τ_b     ⋅τ′⋅τ′    ⋅J_l(-ωₓᵢ⋅τ)⋅J_l′(-ωₓᵢ⋅τ′)⋅L_n′    ⎝a⋅τ′ ⎠\n",
       "\n",
       "       2\n",
       "  -b⋅τ′ \n",
       "⋅ℯ      "
      ]
     },
     "execution_count": 5,
     "metadata": {},
     "output_type": "execute_result"
    }
   ],
   "source": [
    "newexpr=expr.args[0].args[0].args[0]*\\\n",
    "expr.args[0].args[0].args[1]*\\\n",
    "expr.args[0].args[0].args[2]*\\\n",
    "expr.args[0].args[0].args[3]*\\\n",
    "expr.args[0].args[0].args[4].args[0]\n",
    "\n",
    "newexpr"
   ]
  },
  {
   "cell_type": "raw",
   "metadata": {},
   "source": [
    "newexpr.args"
   ]
  },
  {
   "cell_type": "code",
   "execution_count": 6,
   "metadata": {
    "collapsed": false
   },
   "outputs": [],
   "source": [
    "fact = np.prod([newexpr.args[ii] for ii in [1,2,3,6]])"
   ]
  },
  {
   "cell_type": "code",
   "execution_count": 7,
   "metadata": {
    "collapsed": false,
    "scrolled": true
   },
   "outputs": [
    {
     "data": {
      "text/latex": [
       "$$i^{- l + {l}'} c_{{n}'}^{\\left|{{l}'}\\right|} \\tau_{b}^{- \\left|{{l}'}\\right|} \\operatorname{J_{l}}{\\left (- \\omega_{\\xi} \\tau \\right )} \\int_{0}^{\\infty} \\frac{{\\tau}'^{\\left|{{l}'}\\right| + 1}}{e^{b {\\tau}'^{2}}} \\operatorname{J_{{l}'}}{\\left (- \\omega_{\\xi} {\\tau}' \\right )} \\operatorname{L_{{n}'}}^{\\left|{{l}'}\\right|}{\\left (a {\\tau}'^{2} \\right )}\\, d{\\tau}'$$"
      ],
      "text/plain": [
       "                                       ∞                                      \n",
       "                                       ⌠                                      \n",
       "                                       ⎮                                      \n",
       " -l + l′     │l′│    -│l′│             ⎮   │l′│ + 1                   │l′│⎛   \n",
       "ⅈ       ⋅c_n′    ⋅τ_b     ⋅J_l(-ωₓᵢ⋅τ)⋅⎮ τ′        ⋅J_l′(-ωₓᵢ⋅τ′)⋅L_n′    ⎝a⋅τ\n",
       "                                       ⌡                                      \n",
       "                                       0                                      \n",
       "\n",
       "                 \n",
       "                 \n",
       "          2      \n",
       " 2⎞  -b⋅τ′       \n",
       "′ ⎠⋅ℯ       d(τ′)\n",
       "                 \n",
       "                 "
      ]
     },
     "execution_count": 7,
     "metadata": {},
     "output_type": "execute_result"
    }
   ],
   "source": [
    "newexpr=fact*simplify(Integral(newexpr/fact,(tauprime,0,oo)))\n",
    "\n",
    "newexpr"
   ]
  },
  {
   "cell_type": "markdown",
   "metadata": {},
   "source": [
    "### 1.2) Laguerre integral from Chao"
   ]
  },
  {
   "cell_type": "markdown",
   "metadata": {},
   "source": [
    "Integral as from Chao p.316, table 6.3, formula 3"
   ]
  },
  {
   "cell_type": "code",
   "execution_count": 8,
   "metadata": {
    "collapsed": false
   },
   "outputs": [
    {
     "data": {
      "text/latex": [
       "$$\\int_{0}^{\\infty} x^{{l}' + 1} \\operatorname{J_{{l}'}}{\\left (x y \\right )} \\operatorname{L_{{n}'}}^{{l}'}{\\left (\\alpha x^{2} \\right )} e^{- \\eta x^{2}}\\, dx$$"
      ],
      "text/plain": [
       "∞                                         \n",
       "⌠                                         \n",
       "⎮                                     2   \n",
       "⎮  l′ + 1               l′⎛   2⎞  -η⋅x    \n",
       "⎮ x      ⋅J_l′(x⋅y)⋅L_n′  ⎝α⋅x ⎠⋅ℯ      dx\n",
       "⌡                                         \n",
       "0                                         "
      ]
     },
     "execution_count": 8,
     "metadata": {},
     "output_type": "execute_result"
    }
   ],
   "source": [
    "eta, alpha, y = symbols('eta, alpha, y')\n",
    "\n",
    "laguerre_lhs=Integral(x**(lprime+1) *exp(-eta*x**2) *Jlprime(x*y)* Lnprime(alpha * x**2)**lprime,(x, 0, oo))\n",
    "\n",
    "laguerre_lhs"
   ]
  },
  {
   "cell_type": "code",
   "execution_count": 9,
   "metadata": {
    "collapsed": false
   },
   "outputs": [
    {
     "data": {
      "text/latex": [
       "$$\\int_{0}^{\\infty} \\frac{{\\tau}'^{\\left|{{l}'}\\right| + 1}}{e^{b {\\tau}'^{2}}} \\operatorname{J_{{l}'}}{\\left (- \\omega_{\\xi} {\\tau}' \\right )} \\operatorname{L_{{n}'}}^{\\left|{{l}'}\\right|}{\\left (a {\\tau}'^{2} \\right )}\\, d{\\tau}'$$"
      ],
      "text/plain": [
       "∞                                                       \n",
       "⌠                                                       \n",
       "⎮                                                2      \n",
       "⎮   │l′│ + 1                   │l′│⎛    2⎞  -b⋅τ′       \n",
       "⎮ τ′        ⋅J_l′(-ωₓᵢ⋅τ′)⋅L_n′    ⎝a⋅τ′ ⎠⋅ℯ       d(τ′)\n",
       "⌡                                                       \n",
       "0                                                       "
      ]
     },
     "execution_count": 9,
     "metadata": {},
     "output_type": "execute_result"
    }
   ],
   "source": [
    "temp=laguerre_lhs.subs(alpha,a).subs(lprime,abs(lprime)).subs(y,-omegaxi).subs(eta,b)\n",
    "laguerre1_lhs=temp.transform(x,tauprime)\n",
    "\n",
    "laguerre1_lhs"
   ]
  },
  {
   "cell_type": "markdown",
   "metadata": {},
   "source": [
    "Solution"
   ]
  },
  {
   "cell_type": "code",
   "execution_count": 10,
   "metadata": {
    "collapsed": false
   },
   "outputs": [
    {
     "data": {
      "text/latex": [
       "$$2^{- {l}' - 1} \\eta^{- {l}' - {n}' - 1} y^{{l}'} \\left(- \\alpha + \\eta\\right)^{{n}'} \\operatorname{L_{{n}'}}^{{l}'}{\\left (\\frac{\\alpha y^{2}}{4 \\eta \\left(\\alpha - \\eta\\right)} \\right )} e^{- \\frac{y^{2}}{4 \\eta}}$$"
      ],
      "text/plain": [
       "                                                             2 \n",
       "                                                           -y  \n",
       "                                            ⎛       2   ⎞  ────\n",
       " -l′ - 1  -l′ - n′ - 1  l′         n′     l′⎜    α⋅y    ⎟  4⋅η \n",
       "2       ⋅η            ⋅y  ⋅(-α + η)  ⋅L_n′  ⎜───────────⎟⋅ℯ    \n",
       "                                            ⎝4⋅η⋅(α - η)⎠      "
      ]
     },
     "execution_count": 10,
     "metadata": {},
     "output_type": "execute_result"
    }
   ],
   "source": [
    "laguerre_rhs=(eta- alpha)**nprime/(2**(lprime+1)*eta**(lprime+nprime+1))*y**lprime*exp(-y**2/(4*eta))*\\\n",
    "Lnprime(alpha*y**2/(4*eta*(alpha-eta)))**lprime\n",
    "laguerre_rhs"
   ]
  },
  {
   "cell_type": "code",
   "execution_count": 11,
   "metadata": {
    "collapsed": false
   },
   "outputs": [
    {
     "data": {
      "text/latex": [
       "$$\\frac{b^{- {n}' - \\left|{{l}'}\\right| - 1} \\left(- \\omega_{\\xi}\\right)^{\\left|{{l}'}\\right|}}{2^{\\left|{{l}'}\\right| + 1} e^{\\frac{\\omega_{\\xi}^{2}}{4 b}}} \\left(- a + b\\right)^{{n}'} \\operatorname{L_{{n}'}}^{\\left|{{l}'}\\right|}{\\left (\\frac{a \\omega_{\\xi}^{2}}{4 b \\left(a - b\\right)} \\right )}$$"
      ],
      "text/plain": [
       "                                                                            2 \n",
       "                                                                        -ωₓᵢ  \n",
       "                                                         ⎛        2  ⎞  ──────\n",
       " -│l′│ - 1  -n′ - │l′│ - 1       │l′│         n′     │l′│⎜   a⋅ωₓᵢ   ⎟   4⋅b  \n",
       "2         ⋅b              ⋅(-ωₓᵢ)    ⋅(-a + b)  ⋅L_n′    ⎜───────────⎟⋅ℯ      \n",
       "                                                         ⎝4⋅b⋅(a - b)⎠        "
      ]
     },
     "execution_count": 11,
     "metadata": {},
     "output_type": "execute_result"
    }
   ],
   "source": [
    "laguerre1_rhs=laguerre_rhs.subs(alpha,a).subs(lprime,abs(lprime)).subs(y,-omegaxi).subs(eta,b)\n",
    "\n",
    "laguerre1_rhs"
   ]
  },
  {
   "cell_type": "markdown",
   "metadata": {},
   "source": [
    "### 1.3)  Substituting Laguerre 1 in DELPHI's expression"
   ]
  },
  {
   "cell_type": "code",
   "execution_count": 12,
   "metadata": {
    "collapsed": false
   },
   "outputs": [
    {
     "data": {
      "text/latex": [
       "$$\\sum_{\\substack{-\\infty \\leq {l}' \\leq \\infty\\\\0 \\leq {n}' \\leq \\infty}} \\frac{i^{- l + {l}'} b^{- {n}' - \\left|{{l}'}\\right| - 1}}{2^{\\left|{{l}'}\\right| + 1} e^{\\frac{\\omega_{\\xi}^{2}}{4 b}}} \\left(- \\frac{c_{{n}'} \\omega_{\\xi}}{\\tau_{b}} \\operatorname{L_{{n}'}}{\\left (\\frac{a \\omega_{\\xi}^{2}}{4 b \\left(a - b\\right)} \\right )}\\right)^{\\left|{{l}'}\\right|} \\left(- a + b\\right)^{{n}'} \\operatorname{J_{l}}{\\left (- \\omega_{\\xi} \\tau \\right )}$$"
      ],
      "text/plain": [
       "  ∞       ∞                                                                   \n",
       "______  ______                                                                \n",
       "╲       ╲                                                                     \n",
       " ╲       ╲                                                                    \n",
       "  ╲       ╲                                        ⎛              ⎛        2  \n",
       "   ╲       ╲                                       ⎜              ⎜   a⋅ωₓᵢ   \n",
       "    ╲       ╲                                      ⎜-c_n′⋅ωₓᵢ⋅L_n′⎜───────────\n",
       "    ╱       ╱   -│l′│ - 1  -l + l′  -n′ - │l′│ - 1 ⎜              ⎝4⋅b⋅(a - b)\n",
       "   ╱       ╱   2         ⋅ⅈ       ⋅b              ⋅⎜──────────────────────────\n",
       "  ╱       ╱                                        ⎝            τ_b           \n",
       " ╱       ╱                                                                    \n",
       "╱       ╱                                                                     \n",
       "‾‾‾‾‾‾  ‾‾‾‾‾‾                                                                \n",
       "n′ = 0 l′ = -∞                                                                \n",
       "\n",
       "                                      \n",
       "                                      \n",
       "                                      \n",
       "   │l′│                               \n",
       "⎞ ⎞                                 2 \n",
       "⎟ ⎟                             -ωₓᵢ  \n",
       "⎟ ⎟                             ──────\n",
       "⎠ ⎟             n′               4⋅b  \n",
       "──⎟    ⋅(-a + b)  ⋅J_l(-ωₓᵢ⋅τ)⋅ℯ      \n",
       "  ⎠                                   \n",
       "                                      \n",
       "                                      \n",
       "                                      \n",
       "                                      "
      ]
     },
     "execution_count": 12,
     "metadata": {},
     "output_type": "execute_result"
    }
   ],
   "source": [
    "newexpr0=Sum(simplify(newexpr.subs(laguerre1_lhs,laguerre1_rhs)),(lprime, -oo, oo),(nprime, 0, oo))\n",
    "newexpr0"
   ]
  },
  {
   "cell_type": "code",
   "execution_count": 13,
   "metadata": {
    "collapsed": false
   },
   "outputs": [
    {
     "data": {
      "text/latex": [
       "$$\\frac{i^{- l + {l}'} b^{- {n}' - \\left|{{l}'}\\right| - 1}}{2^{\\left|{{l}'}\\right| + 1} e^{\\frac{\\omega_{\\xi}^{2}}{4 b}}} \\left(- a + b\\right)^{{n}'} \\operatorname{J_{l}}{\\left (- \\omega_{\\xi} \\tau \\right )}$$"
      ],
      "text/plain": [
       "                                                                2 \n",
       "                                                            -ωₓᵢ  \n",
       "                                                            ──────\n",
       " -│l′│ - 1  -l + l′  -n′ - │l′│ - 1         n′               4⋅b  \n",
       "2         ⋅ⅈ       ⋅b              ⋅(-a + b)  ⋅J_l(-ωₓᵢ⋅τ)⋅ℯ      "
      ]
     },
     "execution_count": 13,
     "metadata": {},
     "output_type": "execute_result"
    }
   ],
   "source": [
    "np.prod([newexpr0.args[0].args[ii] for ii in [0,1,2,4,5,6]])"
   ]
  },
  {
   "cell_type": "code",
   "execution_count": 14,
   "metadata": {
    "collapsed": false
   },
   "outputs": [
    {
     "data": {
      "text/latex": [
       "$$\\left(- \\frac{c_{{n}'} \\omega_{\\xi}}{\\tau_{b}}\\right)^{\\left|{{l}'}\\right|} \\operatorname{L_{{n}'}}^{\\left|{{l}'}\\right|}{\\left (\\frac{a \\omega_{\\xi}^{2}}{4 b \\left(a - b\\right)} \\right )}$$"
      ],
      "text/plain": [
       "            │l′│         ⎛        2  ⎞\n",
       "⎛-c_n′⋅ωₓᵢ ⎞         │l′│⎜   a⋅ωₓᵢ   ⎟\n",
       "⎜──────────⎟    ⋅L_n′    ⎜───────────⎟\n",
       "⎝   τ_b    ⎠             ⎝4⋅b⋅(a - b)⎠"
      ]
     },
     "execution_count": 14,
     "metadata": {},
     "output_type": "execute_result"
    }
   ],
   "source": [
    "(np.prod([newexpr0.args[0].args[3].args[0].args[ii] for ii in [0,1,2,3]]))**\\\n",
    "(newexpr0.args[0].args[3].args[1])*\\\n",
    "(newexpr0.args[0].args[3].args[0].args[4])**(newexpr0.args[0].args[3].args[1])"
   ]
  },
  {
   "cell_type": "code",
   "execution_count": 15,
   "metadata": {
    "collapsed": false
   },
   "outputs": [
    {
     "data": {
      "text/latex": [
       "$$\\frac{i^{- l + {l}'} b^{- {n}' - \\left|{{l}'}\\right| - 1}}{2^{\\left|{{l}'}\\right| + 1} e^{\\frac{\\omega_{\\xi}^{2}}{4 b}}} \\left(- \\frac{c_{{n}'} \\omega_{\\xi}}{\\tau_{b}}\\right)^{\\left|{{l}'}\\right|} \\left(- a + b\\right)^{{n}'} \\operatorname{J_{l}}{\\left (- \\omega_{\\xi} \\tau \\right )} \\operatorname{L_{{n}'}}^{\\left|{{l}'}\\right|}{\\left (\\frac{a \\omega_{\\xi}^{2}}{4 b \\left(a - b\\right)} \\right )}$$"
      ],
      "text/plain": [
       "                                                                              \n",
       "                                                                              \n",
       "                                                │l′│                          \n",
       " -│l′│ - 1  -l + l′  -n′ - │l′│ - 1 ⎛-c_n′⋅ωₓᵢ ⎞             n′               \n",
       "2         ⋅ⅈ       ⋅b              ⋅⎜──────────⎟    ⋅(-a + b)  ⋅J_l(-ωₓᵢ⋅τ)⋅L_\n",
       "                                    ⎝   τ_b    ⎠                              \n",
       "\n",
       "                         2 \n",
       "                     -ωₓᵢ  \n",
       "      ⎛        2  ⎞  ──────\n",
       "  │l′│⎜   a⋅ωₓᵢ   ⎟   4⋅b  \n",
       "n′    ⎜───────────⎟⋅ℯ      \n",
       "      ⎝4⋅b⋅(a - b)⎠        "
      ]
     },
     "execution_count": 15,
     "metadata": {},
     "output_type": "execute_result"
    }
   ],
   "source": [
    "newexpr0=np.prod([newexpr0.args[0].args[ii] for ii in [0,1,2,4,5,6]])*\\\n",
    "(np.prod([newexpr0.args[0].args[3].args[0].args[ii] for ii in [0,1,2,3]]))**\\\n",
    "(newexpr0.args[0].args[3].args[1])*\\\n",
    "(newexpr0.args[0].args[3].args[0].args[4])**(newexpr0.args[0].args[3].args[1])\n",
    "newexpr0"
   ]
  },
  {
   "cell_type": "code",
   "execution_count": 16,
   "metadata": {
    "collapsed": false
   },
   "outputs": [
    {
     "data": {
      "text/latex": [
       "$$\\sum_{\\substack{-\\infty \\leq {l}' \\leq \\infty\\\\0 \\leq {n}' \\leq \\infty}} \\frac{i^{- l + {l}'} b^{- {n}' - \\left|{{l}'}\\right| - 1}}{2^{\\left|{{l}'}\\right| + 1} e^{\\frac{\\omega_{\\xi}^{2}}{4 b}}} \\left(- \\frac{c_{{n}'} \\omega_{\\xi}}{\\tau_{b}}\\right)^{\\left|{{l}'}\\right|} \\left(- a + b\\right)^{{n}'} \\operatorname{J_{l}}{\\left (- \\omega_{\\xi} \\tau \\right )} \\operatorname{L_{{n}'}}^{\\left|{{l}'}\\right|}{\\left (\\frac{a \\omega_{\\xi}^{2}}{4 b \\left(a - b\\right)} \\right )}$$"
      ],
      "text/plain": [
       "  ∞       ∞                                                                   \n",
       "_____   _____                                                                 \n",
       "╲       ╲                                                                     \n",
       " ╲       ╲                                                                    \n",
       "  ╲       ╲                                                                   \n",
       "   ╲       ╲                                                   │l′│           \n",
       "   ╱       ╱    -│l′│ - 1  -l + l′  -n′ - │l′│ - 1 ⎛-c_n′⋅ωₓᵢ ⎞             n′\n",
       "  ╱       ╱    2         ⋅ⅈ       ⋅b              ⋅⎜──────────⎟    ⋅(-a + b)  \n",
       " ╱       ╱                                         ⎝   τ_b    ⎠               \n",
       "╱       ╱                                                                     \n",
       "‾‾‾‾‾   ‾‾‾‾‾                                                                 \n",
       "n′ = 0 l′ = -∞                                                                \n",
       "\n",
       "                                          \n",
       "                                          \n",
       "                                          \n",
       "                                        2 \n",
       "                                    -ωₓᵢ  \n",
       "                     ⎛        2  ⎞  ──────\n",
       "                 │l′│⎜   a⋅ωₓᵢ   ⎟   4⋅b  \n",
       "⋅J_l(-ωₓᵢ⋅τ)⋅L_n′    ⎜───────────⎟⋅ℯ      \n",
       "                     ⎝4⋅b⋅(a - b)⎠        \n",
       "                                          \n",
       "                                          \n",
       "                                          "
      ]
     },
     "execution_count": 16,
     "metadata": {},
     "output_type": "execute_result"
    }
   ],
   "source": [
    "newexpr0 = Sum(newexpr0, (lprime, -oo, oo), (nprime, 0, oo))\n",
    "newexpr0"
   ]
  },
  {
   "cell_type": "markdown",
   "metadata": {},
   "source": [
    "### 1.4) Product with $\\frac{\\mu}{\\omega_0} k g_0$"
   ]
  },
  {
   "cell_type": "code",
   "execution_count": 17,
   "metadata": {
    "collapsed": false
   },
   "outputs": [
    {
     "data": {
      "text/latex": [
       "$$\\frac{\\kappa \\mu}{\\omega_{0} e^{b \\tau^{2}}} \\left(\\sum_{k=0}^{n_{0}} g_{k} \\operatorname{L^{0}_{k}}{\\left (a \\tau^{2} \\right )}\\right) \\sum_{\\substack{-\\infty \\leq {l}' \\leq \\infty\\\\0 \\leq {n}' \\leq \\infty}} \\frac{i^{- l + {l}'} b^{- {n}' - \\left|{{l}'}\\right| - 1}}{2^{\\left|{{l}'}\\right| + 1} e^{\\frac{\\omega_{\\xi}^{2}}{4 b}}} \\left(- \\frac{c_{{n}'} \\omega_{\\xi}}{\\tau_{b}}\\right)^{\\left|{{l}'}\\right|} \\left(- a + b\\right)^{{n}'} \\operatorname{J_{l}}{\\left (- \\omega_{\\xi} \\tau \\right )} \\operatorname{L_{{n}'}}^{\\left|{{l}'}\\right|}{\\left (\\frac{a \\omega_{\\xi}^{2}}{4 b \\left(a - b\\right)} \\right )}$$"
      ],
      "text/plain": [
       "                                      ∞       ∞                               \n",
       "                                    _____   _____                             \n",
       "           ⎛  n₀                  ⎞ ╲       ╲                                 \n",
       "           ⎜ ___                  ⎟  ╲       ╲                                \n",
       "         2 ⎜ ╲                    ⎟   ╲       ╲                               \n",
       "     -b⋅τ  ⎜  ╲             ⎛   2⎞⎟    ╲       ╲                              \n",
       "κ⋅μ⋅ℯ     ⋅⎜  ╱   g_k⋅L_k__0⎝a⋅τ ⎠⎟⋅   ╱       ╱    -│l′│ - 1  -l + l′  -n′ - \n",
       "           ⎜ ╱                    ⎟   ╱       ╱    2         ⋅ⅈ       ⋅b      \n",
       "           ⎜ ‾‾‾                  ⎟  ╱       ╱                                \n",
       "           ⎝k = 0                 ⎠ ╱       ╱                                 \n",
       "                                    ‾‾‾‾‾   ‾‾‾‾‾                             \n",
       "                                    n′ = 0 l′ = -∞                            \n",
       "──────────────────────────────────────────────────────────────────────────────\n",
       "                                                                             ω\n",
       "\n",
       "                                                                              \n",
       "                                                                              \n",
       "                                                                              \n",
       "                                                                            2 \n",
       "                                                                        -ωₓᵢ  \n",
       "                     │l′│                                ⎛        2  ⎞  ──────\n",
       "│l′│ - 1 ⎛-c_n′⋅ωₓᵢ ⎞             n′                 │l′│⎜   a⋅ωₓᵢ   ⎟   4⋅b  \n",
       "        ⋅⎜──────────⎟    ⋅(-a + b)  ⋅J_l(-ωₓᵢ⋅τ)⋅L_n′    ⎜───────────⎟⋅ℯ      \n",
       "         ⎝   τ_b    ⎠                                    ⎝4⋅b⋅(a - b)⎠        \n",
       "                                                                              \n",
       "                                                                              \n",
       "                                                                              \n",
       "──────────────────────────────────────────────────────────────────────────────\n",
       "₀                                                                             "
      ]
     },
     "execution_count": 17,
     "metadata": {},
     "output_type": "execute_result"
    }
   ],
   "source": [
    "kappa = symbols('kappa')\n",
    "mu, omega0 = symbols(\"mu omega_0\")\n",
    "\n",
    "newexpr2 = mu/omega0 * kappa * g0* newexpr0\n",
    "\n",
    "newexpr2"
   ]
  },
  {
   "cell_type": "raw",
   "metadata": {
    "collapsed": false
   },
   "source": [
    "newexpr2.args"
   ]
  },
  {
   "cell_type": "raw",
   "metadata": {},
   "source": [
    "newexpr2.args[4].args"
   ]
  },
  {
   "cell_type": "code",
   "execution_count": 18,
   "metadata": {
    "collapsed": false
   },
   "outputs": [],
   "source": [
    "newexpr3 = \\\n",
    "newexpr2.args[0]*\\\n",
    "newexpr2.args[1]*\\\n",
    "newexpr2.args[2]*\\\n",
    "newexpr2.args[3].args[0]*\\\n",
    "newexpr2.args[4].args[0]*\\\n",
    "newexpr2.args[5]"
   ]
  },
  {
   "cell_type": "markdown",
   "metadata": {},
   "source": [
    "The product, once the sums have been put in front\n",
    "\n",
    "!!! The sums are not written !!! They are on $0 \\leq n' \\leq \\infty$\n",
    "\n",
    "$-\\infty \\leq l' \\leq \\infty$\n",
    "\n",
    "$0 \\leq k \\leq n_0$"
   ]
  },
  {
   "cell_type": "code",
   "execution_count": 19,
   "metadata": {
    "collapsed": false
   },
   "outputs": [
    {
     "data": {
      "text/latex": [
       "$$\\frac{i^{- l + {l}'} b^{- {n}' - \\left|{{l}'}\\right| - 1} g_{k} \\kappa \\mu \\left(- \\frac{c_{{n}'} \\omega_{\\xi}}{\\tau_{b}}\\right)^{\\left|{{l}'}\\right|}}{2^{\\left|{{l}'}\\right| + 1} \\omega_{0} e^{\\frac{\\omega_{\\xi}^{2}}{4 b}} e^{b \\tau^{2}}} \\left(- a + b\\right)^{{n}'} \\operatorname{J_{l}}{\\left (- \\omega_{\\xi} \\tau \\right )} \\operatorname{L^{0}_{k}}{\\left (a \\tau^{2} \\right )} \\operatorname{L_{{n}'}}^{\\left|{{l}'}\\right|}{\\left (\\frac{a \\omega_{\\xi}^{2}}{4 b \\left(a - b\\right)} \\right )}$$"
      ],
      "text/plain": [
       "                                                                              \n",
       "                                                                              \n",
       "                                                        │l′│                  \n",
       " -│l′│ - 1  -l + l′  -n′ - │l′│ - 1         ⎛-c_n′⋅ωₓᵢ ⎞             n′       \n",
       "2         ⋅ⅈ       ⋅b              ⋅g_k⋅κ⋅μ⋅⎜──────────⎟    ⋅(-a + b)  ⋅J_l(-ω\n",
       "                                            ⎝   τ_b    ⎠                      \n",
       "──────────────────────────────────────────────────────────────────────────────\n",
       "                                                                  ω₀          \n",
       "\n",
       "                                              2        \n",
       "                                          -ωₓᵢ         \n",
       "                           ⎛        2  ⎞  ──────      2\n",
       "            ⎛   2⎞     │l′│⎜   a⋅ωₓᵢ   ⎟   4⋅b    -b⋅τ \n",
       "ₓᵢ⋅τ)⋅L_k__0⎝a⋅τ ⎠⋅L_n′    ⎜───────────⎟⋅ℯ      ⋅ℯ     \n",
       "                           ⎝4⋅b⋅(a - b)⎠               \n",
       "───────────────────────────────────────────────────────\n",
       "                                                       "
      ]
     },
     "execution_count": 19,
     "metadata": {},
     "output_type": "execute_result"
    }
   ],
   "source": [
    "newexpr3"
   ]
  },
  {
   "cell_type": "markdown",
   "metadata": {},
   "source": [
    "### 1.5) Multiplying by the weight function and integrating in $\\tau$"
   ]
  },
  {
   "cell_type": "markdown",
   "metadata": {},
   "source": [
    "The weight function is necessary for the orthogonality on the LHS"
   ]
  },
  {
   "cell_type": "code",
   "execution_count": 37,
   "metadata": {
    "collapsed": false
   },
   "outputs": [
    {
     "data": {
      "text/latex": [
       "$$2 a a^{\\left|{l}\\right|} \\tau \\tau^{\\left|{l}\\right|} \\operatorname{L_{n}}^{\\left|{l}\\right|}{\\left (a \\tau^{2} \\right )} e^{\\tau^{2} \\left(- a + b\\right)}$$"
      ],
      "text/plain": [
       "                               2         \n",
       "     │l│    │l│    │l│⎛   2⎞  τ ⋅(-a + b)\n",
       "2⋅a⋅a   ⋅τ⋅τ   ⋅L_n   ⎝a⋅τ ⎠⋅ℯ           "
      ]
     },
     "execution_count": 37,
     "metadata": {},
     "output_type": "execute_result"
    }
   ],
   "source": [
    "qy0, omega0, omegas = symbols('Q_y_0 omega_0 omega_s')\n",
    "\n",
    "weight = Ln(a*tau**2)**abs(l)*exp((-a+b)*tau**2)*tau**abs(l)*2*a*tau*a**(abs(l))\n",
    "weight"
   ]
  },
  {
   "cell_type": "code",
   "execution_count": 21,
   "metadata": {
    "collapsed": false
   },
   "outputs": [
    {
     "data": {
      "text/latex": [
       "$$\\frac{2 i^{- l + {l}'} a a^{\\left|{l}\\right|} g_{k} \\kappa \\mu \\tau \\tau^{\\left|{l}\\right|} \\left(- \\frac{c_{{n}'} \\omega_{\\xi}}{\\tau_{b}}\\right)^{\\left|{{l}'}\\right|}}{2^{\\left|{{l}'}\\right| + 1} \\omega_{0} e^{\\frac{\\omega_{\\xi}^{2}}{4 b}} e^{b \\tau^{2}}} b^{- {n}' - \\left|{{l}'}\\right| - 1} \\left(- a + b\\right)^{{n}'} \\operatorname{J_{l}}{\\left (- \\omega_{\\xi} \\tau \\right )} \\operatorname{L^{0}_{k}}{\\left (a \\tau^{2} \\right )} \\operatorname{L_{n}}^{\\left|{l}\\right|}{\\left (a \\tau^{2} \\right )} \\operatorname{L_{{n}'}}^{\\left|{{l}'}\\right|}{\\left (\\frac{a \\omega_{\\xi}^{2}}{4 b \\left(a - b\\right)} \\right )} e^{\\tau^{2} \\left(- a + b\\right)}$$"
      ],
      "text/plain": [
       "                                                                              \n",
       "                                                                              \n",
       "                                                                        │l′│  \n",
       "   -│l′│ - 1  -l + l′    │l│  -n′ - │l′│ - 1            │l│ ⎛-c_n′⋅ωₓᵢ ⎞      \n",
       "2⋅2         ⋅ⅈ       ⋅a⋅a   ⋅b              ⋅g_k⋅κ⋅μ⋅τ⋅τ   ⋅⎜──────────⎟    ⋅(\n",
       "                                                            ⎝   τ_b    ⎠      \n",
       "──────────────────────────────────────────────────────────────────────────────\n",
       "                                                                              \n",
       "\n",
       "                                                                           2  \n",
       "                                                                       -ωₓᵢ   \n",
       "                                                        ⎛        2  ⎞  ────── \n",
       "       n′                   ⎛   2⎞    │l│⎛   2⎞     │l′│⎜   a⋅ωₓᵢ   ⎟   4⋅b   \n",
       "-a + b)  ⋅J_l(-ωₓᵢ⋅τ)⋅L_k__0⎝a⋅τ ⎠⋅L_n   ⎝a⋅τ ⎠⋅L_n′    ⎜───────────⎟⋅ℯ      ⋅\n",
       "                                                        ⎝4⋅b⋅(a - b)⎠         \n",
       "──────────────────────────────────────────────────────────────────────────────\n",
       "         ω₀                                                                   \n",
       "\n",
       "                   \n",
       "                   \n",
       "     2   2         \n",
       " -b⋅τ   τ ⋅(-a + b)\n",
       "ℯ     ⋅ℯ           \n",
       "                   \n",
       "───────────────────\n",
       "                   "
      ]
     },
     "execution_count": 21,
     "metadata": {},
     "output_type": "execute_result"
    }
   ],
   "source": [
    "rhs_out = newexpr3*weight\n",
    "rhs_out"
   ]
  },
  {
   "cell_type": "raw",
   "metadata": {},
   "source": [
    "rhs_out.args"
   ]
  },
  {
   "cell_type": "code",
   "execution_count": 22,
   "metadata": {
    "collapsed": false
   },
   "outputs": [
    {
     "data": {
      "text/latex": [
       "$$\\frac{2 i^{- l + {l}'} a a^{\\left|{l}\\right|} g_{k} \\kappa \\mu}{2^{\\left|{{l}'}\\right| + 1} \\omega_{0} e^{\\frac{\\omega_{\\xi}^{2}}{4 b}}} b^{- {n}' - \\left|{{l}'}\\right| - 1} \\left(- \\frac{c_{{n}'} \\omega_{\\xi}}{\\tau_{b}}\\right)^{\\left|{{l}'}\\right|} \\left(- a + b\\right)^{{n}'} \\operatorname{L_{{n}'}}^{\\left|{{l}'}\\right|}{\\left (\\frac{a \\omega_{\\xi}^{2}}{4 b \\left(a - b\\right)} \\right )}$$"
      ],
      "text/plain": [
       "                                                                              \n",
       "                                                                              \n",
       "                                                                 │l′│         \n",
       "   -│l′│ - 1  -l + l′    │l│  -n′ - │l′│ - 1         ⎛-c_n′⋅ωₓᵢ ⎞             \n",
       "2⋅2         ⋅ⅈ       ⋅a⋅a   ⋅b              ⋅g_k⋅κ⋅μ⋅⎜──────────⎟    ⋅(-a + b)\n",
       "                                                     ⎝   τ_b    ⎠             \n",
       "──────────────────────────────────────────────────────────────────────────────\n",
       "                                                      ω₀                      \n",
       "\n",
       "                              2 \n",
       "                          -ωₓᵢ  \n",
       "           ⎛        2  ⎞  ──────\n",
       "n′     │l′│⎜   a⋅ωₓᵢ   ⎟   4⋅b  \n",
       "  ⋅L_n′    ⎜───────────⎟⋅ℯ      \n",
       "           ⎝4⋅b⋅(a - b)⎠        \n",
       "────────────────────────────────\n",
       "                                "
      ]
     },
     "execution_count": 22,
     "metadata": {},
     "output_type": "execute_result"
    }
   ],
   "source": [
    "args=np.array(rhs_out.args)\n",
    "\n",
    "rhs_fact=np.prod([args[ii] for ii in [0,1,2,3,4,6,7,8,9,10,12,13,15,20]])\n",
    "\n",
    "rhs_fact"
   ]
  },
  {
   "cell_type": "markdown",
   "metadata": {},
   "source": [
    "And integrating in $\\tau$"
   ]
  },
  {
   "cell_type": "code",
   "execution_count": 23,
   "metadata": {
    "collapsed": false
   },
   "outputs": [
    {
     "data": {
      "text/latex": [
       "$$\\int_{0}^{\\infty} \\frac{\\tau^{\\left|{l}\\right| + 1}}{e^{a \\tau^{2}}} \\operatorname{J_{l}}{\\left (- \\omega_{\\xi} \\tau \\right )} \\operatorname{L^{0}_{k}}{\\left (a \\tau^{2} \\right )} \\operatorname{L_{n}}^{\\left|{l}\\right|}{\\left (a \\tau^{2} \\right )}\\, d\\tau$$"
      ],
      "text/plain": [
       "∞                                                         \n",
       "⌠                                                         \n",
       "⎮                                                     2   \n",
       "⎮  │l│ + 1                   ⎛   2⎞    │l│⎛   2⎞  -a⋅τ    \n",
       "⎮ τ       ⋅J_l(-ωₓᵢ⋅τ)⋅L_k__0⎝a⋅τ ⎠⋅L_n   ⎝a⋅τ ⎠⋅ℯ      dτ\n",
       "⌡                                                         \n",
       "0                                                         "
      ]
     },
     "execution_count": 23,
     "metadata": {},
     "output_type": "execute_result"
    }
   ],
   "source": [
    "#rhs_fact = 2*2**(-Abs(lprime) - 1)*I**(-l + lprime)*a*a**Abs(l)*b**(-nprime - Abs(lprime) - 1)*\\\n",
    "#gk*kappa*(-cnprime*omegaxi/taub)**Abs(lprime)*(-a + b)**nprime*\\\n",
    "#Lnprime(a*omegaxi**2/(4*b*(a - b)))**Abs(lprime)*exp(-omegaxi**2/(4*b))\n",
    "\n",
    "rhs_int = np.prod([args[ii] for ii in [5,11,14,16,17,18,19]])\n",
    "rhs_int = simplify(rhs_int)\n",
    "rhs_int = Integral(rhs_int,(tau,0,oo))\n",
    "\n",
    "rhs_int"
   ]
  },
  {
   "cell_type": "code",
   "execution_count": 24,
   "metadata": {
    "collapsed": false
   },
   "outputs": [
    {
     "data": {
      "text/latex": [
       "$$\\frac{2 i^{- l + {l}'} a a^{\\left|{l}\\right|} g_{k} \\kappa \\mu}{2^{\\left|{{l}'}\\right| + 1} \\omega_{0} e^{\\frac{\\omega_{\\xi}^{2}}{4 b}}} b^{- {n}' - \\left|{{l}'}\\right| - 1} \\left(- \\frac{c_{{n}'} \\omega_{\\xi}}{\\tau_{b}}\\right)^{\\left|{{l}'}\\right|} \\left(- a + b\\right)^{{n}'} \\operatorname{L_{{n}'}}^{\\left|{{l}'}\\right|}{\\left (\\frac{a \\omega_{\\xi}^{2}}{4 b \\left(a - b\\right)} \\right )} \\int_{0}^{\\infty} \\frac{\\tau^{\\left|{l}\\right| + 1}}{e^{a \\tau^{2}}} \\operatorname{J_{l}}{\\left (- \\omega_{\\xi} \\tau \\right )} \\operatorname{L^{0}_{k}}{\\left (a \\tau^{2} \\right )} \\operatorname{L_{n}}^{\\left|{l}\\right|}{\\left (a \\tau^{2} \\right )}\\, d\\tau$$"
      ],
      "text/plain": [
       "                                                                              \n",
       "                                                                              \n",
       "                                                                 │l′│         \n",
       "   -│l′│ - 1  -l + l′    │l│  -n′ - │l′│ - 1         ⎛-c_n′⋅ωₓᵢ ⎞             \n",
       "2⋅2         ⋅ⅈ       ⋅a⋅a   ⋅b              ⋅g_k⋅κ⋅μ⋅⎜──────────⎟    ⋅(-a + b)\n",
       "                                                     ⎝   τ_b    ⎠             \n",
       "                                                                              \n",
       "──────────────────────────────────────────────────────────────────────────────\n",
       "                                                                              \n",
       "\n",
       "                              2  ∞                                            \n",
       "                          -ωₓᵢ   ⌠                                            \n",
       "           ⎛        2  ⎞  ────── ⎮                                            \n",
       "n′     │l′│⎜   a⋅ωₓᵢ   ⎟   4⋅b   ⎮  │l│ + 1                   ⎛   2⎞    │l│⎛  \n",
       "  ⋅L_n′    ⎜───────────⎟⋅ℯ      ⋅⎮ τ       ⋅J_l(-ωₓᵢ⋅τ)⋅L_k__0⎝a⋅τ ⎠⋅L_n   ⎝a⋅\n",
       "           ⎝4⋅b⋅(a - b)⎠         ⌡                                            \n",
       "                                 0                                            \n",
       "──────────────────────────────────────────────────────────────────────────────\n",
       "      ω₀                                                                      \n",
       "\n",
       "             \n",
       "             \n",
       "         2   \n",
       " 2⎞  -a⋅τ    \n",
       "τ ⎠⋅ℯ      dτ\n",
       "             \n",
       "             \n",
       "─────────────\n",
       "             "
      ]
     },
     "execution_count": 24,
     "metadata": {},
     "output_type": "execute_result"
    }
   ],
   "source": [
    "rhs_fact*rhs_int"
   ]
  },
  {
   "cell_type": "markdown",
   "metadata": {
    "collapsed": true
   },
   "source": [
    "### 1.6) Formula form Erdelyi, vol 2, p43, formula 8 "
   ]
  },
  {
   "cell_type": "code",
   "execution_count": 25,
   "metadata": {
    "collapsed": true
   },
   "outputs": [],
   "source": [
    "x, y, alpha, nu, sigma = symbols(\"x y alpha nu sigma\")\n",
    "i, j = symbols(\"i j\")\n",
    "Li, Lj = symbols(\"L_i L_j\", cls=Function)\n",
    "Jnu = symbols(\"J_nu\", cls=Function)"
   ]
  },
  {
   "cell_type": "code",
   "execution_count": 26,
   "metadata": {
    "collapsed": false
   },
   "outputs": [
    {
     "data": {
      "text/latex": [
       "$$\\int_{0}^{\\infty} x^{\\nu + \\frac{1}{2}} \\sqrt{x y} \\operatorname{J_{\\nu}}{\\left (x y \\right )} \\operatorname{L_{i}}^{\\nu - \\sigma}{\\left (\\alpha x^{2} \\right )} \\operatorname{L_{j}}^{\\sigma}{\\left (\\alpha x^{2} \\right )} e^{- \\alpha x^{2}}\\, dx$$"
      ],
      "text/plain": [
       "∞                                                             \n",
       "⌠                                                             \n",
       "⎮                                                         2   \n",
       "⎮  ν + 1/2   _____            ν - σ⎛   2⎞    σ⎛   2⎞  -α⋅x    \n",
       "⎮ x       ⋅╲╱ x⋅y ⋅J_ν(x⋅y)⋅Lᵢ     ⎝α⋅x ⎠⋅L_j ⎝α⋅x ⎠⋅ℯ      dx\n",
       "⌡                                                             \n",
       "0                                                             "
      ]
     },
     "execution_count": 26,
     "metadata": {},
     "output_type": "execute_result"
    }
   ],
   "source": [
    "erdel_int = Integral(x**(nu+S(1)/2)*exp(-alpha*x**2)*Li(alpha*x**2)**(nu-sigma)*\\\n",
    "                      Lj(alpha*x**2)**sigma*Jnu(x*y)*(x*y)**(S(1)/2),(x,0,oo))\n",
    "\n",
    "erdel_int\n",
    "simplify(erdel_int)"
   ]
  },
  {
   "cell_type": "code",
   "execution_count": 27,
   "metadata": {
    "collapsed": false
   },
   "outputs": [
    {
     "data": {
      "text/latex": [
       "$$\\left(-1\\right)^{i + j} y^{\\nu + \\frac{1}{2}} \\left(2 \\alpha\\right)^{- \\nu - 1} \\operatorname{L_{i}}^{i - j + \\nu - \\sigma}{\\left (\\frac{y^{2}}{4 \\alpha} \\right )} \\operatorname{L_{j}}^{- i + j + \\sigma}{\\left (\\frac{y^{2}}{4 \\alpha} \\right )} e^{- \\frac{y^{2}}{4 \\alpha}}$$"
      ],
      "text/plain": [
       "                                                                          2 \n",
       "                                                                        -y  \n",
       "                                              ⎛  2⎞              ⎛  2⎞  ────\n",
       "    i + j  ν + 1/2      -ν - 1   i - j + ν - σ⎜ y ⎟    -i + j + σ⎜ y ⎟  4⋅α \n",
       "(-1)     ⋅y       ⋅(2⋅α)      ⋅Lᵢ             ⎜───⎟⋅L_j          ⎜───⎟⋅ℯ    \n",
       "                                              ⎝4⋅α⎠              ⎝4⋅α⎠      "
      ]
     },
     "execution_count": 27,
     "metadata": {},
     "output_type": "execute_result"
    }
   ],
   "source": [
    "erdel_sol = (-1)**(i+j)*(2*alpha)**(-nu-1)*y**(nu+S(1)/2)*exp(-y**2/(4*alpha))*\\\n",
    "Lj(y**2/(4*alpha))**(sigma-i+j)*Li(y**2/(4*alpha))**(nu-sigma+i-j)\n",
    "\n",
    "erdel_sol"
   ]
  },
  {
   "cell_type": "markdown",
   "metadata": {},
   "source": [
    "### 1.7) Using the formula"
   ]
  },
  {
   "cell_type": "code",
   "execution_count": 28,
   "metadata": {
    "collapsed": false
   },
   "outputs": [
    {
     "data": {
      "text/latex": [
       "$$\\int_{0}^{\\infty} \\frac{\\tau^{\\left|{l}\\right| + 1}}{e^{a \\tau^{2}}} \\operatorname{J_{l}}{\\left (- \\omega_{\\xi} \\tau \\right )} \\operatorname{L^{0}_{k}}{\\left (a \\tau^{2} \\right )} \\operatorname{L_{n}}^{\\left|{l}\\right|}{\\left (a \\tau^{2} \\right )}\\, d\\tau$$"
      ],
      "text/plain": [
       "∞                                                         \n",
       "⌠                                                         \n",
       "⎮                                                     2   \n",
       "⎮  │l│ + 1                   ⎛   2⎞    │l│⎛   2⎞  -a⋅τ    \n",
       "⎮ τ       ⋅J_l(-ωₓᵢ⋅τ)⋅L_k__0⎝a⋅τ ⎠⋅L_n   ⎝a⋅τ ⎠⋅ℯ      dτ\n",
       "⌡                                                         \n",
       "0                                                         "
      ]
     },
     "execution_count": 28,
     "metadata": {},
     "output_type": "execute_result"
    }
   ],
   "source": [
    "rhs_int"
   ]
  },
  {
   "cell_type": "markdown",
   "metadata": {},
   "source": [
    "- sigma is 0\n",
    "- nu is abs(l)\n",
    "- i is n\n",
    "- j is k\n",
    "- y is -omegaxi\n",
    "- alpha is a"
   ]
  },
  {
   "cell_type": "code",
   "execution_count": 29,
   "metadata": {
    "collapsed": false
   },
   "outputs": [
    {
     "data": {
      "text/latex": [
       "$$\\frac{\\left(-1\\right)^{k + n} \\left(- \\omega_{\\xi}\\right)^{\\left|{l}\\right| + \\frac{1}{2}}}{\\left(2 a\\right)^{\\left|{l}\\right| + 1} e^{\\frac{\\omega_{\\xi}^{2}}{4 a}}} \\operatorname{L^{0}_{k}}^{k - n}{\\left (\\frac{\\omega_{\\xi}^{2}}{4 a} \\right )} \\operatorname{L_{n}}^{- k + n + \\left|{l}\\right|}{\\left (\\frac{\\omega_{\\xi}^{2}}{4 a} \\right )}$$"
      ],
      "text/plain": [
       "                                                                              \n",
       "                                                                              \n",
       "                                                   ⎛   2⎞                ⎛   2\n",
       "    k + n       │l│ + 1/2      -│l│ - 1       k - n⎜ωₓᵢ ⎟    -k + n + │l│⎜ωₓᵢ \n",
       "(-1)     ⋅(-ωₓᵢ)         ⋅(2⋅a)        ⋅L_k__0     ⎜────⎟⋅L_n            ⎜────\n",
       "                                                   ⎝4⋅a ⎠                ⎝4⋅a \n",
       "\n",
       "       2 \n",
       "   -ωₓᵢ  \n",
       "⎞  ──────\n",
       "⎟   4⋅a  \n",
       "⎟⋅ℯ      \n",
       "⎠        "
      ]
     },
     "execution_count": 29,
     "metadata": {},
     "output_type": "execute_result"
    }
   ],
   "source": [
    "rhs_simpl = (-omegaxi)**(-S(1)/2)*erdel_sol.subs(y,-omegaxi).subs(alpha,a).subs(nu,Abs(l)).subs(sigma,0)\\\n",
    ".subs(Lj,Lk0).subs(j,k).subs(Li,Ln).subs(i,n)\n",
    "\n",
    "rhs_simpl"
   ]
  },
  {
   "cell_type": "markdown",
   "metadata": {},
   "source": [
    "### 1.8) Putting the two parts together"
   ]
  },
  {
   "cell_type": "code",
   "execution_count": 30,
   "metadata": {
    "collapsed": false
   },
   "outputs": [
    {
     "data": {
      "text/latex": [
       "$$\\frac{2 \\left(-1\\right)^{k + n} i^{- l + {l}'} a a^{\\left|{l}\\right|} b^{- {n}' - \\left|{{l}'}\\right| - 1} g_{k} \\kappa \\mu \\left(- \\omega_{\\xi}\\right)^{\\left|{l}\\right| + \\frac{1}{2}}}{2^{\\left|{{l}'}\\right| + 1} \\omega_{0} \\left(2 a\\right)^{\\left|{l}\\right| + 1} e^{\\frac{\\omega_{\\xi}^{2}}{4 a}} e^{\\frac{\\omega_{\\xi}^{2}}{4 b}}} \\left(- \\frac{c_{{n}'} \\omega_{\\xi}}{\\tau_{b}}\\right)^{\\left|{{l}'}\\right|} \\left(- a + b\\right)^{{n}'} \\operatorname{L^{0}_{k}}^{k - n}{\\left (\\frac{\\omega_{\\xi}^{2}}{4 a} \\right )} \\operatorname{L_{n}}^{- k + n + \\left|{l}\\right|}{\\left (\\frac{\\omega_{\\xi}^{2}}{4 a} \\right )} \\operatorname{L_{{n}'}}^{\\left|{{l}'}\\right|}{\\left (\\frac{a \\omega_{\\xi}^{2}}{4 b \\left(a - b\\right)} \\right )}$$"
      ],
      "text/plain": [
       "                                                                              \n",
       "                                                                              \n",
       "                                                                              \n",
       "      k + n  -│l′│ - 1  -l + l′    │l│  -n′ - │l′│ - 1               │l│ + 1/2\n",
       "2⋅(-1)     ⋅2         ⋅ⅈ       ⋅a⋅a   ⋅b              ⋅g_k⋅κ⋅μ⋅(-ωₓᵢ)         \n",
       "                                                                              \n",
       "──────────────────────────────────────────────────────────────────────────────\n",
       "                                                                              \n",
       "\n",
       "                                                                              \n",
       "                                                                              \n",
       "                           │l′│                       ⎛   2⎞                ⎛ \n",
       "      -│l│ - 1 ⎛-c_n′⋅ωₓᵢ ⎞             n′       k - n⎜ωₓᵢ ⎟    -k + n + │l│⎜ω\n",
       "⋅(2⋅a)        ⋅⎜──────────⎟    ⋅(-a + b)  ⋅L_k__0     ⎜────⎟⋅L_n            ⎜─\n",
       "               ⎝   τ_b    ⎠                           ⎝4⋅a ⎠                ⎝4\n",
       "──────────────────────────────────────────────────────────────────────────────\n",
       "                    ω₀                                                        \n",
       "\n",
       "                                2       2 \n",
       "                            -ωₓᵢ    -ωₓᵢ  \n",
       "  2⎞         ⎛        2  ⎞  ──────  ──────\n",
       "ₓᵢ ⎟     │l′│⎜   a⋅ωₓᵢ   ⎟   4⋅a     4⋅b  \n",
       "───⎟⋅L_n′    ⎜───────────⎟⋅ℯ      ⋅ℯ      \n",
       "⋅a ⎠         ⎝4⋅b⋅(a - b)⎠                \n",
       "──────────────────────────────────────────\n",
       "                                          "
      ]
     },
     "execution_count": 30,
     "metadata": {},
     "output_type": "execute_result"
    }
   ],
   "source": [
    "rhs_fact*rhs_simpl"
   ]
  },
  {
   "cell_type": "code",
   "execution_count": 31,
   "metadata": {
    "collapsed": false
   },
   "outputs": [
    {
     "data": {
      "text/latex": [
       "$$\\frac{\\left(-1\\right)^{k + n} i^{- l + {l}'} a^{\\left|{l}\\right| + 1} g_{k} \\kappa \\mu \\left(- \\omega_{\\xi}\\right)^{\\left|{l}\\right| + \\frac{1}{2}}}{\\omega_{0} \\left(2 a\\right)^{\\left|{l}\\right| + 1} e^{\\frac{\\omega_{\\xi}^{2}}{4} \\left(\\frac{1}{b} + \\frac{1}{a}\\right)}} b^{- {n}' - \\left|{{l}'}\\right| - 1} \\left(- \\frac{c_{{n}'} \\omega_{\\xi}}{2 \\tau_{b}} \\operatorname{L_{{n}'}}{\\left (\\frac{a \\omega_{\\xi}^{2}}{4 b \\left(a - b\\right)} \\right )}\\right)^{\\left|{{l}'}\\right|} \\left(- a + b\\right)^{{n}'} \\operatorname{L^{0}_{k}}^{k - n}{\\left (\\frac{\\omega_{\\xi}^{2}}{4 a} \\right )} \\operatorname{L_{n}}^{- k + n + \\left|{l}\\right|}{\\left (\\frac{\\omega_{\\xi}^{2}}{4 a} \\right )}$$"
      ],
      "text/plain": [
       "                                                                              \n",
       "                                                                              \n",
       "                                                                              \n",
       "                                                                              \n",
       "    k + n  -l + l′  │l│ + 1  -n′ - │l′│ - 1               │l│ + 1/2      -│l│ \n",
       "(-1)     ⋅ⅈ       ⋅a       ⋅b              ⋅g_k⋅κ⋅μ⋅(-ωₓᵢ)         ⋅(2⋅a)     \n",
       "                                                                              \n",
       "──────────────────────────────────────────────────────────────────────────────\n",
       "                                                                              \n",
       "\n",
       "                                  │l′│                                        \n",
       "    ⎛              ⎛        2  ⎞ ⎞                                            \n",
       "    ⎜              ⎜   a⋅ωₓᵢ   ⎟ ⎟                                            \n",
       "    ⎜-c_n′⋅ωₓᵢ⋅L_n′⎜───────────⎟ ⎟                           ⎛   2⎞           \n",
       "- 1 ⎜              ⎝4⋅b⋅(a - b)⎠ ⎟             n′       k - n⎜ωₓᵢ ⎟    -k + n \n",
       "   ⋅⎜────────────────────────────⎟    ⋅(-a + b)  ⋅L_k__0     ⎜────⎟⋅L_n       \n",
       "    ⎝           2⋅τ_b            ⎠                           ⎝4⋅a ⎠           \n",
       "──────────────────────────────────────────────────────────────────────────────\n",
       "             ω₀                                                               \n",
       "\n",
       "                 2 ⎛1   1⎞ \n",
       "             -ωₓᵢ ⋅⎜─ + ─⎟ \n",
       "                   ⎝b   a⎠ \n",
       "     ⎛   2⎞  ──────────────\n",
       "+ │l│⎜ωₓᵢ ⎟        4       \n",
       "     ⎜────⎟⋅ℯ              \n",
       "     ⎝4⋅a ⎠                \n",
       "───────────────────────────\n",
       "                           "
      ]
     },
     "execution_count": 31,
     "metadata": {},
     "output_type": "execute_result"
    }
   ],
   "source": [
    "simplify(rhs_fact*rhs_simpl)"
   ]
  },
  {
   "cell_type": "markdown",
   "metadata": {},
   "source": [
    "With the sums in front"
   ]
  },
  {
   "cell_type": "code",
   "execution_count": 32,
   "metadata": {
    "collapsed": false
   },
   "outputs": [
    {
     "data": {
      "text/latex": [
       "$$\\sum_{\\substack{-\\infty \\leq {l}' \\leq \\infty\\\\0 \\leq {n}' \\leq \\infty\\\\0 \\leq k \\leq n_{0}}} \\frac{2 \\left(-1\\right)^{k + n} i^{- l + {l}'} a a^{\\left|{l}\\right|} b^{- {n}' - \\left|{{l}'}\\right| - 1} g_{k} \\kappa \\mu \\left(- \\omega_{\\xi}\\right)^{\\left|{l}\\right| + \\frac{1}{2}}}{2^{\\left|{{l}'}\\right| + 1} \\omega_{0} \\left(2 a\\right)^{\\left|{l}\\right| + 1} e^{\\frac{\\omega_{\\xi}^{2}}{4 a}} e^{\\frac{\\omega_{\\xi}^{2}}{4 b}}} \\left(- \\frac{c_{{n}'} \\omega_{\\xi}}{\\tau_{b}}\\right)^{\\left|{{l}'}\\right|} \\left(- a + b\\right)^{{n}'} \\operatorname{L^{0}_{k}}^{k - n}{\\left (\\frac{\\omega_{\\xi}^{2}}{4 a} \\right )} \\operatorname{L_{n}}^{- k + n + \\left|{l}\\right|}{\\left (\\frac{\\omega_{\\xi}^{2}}{4 a} \\right )} \\operatorname{L_{{n}'}}^{\\left|{{l}'}\\right|}{\\left (\\frac{a \\omega_{\\xi}^{2}}{4 b \\left(a - b\\right)} \\right )}$$"
      ],
      "text/plain": [
       "  n₀     ∞       ∞                                                            \n",
       "______ ______  ______                                                         \n",
       "╲      ╲       ╲                                                              \n",
       " ╲      ╲       ╲                                                             \n",
       "  ╲      ╲       ╲                                                            \n",
       "   ╲      ╲       ╲                                                           \n",
       "    ╲      ╲       ╲        k + n  -│l′│ - 1  -l + l′    │l│  -n′ - │l′│ - 1  \n",
       "    ╱      ╱       ╱  2⋅(-1)     ⋅2         ⋅ⅈ       ⋅a⋅a   ⋅b              ⋅g\n",
       "   ╱      ╱       ╱                                                           \n",
       "  ╱      ╱       ╱    ────────────────────────────────────────────────────────\n",
       " ╱      ╱       ╱                                                             \n",
       "╱      ╱       ╱                                                              \n",
       "‾‾‾‾‾‾ ‾‾‾‾‾‾  ‾‾‾‾‾‾                                                         \n",
       "k = 0  n′ = 0 l′ = -∞                                                         \n",
       "\n",
       "                                                                              \n",
       "                                                                              \n",
       "                                                                              \n",
       "                                                                              \n",
       "                                                                              \n",
       "                                                 │l′│                       ⎛ \n",
       "             │l│ + 1/2      -│l│ - 1 ⎛-c_n′⋅ωₓᵢ ⎞             n′       k - n⎜ω\n",
       "_k⋅κ⋅μ⋅(-ωₓᵢ)         ⋅(2⋅a)        ⋅⎜──────────⎟    ⋅(-a + b)  ⋅L_k__0     ⎜─\n",
       "                                     ⎝   τ_b    ⎠                           ⎝4\n",
       "──────────────────────────────────────────────────────────────────────────────\n",
       "                                          ω₀                                  \n",
       "                                                                              \n",
       "                                                                              \n",
       "                                                                              \n",
       "\n",
       "                                                                \n",
       "                                                                \n",
       "                                                                \n",
       "                                                      2       2 \n",
       "                                                  -ωₓᵢ    -ωₓᵢ  \n",
       "  2⎞                ⎛   2⎞         ⎛        2  ⎞  ──────  ──────\n",
       "ₓᵢ ⎟    -k + n + │l│⎜ωₓᵢ ⎟     │l′│⎜   a⋅ωₓᵢ   ⎟   4⋅a     4⋅b  \n",
       "───⎟⋅L_n            ⎜────⎟⋅L_n′    ⎜───────────⎟⋅ℯ      ⋅ℯ      \n",
       "⋅a ⎠                ⎝4⋅a ⎠         ⎝4⋅b⋅(a - b)⎠                \n",
       "────────────────────────────────────────────────────────────────\n",
       "                                                                \n",
       "                                                                \n",
       "                                                                \n",
       "                                                                "
      ]
     },
     "execution_count": 32,
     "metadata": {},
     "output_type": "execute_result"
    }
   ],
   "source": [
    "Sum(rhs_fact*rhs_simpl,(lprime,-oo,oo),(nprime,0,oo),(k,0,n0))"
   ]
  },
  {
   "cell_type": "code",
   "execution_count": null,
   "metadata": {
    "collapsed": true
   },
   "outputs": [],
   "source": []
  },
  {
   "cell_type": "code",
   "execution_count": 33,
   "metadata": {
    "collapsed": true
   },
   "outputs": [],
   "source": [
    "import mpmath"
   ]
  },
  {
   "cell_type": "raw",
   "metadata": {
    "collapsed": false
   },
   "source": [
    "n = 3\n",
    "k = 2\n",
    "l = 1\n",
    "\n",
    "f0 = lambda x: mpmath.laguerre(k,n-k,x)\n",
    "f1 = lambda x: mpmath.laguerre(k,-n+k,x)\n",
    "#f2 = lambda x: mpmath.laguerre(k,n-k,x)\n",
    "\n",
    "\n",
    "#mpmath.plot([f0,f1,f2],[0,10],[-10,10])\n",
    "mpmath.plot([f0],[0,10],[-10,10])\n",
    "mpmath.plot([f1],[0,10],[-10,10])"
   ]
  },
  {
   "cell_type": "raw",
   "metadata": {
    "collapsed": false
   },
   "source": [
    "n = 4\n",
    "k = 0\n",
    "l = -2\n",
    "\n",
    "f0 = lambda x: mpmath.laguerre(k,n-k,x)*(-x)**(n-k)/(factorial(n)/factorial(k))*mpmath.laguerre(k,n-k+l,x)\n",
    "f1 = lambda x: mpmath.laguerre(k,n-k+l,x)*mpmath.laguerre(n,k-n,x)\n",
    "f2 = lambda x: (mpmath.laguerre(k,n-k,x)*(-x)**(n-k)/(factorial(n)/factorial(k)))*\\\n",
    "(mpmath.laguerre(n+l,k-n-l,x)*(-x)**(k-n-l)/(factorial(k)/factorial(n+l)))\n",
    "\n",
    "#f2 = lambda x: mpmath.laguerre(k,n-k,x)\n",
    "\n",
    "\n",
    "#mpmath.plot([f0,f1,f2],[0,10],[-10,10])\n",
    "mpmath.plot([f0],[0,10],[-10,10])\n",
    "mpmath.plot([f1],[0,10],[-10,10])\n",
    "mpmath.plot([f2],[0,10],[-10,10])"
   ]
  },
  {
   "cell_type": "raw",
   "metadata": {
    "collapsed": false
   },
   "source": [
    "n = 2\n",
    "k = 0\n",
    "l = 0\n",
    "\n",
    "#Theory\n",
    "f0 = lambda x: mpmath.laguerre(k,k-n,x)*mpmath.laguerre(n,n-k+abs(l),x)\n",
    "\n",
    "#DELPHI\n",
    "f1 = lambda x: mpmath.laguerre(k,n-k+abs(l),x)*mpmath.laguerre(n,k-n,x)\n",
    "#f2 = lambda x: mpmath.laguerre(k,n-k,x)*mpmath.laguerre(n+abs(l),k-n-abs(l),x)*factorial(n+abs(l))/factorial(n)*(-x)**(-abs(l))\n",
    "\n",
    "mpmath.plot([f0],[0,10],[-10,10])\n",
    "mpmath.plot([f1],[0,10],[-10,10])\n",
    "#mpmath.plot([f2],[0,10],[-10,10])\n",
    "\n",
    "n, k, l = symbols(\"n k l\", integer=True)\n"
   ]
  },
  {
   "cell_type": "raw",
   "metadata": {
    "collapsed": false
   },
   "source": [
    "n = 2\n",
    "k = 1\n",
    "l = -1\n",
    "\n",
    "\n",
    "f0 = lambda x: mpmath.laguerre(k,k-n,x)\n",
    "\n",
    "\n",
    "f1 = lambda x: mpmath.laguerre(n,n-k,x)*(x)**(2)\n",
    "#f2 = lambda x: mpmath.laguerre(k,n-k,x)*mpmath.laguerre(n+abs(l),k-n-abs(l),x)*factorial(n+abs(l))/factorial(n)*(-x)**(-abs(l))\n",
    "\n",
    "mpmath.plot([f0],[0,10],[-10,10])\n",
    "mpmath.plot([f1],[0,10],[-10,10])\n",
    "#mpmath.plot([f2],[0,10],[-10,10])\n",
    "\n",
    "n, k, l = symbols(\"n k l\", integer=True)\n"
   ]
  },
  {
   "cell_type": "code",
   "execution_count": null,
   "metadata": {
    "collapsed": true
   },
   "outputs": [],
   "source": []
  },
  {
   "cell_type": "markdown",
   "metadata": {},
   "source": [
    "## 2) RHS Impedance part\n",
    "\n",
    "### 2.1) Expression from DELPHI-expanded.pdf"
   ]
  },
  {
   "cell_type": "markdown",
   "metadata": {},
   "source": [
    "Expression as in DELPHI-expanded, slide 34 (without $ - \\kappa g_0$)"
   ]
  },
  {
   "cell_type": "code",
   "execution_count": 45,
   "metadata": {
    "collapsed": false
   },
   "outputs": [
    {
     "data": {
      "text/latex": [
       "$${\\tau}'$$"
      ],
      "text/plain": [
       "τ′"
      ]
     },
     "execution_count": 45,
     "metadata": {},
     "output_type": "execute_result"
    }
   ],
   "source": [
    "tauprime"
   ]
  },
  {
   "cell_type": "code",
   "execution_count": 47,
   "metadata": {
    "collapsed": false
   },
   "outputs": [],
   "source": [
    "Jl, Jlprime = symbols(\"J_l J_lprime\",cls=Function)\n",
    "Zy = symbols(\"Z_y\",cls=Function)\n",
    "p, omegap = symbols(\"p omega_p\")"
   ]
  },
  {
   "cell_type": "code",
   "execution_count": 48,
   "metadata": {
    "collapsed": false
   },
   "outputs": [
    {
     "data": {
      "text/latex": [
       "$$\\sum_{p=-\\infty}^{\\infty} \\operatorname{J_{l}}{\\left (\\tau \\left(- \\omega_{p} + \\omega_{\\xi}\\right) \\right )} \\operatorname{J_{{l}'}}{\\left ({\\tau}' \\left(- \\omega_{p} + \\omega_{\\xi}\\right) \\right )} \\operatorname{Z_{y}}{\\left (\\omega_{p} \\right )}$$"
      ],
      "text/plain": [
       "  ∞                                                      \n",
       " ___                                                     \n",
       " ╲                                                       \n",
       "  ╲    J_l(τ⋅(-ω_p + ωₓᵢ))⋅J_l′(τ′⋅(-ω_p + ωₓᵢ))⋅Z_y(ω_p)\n",
       "  ╱                                                      \n",
       " ╱                                                       \n",
       " ‾‾‾                                                     \n",
       "p = -∞                                                   "
      ]
     },
     "execution_count": 48,
     "metadata": {},
     "output_type": "execute_result"
    }
   ],
   "source": [
    "impsum = Sum(Zy(omegap)*Jl((omegaxi-omegap)*tau)*Jlprime((omegaxi-omegap)*tauprime),(p,-oo,oo))\n",
    "impsum"
   ]
  },
  {
   "cell_type": "code",
   "execution_count": 49,
   "metadata": {
    "collapsed": false
   },
   "outputs": [
    {
     "data": {
      "text/latex": [
       "$$\\sum_{{l}'=-\\infty}^{\\infty} \\int_{0}^{\\infty} i^{- l + {l}'} {\\tau}' \\left(\\sum_{p=-\\infty}^{\\infty} \\operatorname{J_{l}}{\\left (\\tau \\left(- \\omega_{p} + \\omega_{\\xi}\\right) \\right )} \\operatorname{J_{{l}'}}{\\left ({\\tau}' \\left(- \\omega_{p} + \\omega_{\\xi}\\right) \\right )} \\operatorname{Z_{y}}{\\left (\\omega_{p} \\right )}\\right) \\sum_{{n}'=0}^{\\infty} \\frac{c_{{n}'}^{\\left|{{l}'}\\right|} \\tau_{b}^{- \\left|{{l}'}\\right|} {\\tau}'^{\\left|{{l}'}\\right|}}{e^{b {\\tau}'^{2}}} \\operatorname{L_{{n}'}}^{\\left|{{l}'}\\right|}{\\left (a {\\tau}'^{2} \\right )}\\, d{\\tau}'$$"
      ],
      "text/plain": [
       "    ∞                                                                         \n",
       "_________                                                                     \n",
       "╲                                                                             \n",
       " ╲        ∞                                                                   \n",
       "  ╲       ⌠                                                                   \n",
       "   ╲      ⎮                                                                   \n",
       "    ╲     ⎮             ⎛  ∞                                                  \n",
       "     ╲    ⎮             ⎜ ___                                                 \n",
       "      ╲   ⎮             ⎜ ╲                                                   \n",
       "       ╲  ⎮  -l + l′    ⎜  ╲    J_l(τ⋅(-ω_p + ωₓᵢ))⋅J_l′(τ′⋅(-ω_p + ωₓᵢ))⋅Z_y(\n",
       "       ╱  ⎮ ⅈ       ⋅τ′⋅⎜  ╱                                                  \n",
       "      ╱   ⎮             ⎜ ╱                                                   \n",
       "     ╱    ⎮             ⎜ ‾‾‾                                                 \n",
       "    ╱     ⎮             ⎝p = -∞                                               \n",
       "   ╱      ⎮                                                                   \n",
       "  ╱       ⌡                                                                   \n",
       " ╱        0                                                                   \n",
       "╱                                                                             \n",
       "‾‾‾‾‾‾‾‾‾                                                                     \n",
       " l′ = -∞                                                                      \n",
       "\n",
       "                                                                   \n",
       "                                                                   \n",
       "                                                                   \n",
       "                                                                   \n",
       "                                                                   \n",
       "        ∞                                                          \n",
       "    ⎞  ____                                                        \n",
       "    ⎟  ╲                                                           \n",
       "    ⎟   ╲                                                   2      \n",
       "ω_p)⎟    ╲       │l′│    -│l′│   │l′│     │l′│⎛    2⎞  -b⋅τ′       \n",
       "    ⎟⋅   ╱   c_n′    ⋅τ_b     ⋅τ′    ⋅L_n′    ⎝a⋅τ′ ⎠⋅ℯ       d(τ′)\n",
       "    ⎟   ╱                                                          \n",
       "    ⎟  ╱                                                           \n",
       "    ⎠  ‾‾‾‾                                                        \n",
       "      n′ = 0                                                       \n",
       "                                                                   \n",
       "                                                                   \n",
       "                                                                   \n",
       "                                                                   \n",
       "                                                                   "
      ]
     },
     "execution_count": 49,
     "metadata": {},
     "output_type": "execute_result"
    }
   ],
   "source": [
    "expr=Integral(I**(lprime-l) * tauprime * Rlprime_tauprime* impsum,(tauprime, 0, oo))\n",
    "\n",
    "expr=Sum(expr,(lprime, -oo, oo))\n",
    "expr=simplify(expand_power_base(expr))\n",
    "\n",
    "expr"
   ]
  },
  {
   "cell_type": "markdown",
   "metadata": {},
   "source": [
    "!!! The sums over $p$, $l'$ and $n'$ are not written in front !!!"
   ]
  },
  {
   "cell_type": "code",
   "execution_count": 64,
   "metadata": {
    "collapsed": false
   },
   "outputs": [
    {
     "data": {
      "text/latex": [
       "$$\\frac{c_{{n}'}^{\\left|{{l}'}\\right|} \\tau_{b}^{- \\left|{{l}'}\\right|} {\\tau}'}{e^{b {\\tau}'^{2}}} i^{- l + {l}'} {\\tau}'^{\\left|{{l}'}\\right|} \\operatorname{J_{l}}{\\left (\\tau \\left(- \\omega_{p} + \\omega_{\\xi}\\right) \\right )} \\operatorname{J_{{l}'}}{\\left ({\\tau}' \\left(- \\omega_{p} + \\omega_{\\xi}\\right) \\right )} \\operatorname{L_{{n}'}}^{\\left|{{l}'}\\right|}{\\left (a {\\tau}'^{2} \\right )} \\operatorname{Z_{y}}{\\left (\\omega_{p} \\right )}$$"
      ],
      "text/plain": [
       "                                                                              \n",
       " -l + l′     │l′│    -│l′│      │l′│                                          \n",
       "ⅈ       ⋅c_n′    ⋅τ_b     ⋅τ′⋅τ′    ⋅J_l(τ⋅(-ω_p + ωₓᵢ))⋅J_l′(τ′⋅(-ω_p + ωₓᵢ))\n",
       "\n",
       "                                2\n",
       "     │l′│⎛    2⎞           -b⋅τ′ \n",
       "⋅L_n′    ⎝a⋅τ′ ⎠⋅Z_y(ω_p)⋅ℯ      "
      ]
     },
     "execution_count": 64,
     "metadata": {},
     "output_type": "execute_result"
    }
   ],
   "source": [
    "newexpr=expr.args[0].args[0].args[0]*\\\n",
    "expr.args[0].args[0].args[1]*\\\n",
    "expr.args[0].args[0].args[2].args[0]*\\\n",
    "expr.args[0].args[0].args[3].args[0]\n",
    "\n",
    "newexpr"
   ]
  },
  {
   "cell_type": "code",
   "execution_count": 65,
   "metadata": {
    "collapsed": false
   },
   "outputs": [
    {
     "data": {
      "text/latex": [
       "$$\\left ( {\\tau}', \\quad i^{- l + {l}'}, \\quad c_{{n}'}^{\\left|{{l}'}\\right|}, \\quad \\tau_{b}^{- \\left|{{l}'}\\right|}, \\quad {\\tau}'^{\\left|{{l}'}\\right|}, \\quad \\operatorname{L_{{n}'}}^{\\left|{{l}'}\\right|}{\\left (a {\\tau}'^{2} \\right )}, \\quad \\operatorname{J_{l}}{\\left (\\tau \\left(- \\omega_{p} + \\omega_{\\xi}\\right) \\right )}, \\quad \\operatorname{J_{{l}'}}{\\left ({\\tau}' \\left(- \\omega_{p} + \\omega_{\\xi}\\right) \\right )}, \\quad \\operatorname{Z_{y}}{\\left (\\omega_{p} \\right )}, \\quad e^{- b {\\tau}'^{2}}\\right )$$"
      ],
      "text/plain": [
       "⎛                                                                             \n",
       "⎜     -l + l′      │l′│     -│l′│    │l′│      │l′│⎛    2⎞                    \n",
       "⎝τ′, ⅈ       , c_n′    , τ_b     , τ′    , L_n′    ⎝a⋅τ′ ⎠, J_l(τ⋅(-ω_p + ωₓᵢ)\n",
       "\n",
       "                                          2⎞\n",
       "                                     -b⋅τ′ ⎟\n",
       "), J_l′(τ′⋅(-ω_p + ωₓᵢ)), Z_y(ω_p), ℯ      ⎠"
      ]
     },
     "execution_count": 65,
     "metadata": {},
     "output_type": "execute_result"
    }
   ],
   "source": [
    "newexpr.args"
   ]
  },
  {
   "cell_type": "code",
   "execution_count": 66,
   "metadata": {
    "collapsed": false
   },
   "outputs": [
    {
     "data": {
      "text/latex": [
       "$$i^{- l + {l}'} c_{{n}'}^{\\left|{{l}'}\\right|} \\tau_{b}^{- \\left|{{l}'}\\right|} \\operatorname{J_{l}}{\\left (\\tau \\left(- \\omega_{p} + \\omega_{\\xi}\\right) \\right )} \\operatorname{Z_{y}}{\\left (\\omega_{p} \\right )}$$"
      ],
      "text/plain": [
       " -l + l′     │l′│    -│l′│                             \n",
       "ⅈ       ⋅c_n′    ⋅τ_b     ⋅J_l(τ⋅(-ω_p + ωₓᵢ))⋅Z_y(ω_p)"
      ]
     },
     "execution_count": 66,
     "metadata": {},
     "output_type": "execute_result"
    }
   ],
   "source": [
    "fact = np.prod([newexpr.args[ii] for ii in [1,2,3,6,8]])\n",
    "fact"
   ]
  },
  {
   "cell_type": "code",
   "execution_count": 67,
   "metadata": {
    "collapsed": false
   },
   "outputs": [
    {
     "data": {
      "text/latex": [
       "$$i^{- l + {l}'} c_{{n}'}^{\\left|{{l}'}\\right|} \\tau_{b}^{- \\left|{{l}'}\\right|} \\operatorname{J_{l}}{\\left (\\tau \\left(- \\omega_{p} + \\omega_{\\xi}\\right) \\right )} \\operatorname{Z_{y}}{\\left (\\omega_{p} \\right )} \\int_{0}^{\\infty} \\frac{{\\tau}'^{\\left|{{l}'}\\right| + 1}}{e^{b {\\tau}'^{2}}} \\operatorname{J_{{l}'}}{\\left ({\\tau}' \\left(- \\omega_{p} + \\omega_{\\xi}\\right) \\right )} \\operatorname{L_{{n}'}}^{\\left|{{l}'}\\right|}{\\left (a {\\tau}'^{2} \\right )}\\, d{\\tau}'$$"
      ],
      "text/plain": [
       "                                                        ∞                     \n",
       "                                                        ⌠                     \n",
       "                                                        ⎮                     \n",
       " -l + l′     │l′│    -│l′│                              ⎮   │l′│ + 1          \n",
       "ⅈ       ⋅c_n′    ⋅τ_b     ⋅J_l(τ⋅(-ω_p + ωₓᵢ))⋅Z_y(ω_p)⋅⎮ τ′        ⋅J_l′(τ′⋅(\n",
       "                                                        ⌡                     \n",
       "                                                        0                     \n",
       "\n",
       "                                          \n",
       "                                          \n",
       "                                   2      \n",
       "                 │l′│⎛    2⎞  -b⋅τ′       \n",
       "-ω_p + ωₓᵢ))⋅L_n′    ⎝a⋅τ′ ⎠⋅ℯ       d(τ′)\n",
       "                                          \n",
       "                                          "
      ]
     },
     "execution_count": 67,
     "metadata": {},
     "output_type": "execute_result"
    }
   ],
   "source": [
    "newexpr=fact*simplify(Integral(newexpr/fact,(tauprime,0,oo)))\n",
    "newexpr"
   ]
  },
  {
   "cell_type": "markdown",
   "metadata": {},
   "source": [
    "### 2.2) Laguerre integral from Chao"
   ]
  },
  {
   "cell_type": "markdown",
   "metadata": {},
   "source": [
    "Integral as from Chao p.316, table 6.3, formula 3"
   ]
  },
  {
   "cell_type": "code",
   "execution_count": 68,
   "metadata": {
    "collapsed": false
   },
   "outputs": [
    {
     "data": {
      "text/latex": [
       "$$\\int_{0}^{\\infty} x^{{l}' + 1} \\operatorname{J_{{l}'}}{\\left (x y \\right )} \\operatorname{L_{{n}'}}^{{l}'}{\\left (\\alpha x^{2} \\right )} e^{- \\eta x^{2}}\\, dx$$"
      ],
      "text/plain": [
       "∞                                         \n",
       "⌠                                         \n",
       "⎮                                     2   \n",
       "⎮  l′ + 1               l′⎛   2⎞  -η⋅x    \n",
       "⎮ x      ⋅J_l′(x⋅y)⋅L_n′  ⎝α⋅x ⎠⋅ℯ      dx\n",
       "⌡                                         \n",
       "0                                         "
      ]
     },
     "execution_count": 68,
     "metadata": {},
     "output_type": "execute_result"
    }
   ],
   "source": [
    "eta, alpha, y = symbols('eta, alpha, y')\n",
    "\n",
    "laguerre_lhs=Integral(x**(lprime+1) *exp(-eta*x**2) *Jlprime(x*y)* Lnprime(alpha * x**2)**lprime,(x, 0, oo))\n",
    "\n",
    "laguerre_lhs"
   ]
  },
  {
   "cell_type": "code",
   "execution_count": 74,
   "metadata": {
    "collapsed": false
   },
   "outputs": [
    {
     "data": {
      "text/latex": [
       "$$\\int_{0}^{\\infty} \\frac{{\\tau}'^{\\left|{{l}'}\\right| + 1}}{e^{b {\\tau}'^{2}}} \\operatorname{J_{{l}'}}{\\left ({\\tau}' \\left(- \\omega_{p} + \\omega_{\\xi}\\right) \\right )} \\operatorname{L_{{n}'}}^{\\left|{{l}'}\\right|}{\\left (a {\\tau}'^{2} \\right )}\\, d{\\tau}'$$"
      ],
      "text/plain": [
       "∞                                                               \n",
       "⌠                                                               \n",
       "⎮                                                        2      \n",
       "⎮   │l′│ + 1                           │l′│⎛    2⎞  -b⋅τ′       \n",
       "⎮ τ′        ⋅J_l′(τ′⋅(-ω_p + ωₓᵢ))⋅L_n′    ⎝a⋅τ′ ⎠⋅ℯ       d(τ′)\n",
       "⌡                                                               \n",
       "0                                                               "
      ]
     },
     "execution_count": 74,
     "metadata": {},
     "output_type": "execute_result"
    }
   ],
   "source": [
    "temp=laguerre_lhs.subs(alpha,a).subs(lprime,abs(lprime)).subs(y,omegaxi-omegap).subs(eta,b)\n",
    "laguerre1_lhs=temp.transform(x,tauprime)\n",
    "\n",
    "laguerre1_lhs"
   ]
  },
  {
   "cell_type": "markdown",
   "metadata": {},
   "source": [
    "Solution"
   ]
  },
  {
   "cell_type": "code",
   "execution_count": 75,
   "metadata": {
    "collapsed": false
   },
   "outputs": [
    {
     "data": {
      "text/latex": [
       "$$2^{- {l}' - 1} \\eta^{- {l}' - {n}' - 1} y^{{l}'} \\left(- \\alpha + \\eta\\right)^{{n}'} \\operatorname{L_{{n}'}}^{{l}'}{\\left (\\frac{\\alpha y^{2}}{4 \\eta \\left(\\alpha - \\eta\\right)} \\right )} e^{- \\frac{y^{2}}{4 \\eta}}$$"
      ],
      "text/plain": [
       "                                                             2 \n",
       "                                                           -y  \n",
       "                                            ⎛       2   ⎞  ────\n",
       " -l′ - 1  -l′ - n′ - 1  l′         n′     l′⎜    α⋅y    ⎟  4⋅η \n",
       "2       ⋅η            ⋅y  ⋅(-α + η)  ⋅L_n′  ⎜───────────⎟⋅ℯ    \n",
       "                                            ⎝4⋅η⋅(α - η)⎠      "
      ]
     },
     "execution_count": 75,
     "metadata": {},
     "output_type": "execute_result"
    }
   ],
   "source": [
    "laguerre_rhs=(eta- alpha)**nprime/(2**(lprime+1)*eta**(lprime+nprime+1))*y**lprime*exp(-y**2/(4*eta))*\\\n",
    "Lnprime(alpha*y**2/(4*eta*(alpha-eta)))**lprime\n",
    "laguerre_rhs"
   ]
  },
  {
   "cell_type": "code",
   "execution_count": 76,
   "metadata": {
    "collapsed": false
   },
   "outputs": [
    {
     "data": {
      "text/latex": [
       "$$\\frac{b^{- {n}' - \\left|{{l}'}\\right| - 1}}{2^{\\left|{{l}'}\\right| + 1}} \\left(- a + b\\right)^{{n}'} \\left(- \\omega_{p} + \\omega_{\\xi}\\right)^{\\left|{{l}'}\\right|} \\operatorname{L_{{n}'}}^{\\left|{{l}'}\\right|}{\\left (\\frac{a \\left(- \\omega_{p} + \\omega_{\\xi}\\right)^{2}}{4 b \\left(a - b\\right)} \\right )} e^{- \\frac{\\left(- \\omega_{p} + \\omega_{\\xi}\\right)^{2}}{4 b}}$$"
      ],
      "text/plain": [
       "                                                                              \n",
       "                                                                              \n",
       "                                                               ⎛              \n",
       " -│l′│ - 1  -n′ - │l′│ - 1         n′             │l′│     │l′│⎜a⋅(-ω_p + ωₓᵢ)\n",
       "2         ⋅b              ⋅(-a + b)  ⋅(-ω_p + ωₓᵢ)    ⋅L_n′    ⎜──────────────\n",
       "                                                               ⎝  4⋅b⋅(a - b) \n",
       "\n",
       "                 2 \n",
       "    -(-ω_p + ωₓᵢ)  \n",
       "2⎞  ───────────────\n",
       " ⎟        4⋅b      \n",
       "─⎟⋅ℯ               \n",
       " ⎠                 "
      ]
     },
     "execution_count": 76,
     "metadata": {},
     "output_type": "execute_result"
    }
   ],
   "source": [
    "laguerre1_rhs=laguerre_rhs.subs(alpha,a).subs(lprime,abs(lprime)).subs(y,omegaxi-omegap).subs(eta,b)\n",
    "\n",
    "laguerre1_rhs"
   ]
  },
  {
   "cell_type": "markdown",
   "metadata": {},
   "source": [
    "### 2.3)  Substituting Laguerre 1 in DELPHI's expression"
   ]
  },
  {
   "cell_type": "code",
   "execution_count": 93,
   "metadata": {
    "collapsed": false
   },
   "outputs": [
    {
     "data": {
      "text/latex": [
       "$$\\sum_{\\substack{-\\infty \\leq p \\leq \\infty\\\\-\\infty \\leq {l}' \\leq \\infty\\\\0 \\leq {n}' \\leq \\infty}} \\frac{i^{- l + {l}'}}{2^{\\left|{{l}'}\\right| + 1}} b^{- {n}' - \\left|{{l}'}\\right| - 1} \\left(\\frac{c_{{n}'}}{\\tau_{b}} \\left(- \\omega_{p} + \\omega_{\\xi}\\right) \\operatorname{L_{{n}'}}{\\left (\\frac{a \\left(\\omega_{p} - \\omega_{\\xi}\\right)^{2}}{4 b \\left(a - b\\right)} \\right )}\\right)^{\\left|{{l}'}\\right|} \\left(- a + b\\right)^{{n}'} \\operatorname{J_{l}}{\\left (- \\tau \\left(\\omega_{p} - \\omega_{\\xi}\\right) \\right )} \\operatorname{Z_{y}}{\\left (\\omega_{p} \\right )} e^{- \\frac{\\left(\\omega_{p} - \\omega_{\\xi}\\right)^{2}}{4 b}}$$"
      ],
      "text/plain": [
       "  ∞       ∞      ∞                                                            \n",
       "______  ______ ______                                                         \n",
       "╲       ╲      ╲                                                              \n",
       " ╲       ╲      ╲                                                             \n",
       "  ╲       ╲      ╲                                        ⎛                   \n",
       "   ╲       ╲      ╲                                       ⎜                   \n",
       "    ╲       ╲      ╲                                      ⎜c_n′⋅(-ω_p + ωₓᵢ)⋅L\n",
       "    ╱       ╱      ╱   -│l′│ - 1  -l + l′  -n′ - │l′│ - 1 ⎜                   \n",
       "   ╱       ╱      ╱   2         ⋅ⅈ       ⋅b              ⋅⎜───────────────────\n",
       "  ╱       ╱      ╱                                        ⎝                 τ_\n",
       " ╱       ╱      ╱                                                             \n",
       "╱       ╱      ╱                                                              \n",
       "‾‾‾‾‾‾  ‾‾‾‾‾‾ ‾‾‾‾‾‾                                                         \n",
       "n′ = 0 l′ = -∞ p = -∞                                                         \n",
       "\n",
       "                                                                              \n",
       "                                                                              \n",
       "                                                                              \n",
       "                    │l′│                                                      \n",
       "   ⎛             2⎞⎞                                                          \n",
       "   ⎜a⋅(ω_p - ωₓᵢ) ⎟⎟                                              -(ω_p - ωₓᵢ)\n",
       "_n′⎜──────────────⎟⎟                                              ────────────\n",
       "   ⎝ 4⋅b⋅(a - b)  ⎠⎟             n′                                    4⋅b    \n",
       "───────────────────⎟    ⋅(-a + b)  ⋅J_l(-τ⋅(ω_p - ωₓᵢ))⋅Z_y(ω_p)⋅ℯ            \n",
       "b                  ⎠                                                          \n",
       "                                                                              \n",
       "                                                                              \n",
       "                                                                              \n",
       "                                                                              \n",
       "\n",
       "  \n",
       "  \n",
       "  \n",
       "  \n",
       "2 \n",
       "  \n",
       "──\n",
       "  \n",
       "  \n",
       "  \n",
       "  \n",
       "  \n",
       "  \n",
       "  "
      ]
     },
     "execution_count": 93,
     "metadata": {},
     "output_type": "execute_result"
    }
   ],
   "source": [
    "newexpr0=Sum(simplify(newexpr.subs(laguerre1_lhs,laguerre1_rhs)),(p,-oo,oo),(lprime, -oo, oo),(nprime, 0, oo))\n",
    "newexpr0"
   ]
  },
  {
   "cell_type": "code",
   "execution_count": 94,
   "metadata": {
    "collapsed": false
   },
   "outputs": [
    {
     "data": {
      "text/latex": [
       "$$\\left ( 2^{- \\left|{{l}'}\\right| - 1}, \\quad i^{- l + {l}'}, \\quad b^{- {n}' - \\left|{{l}'}\\right| - 1}, \\quad \\left(\\frac{c_{{n}'}}{\\tau_{b}} \\left(- \\omega_{p} + \\omega_{\\xi}\\right) \\operatorname{L_{{n}'}}{\\left (\\frac{a \\left(\\omega_{p} - \\omega_{\\xi}\\right)^{2}}{4 b \\left(a - b\\right)} \\right )}\\right)^{\\left|{{l}'}\\right|}, \\quad \\left(- a + b\\right)^{{n}'}, \\quad \\operatorname{J_{l}}{\\left (- \\tau \\left(\\omega_{p} - \\omega_{\\xi}\\right) \\right )}, \\quad \\operatorname{Z_{y}}{\\left (\\omega_{p} \\right )}, \\quad e^{- \\frac{\\left(\\omega_{p} - \\omega_{\\xi}\\right)^{2}}{4 b}}\\right )$$"
      ],
      "text/plain": [
       "⎛                                                                             \n",
       "⎜                                       ⎛                      ⎛             2\n",
       "⎜                                       ⎜                      ⎜a⋅(ω_p - ωₓᵢ) \n",
       "⎜                                       ⎜c_n′⋅(-ω_p + ωₓᵢ)⋅L_n′⎜──────────────\n",
       "⎜ -│l′│ - 1   -l + l′   -n′ - │l′│ - 1  ⎜                      ⎝ 4⋅b⋅(a - b)  \n",
       "⎜2         , ⅈ       , b              , ⎜─────────────────────────────────────\n",
       "⎝                                       ⎝                 τ_b                 \n",
       "\n",
       "  │l′│                                                            ⎞\n",
       "⎞⎞                                                              2 ⎟\n",
       "⎟⎟                                                  -(ω_p - ωₓᵢ)  ⎟\n",
       "⎟⎟                                                  ──────────────⎟\n",
       "⎠⎟              n′                                       4⋅b      ⎟\n",
       "─⎟    , (-a + b)  , J_l(-τ⋅(ω_p - ωₓᵢ)), Z_y(ω_p), ℯ              ⎟\n",
       " ⎠                                                                ⎠"
      ]
     },
     "execution_count": 94,
     "metadata": {},
     "output_type": "execute_result"
    }
   ],
   "source": [
    "newexpr0.args[0].args"
   ]
  },
  {
   "cell_type": "code",
   "execution_count": 95,
   "metadata": {
    "collapsed": false
   },
   "outputs": [
    {
     "data": {
      "text/latex": [
       "$$\\frac{i^{- l + {l}'}}{2^{\\left|{{l}'}\\right| + 1}} b^{- {n}' - \\left|{{l}'}\\right| - 1} \\left(- a + b\\right)^{{n}'} \\operatorname{J_{l}}{\\left (- \\tau \\left(\\omega_{p} - \\omega_{\\xi}\\right) \\right )} \\operatorname{Z_{y}}{\\left (\\omega_{p} \\right )} e^{- \\frac{\\left(\\omega_{p} - \\omega_{\\xi}\\right)^{2}}{4 b}}$$"
      ],
      "text/plain": [
       "                                                                              \n",
       "                                                                             -\n",
       "                                                                             ─\n",
       " -│l′│ - 1  -l + l′  -n′ - │l′│ - 1         n′                                \n",
       "2         ⋅ⅈ       ⋅b              ⋅(-a + b)  ⋅J_l(-τ⋅(ω_p - ωₓᵢ))⋅Z_y(ω_p)⋅ℯ \n",
       "\n",
       "           2 \n",
       "(ω_p - ωₓᵢ)  \n",
       "─────────────\n",
       "    4⋅b      \n",
       "             "
      ]
     },
     "execution_count": 95,
     "metadata": {},
     "output_type": "execute_result"
    }
   ],
   "source": [
    "np.prod([newexpr0.args[0].args[ii] for ii in [0,1,2,4,5,6,7]])"
   ]
  },
  {
   "cell_type": "code",
   "execution_count": 91,
   "metadata": {
    "collapsed": false
   },
   "outputs": [
    {
     "data": {
      "text/latex": [
       "$$\\left(\\frac{c_{{n}'}}{\\tau_{b}} \\left(- \\omega_{p} + \\omega_{\\xi}\\right)\\right)^{\\left|{{l}'}\\right|} \\operatorname{L_{{n}'}}^{\\left|{{l}'}\\right|}{\\left (\\frac{a \\left(\\omega_{p} - \\omega_{\\xi}\\right)^{2}}{4 b \\left(a - b\\right)} \\right )}$$"
      ],
      "text/plain": [
       "                   │l′│         ⎛             2⎞\n",
       "⎛c_n′⋅(-ω_p + ωₓᵢ)⎞         │l′│⎜a⋅(ω_p - ωₓᵢ) ⎟\n",
       "⎜─────────────────⎟    ⋅L_n′    ⎜──────────────⎟\n",
       "⎝       τ_b       ⎠             ⎝ 4⋅b⋅(a - b)  ⎠"
      ]
     },
     "execution_count": 91,
     "metadata": {},
     "output_type": "execute_result"
    }
   ],
   "source": [
    "(np.prod([newexpr0.args[0].args[3].args[0].args[ii] for ii in [0,1,2]]))**\\\n",
    "(newexpr0.args[0].args[3].args[1])*\\\n",
    "(newexpr0.args[0].args[3].args[0].args[3])**(newexpr0.args[0].args[3].args[1])"
   ]
  },
  {
   "cell_type": "code",
   "execution_count": 96,
   "metadata": {
    "collapsed": false
   },
   "outputs": [
    {
     "data": {
      "text/latex": [
       "$$\\frac{i^{- l + {l}'}}{2^{\\left|{{l}'}\\right| + 1}} b^{- {n}' - \\left|{{l}'}\\right| - 1} \\left(\\frac{c_{{n}'}}{\\tau_{b}} \\left(- \\omega_{p} + \\omega_{\\xi}\\right)\\right)^{\\left|{{l}'}\\right|} \\left(- a + b\\right)^{{n}'} \\operatorname{J_{l}}{\\left (- \\tau \\left(\\omega_{p} - \\omega_{\\xi}\\right) \\right )} \\operatorname{L_{{n}'}}^{\\left|{{l}'}\\right|}{\\left (\\frac{a \\left(\\omega_{p} - \\omega_{\\xi}\\right)^{2}}{4 b \\left(a - b\\right)} \\right )} \\operatorname{Z_{y}}{\\left (\\omega_{p} \\right )} e^{- \\frac{\\left(\\omega_{p} - \\omega_{\\xi}\\right)^{2}}{4 b}}$$"
      ],
      "text/plain": [
       "                                                                              \n",
       "                                                                              \n",
       "                                                       │l′│                   \n",
       " -│l′│ - 1  -l + l′  -n′ - │l′│ - 1 ⎛c_n′⋅(-ω_p + ωₓᵢ)⎞             n′        \n",
       "2         ⋅ⅈ       ⋅b              ⋅⎜─────────────────⎟    ⋅(-a + b)  ⋅J_l(-τ⋅\n",
       "                                    ⎝       τ_b       ⎠                       \n",
       "\n",
       "                                                            2 \n",
       "                                                -(ω_p - ωₓᵢ)  \n",
       "                     ⎛             2⎞           ──────────────\n",
       "                 │l′│⎜a⋅(ω_p - ωₓᵢ) ⎟                4⋅b      \n",
       "(ω_p - ωₓᵢ))⋅L_n′    ⎜──────────────⎟⋅Z_y(ω_p)⋅ℯ              \n",
       "                     ⎝ 4⋅b⋅(a - b)  ⎠                         "
      ]
     },
     "execution_count": 96,
     "metadata": {},
     "output_type": "execute_result"
    }
   ],
   "source": [
    "newexpr0 = np.prod([newexpr0.args[0].args[ii] for ii in [0,1,2,4,5,6,7]])*\\\n",
    "(np.prod([newexpr0.args[0].args[3].args[0].args[ii] for ii in [0,1,2]]))**\\\n",
    "(newexpr0.args[0].args[3].args[1])*\\\n",
    "(newexpr0.args[0].args[3].args[0].args[3])**(newexpr0.args[0].args[3].args[1])\n",
    "newexpr0"
   ]
  },
  {
   "cell_type": "code",
   "execution_count": 98,
   "metadata": {
    "collapsed": false
   },
   "outputs": [
    {
     "data": {
      "text/latex": [
       "$$\\sum_{\\substack{-\\infty \\leq p \\leq \\infty\\\\-\\infty \\leq {l}' \\leq \\infty\\\\0 \\leq {n}' \\leq \\infty}} \\frac{i^{- l + {l}'}}{2^{\\left|{{l}'}\\right| + 1}} b^{- {n}' - \\left|{{l}'}\\right| - 1} \\left(\\frac{c_{{n}'}}{\\tau_{b}} \\left(- \\omega_{p} + \\omega_{\\xi}\\right)\\right)^{\\left|{{l}'}\\right|} \\left(- a + b\\right)^{{n}'} \\operatorname{J_{l}}{\\left (- \\tau \\left(\\omega_{p} - \\omega_{\\xi}\\right) \\right )} \\operatorname{L_{{n}'}}^{\\left|{{l}'}\\right|}{\\left (\\frac{a \\left(\\omega_{p} - \\omega_{\\xi}\\right)^{2}}{4 b \\left(a - b\\right)} \\right )} \\operatorname{Z_{y}}{\\left (\\omega_{p} \\right )} e^{- \\frac{\\left(\\omega_{p} - \\omega_{\\xi}\\right)^{2}}{4 b}}$$"
      ],
      "text/plain": [
       "  ∞       ∞      ∞                                                            \n",
       "_____   _____  _____                                                          \n",
       "╲       ╲      ╲                                                              \n",
       " ╲       ╲      ╲                                                             \n",
       "  ╲       ╲      ╲                                                            \n",
       "   ╲       ╲      ╲                                                          │\n",
       "   ╱       ╱      ╱    -│l′│ - 1  -l + l′  -n′ - │l′│ - 1 ⎛c_n′⋅(-ω_p + ωₓᵢ)⎞ \n",
       "  ╱       ╱      ╱    2         ⋅ⅈ       ⋅b              ⋅⎜─────────────────⎟ \n",
       " ╱       ╱      ╱                                         ⎝       τ_b       ⎠ \n",
       "╱       ╱      ╱                                                              \n",
       "‾‾‾‾‾   ‾‾‾‾‾  ‾‾‾‾‾                                                          \n",
       "n′ = 0 l′ = -∞ p = -∞                                                         \n",
       "\n",
       "                                                                              \n",
       "                                                                              \n",
       "                                                                              \n",
       "                                                                              \n",
       "                                                                      -(ω_p - \n",
       "l′│                                        ⎛             2⎞           ────────\n",
       "            n′                         │l′│⎜a⋅(ω_p - ωₓᵢ) ⎟                4⋅b\n",
       "   ⋅(-a + b)  ⋅J_l(-τ⋅(ω_p - ωₓᵢ))⋅L_n′    ⎜──────────────⎟⋅Z_y(ω_p)⋅ℯ        \n",
       "                                           ⎝ 4⋅b⋅(a - b)  ⎠                   \n",
       "                                                                              \n",
       "                                                                              \n",
       "                                                                              \n",
       "\n",
       "      \n",
       "      \n",
       "      \n",
       "    2 \n",
       "ωₓᵢ)  \n",
       "──────\n",
       "      \n",
       "      \n",
       "      \n",
       "      \n",
       "      \n",
       "      "
      ]
     },
     "execution_count": 98,
     "metadata": {},
     "output_type": "execute_result"
    }
   ],
   "source": [
    "newexpr0 = Sum(newexpr0,(p,-oo,oo), (lprime, -oo, oo), (nprime, 0, oo))\n",
    "newexpr0"
   ]
  },
  {
   "cell_type": "markdown",
   "metadata": {},
   "source": [
    "### 2.4) Product with $- \\kappa g_0$"
   ]
  },
  {
   "cell_type": "code",
   "execution_count": 100,
   "metadata": {
    "collapsed": false
   },
   "outputs": [
    {
     "data": {
      "text/latex": [
       "$$- \\frac{\\kappa}{e^{b \\tau^{2}}} \\left(\\sum_{k=0}^{n_{0}} g_{k} \\operatorname{L^{0}_{k}}{\\left (a \\tau^{2} \\right )}\\right) \\sum_{\\substack{-\\infty \\leq p \\leq \\infty\\\\-\\infty \\leq {l}' \\leq \\infty\\\\0 \\leq {n}' \\leq \\infty}} \\frac{i^{- l + {l}'}}{2^{\\left|{{l}'}\\right| + 1}} b^{- {n}' - \\left|{{l}'}\\right| - 1} \\left(\\frac{c_{{n}'}}{\\tau_{b}} \\left(- \\omega_{p} + \\omega_{\\xi}\\right)\\right)^{\\left|{{l}'}\\right|} \\left(- a + b\\right)^{{n}'} \\operatorname{J_{l}}{\\left (- \\tau \\left(\\omega_{p} - \\omega_{\\xi}\\right) \\right )} \\operatorname{L_{{n}'}}^{\\left|{{l}'}\\right|}{\\left (\\frac{a \\left(\\omega_{p} - \\omega_{\\xi}\\right)^{2}}{4 b \\left(a - b\\right)} \\right )} \\operatorname{Z_{y}}{\\left (\\omega_{p} \\right )} e^{- \\frac{\\left(\\omega_{p} - \\omega_{\\xi}\\right)^{2}}{4 b}}$$"
      ],
      "text/plain": [
       "                                     ∞       ∞      ∞                         \n",
       "                                   _____   _____  _____                       \n",
       "          ⎛  n₀                  ⎞ ╲       ╲      ╲                           \n",
       "          ⎜ ___                  ⎟  ╲       ╲      ╲                          \n",
       "        2 ⎜ ╲                    ⎟   ╲       ╲      ╲                         \n",
       "    -b⋅τ  ⎜  ╲             ⎛   2⎞⎟    ╲       ╲      ╲                        \n",
       "-κ⋅ℯ     ⋅⎜  ╱   g_k⋅L_k__0⎝a⋅τ ⎠⎟⋅   ╱       ╱      ╱    -│l′│ - 1  -l + l′  \n",
       "          ⎜ ╱                    ⎟   ╱       ╱      ╱    2         ⋅ⅈ       ⋅b\n",
       "          ⎜ ‾‾‾                  ⎟  ╱       ╱      ╱                          \n",
       "          ⎝k = 0                 ⎠ ╱       ╱      ╱                           \n",
       "                                   ‾‾‾‾‾   ‾‾‾‾‾  ‾‾‾‾‾                       \n",
       "                                   n′ = 0 l′ = -∞ p = -∞                      \n",
       "\n",
       "                                                                              \n",
       "                                                                              \n",
       "                                                                              \n",
       "                                                                              \n",
       "                                                                              \n",
       "                                  │l′│                                        \n",
       "-n′ - │l′│ - 1 ⎛c_n′⋅(-ω_p + ωₓᵢ)⎞             n′                         │l′│\n",
       "              ⋅⎜─────────────────⎟    ⋅(-a + b)  ⋅J_l(-τ⋅(ω_p - ωₓᵢ))⋅L_n′    \n",
       "               ⎝       τ_b       ⎠                                            \n",
       "                                                                              \n",
       "                                                                              \n",
       "                                                                              \n",
       "\n",
       "                                         \n",
       "                                         \n",
       "                                         \n",
       "                                       2 \n",
       "                           -(ω_p - ωₓᵢ)  \n",
       "⎛             2⎞           ──────────────\n",
       "⎜a⋅(ω_p - ωₓᵢ) ⎟                4⋅b      \n",
       "⎜──────────────⎟⋅Z_y(ω_p)⋅ℯ              \n",
       "⎝ 4⋅b⋅(a - b)  ⎠                         \n",
       "                                         \n",
       "                                         \n",
       "                                         "
      ]
     },
     "execution_count": 100,
     "metadata": {},
     "output_type": "execute_result"
    }
   ],
   "source": [
    "kappa = symbols('kappa')\n",
    "\n",
    "newexpr2 = -kappa * g0* newexpr0\n",
    "\n",
    "newexpr2"
   ]
  },
  {
   "cell_type": "raw",
   "metadata": {},
   "source": [
    "newexpr2.args"
   ]
  },
  {
   "cell_type": "raw",
   "metadata": {},
   "source": [
    "newexpr2.args[4]"
   ]
  },
  {
   "cell_type": "code",
   "execution_count": 109,
   "metadata": {
    "collapsed": false
   },
   "outputs": [
    {
     "data": {
      "text/latex": [
       "$$- \\frac{i^{- l + {l}'} g_{k} \\kappa \\left(- a + b\\right)^{{n}'}}{2^{\\left|{{l}'}\\right| + 1} e^{b \\tau^{2}}} b^{- {n}' - \\left|{{l}'}\\right| - 1} \\left(\\frac{c_{{n}'}}{\\tau_{b}} \\left(- \\omega_{p} + \\omega_{\\xi}\\right)\\right)^{\\left|{{l}'}\\right|} \\operatorname{J_{l}}{\\left (- \\tau \\left(\\omega_{p} - \\omega_{\\xi}\\right) \\right )} \\operatorname{L^{0}_{k}}{\\left (a \\tau^{2} \\right )} \\operatorname{L_{{n}'}}^{\\left|{{l}'}\\right|}{\\left (\\frac{a \\left(\\omega_{p} - \\omega_{\\xi}\\right)^{2}}{4 b \\left(a - b\\right)} \\right )} \\operatorname{Z_{y}}{\\left (\\omega_{p} \\right )} e^{- \\frac{\\left(\\omega_{p} - \\omega_{\\xi}\\right)^{2}}{4 b}}$$"
      ],
      "text/plain": [
       "                                                                              \n",
       "                                                                              \n",
       "                                                              │l′│            \n",
       "  -│l′│ - 1  -l + l′  -n′ - │l′│ - 1       ⎛c_n′⋅(-ω_p + ωₓᵢ)⎞             n′ \n",
       "-2         ⋅ⅈ       ⋅b              ⋅g_k⋅κ⋅⎜─────────────────⎟    ⋅(-a + b)  ⋅\n",
       "                                           ⎝       τ_b       ⎠                \n",
       "\n",
       "                                                                              \n",
       "                                                                    -(ω_p - ωₓ\n",
       "                                         ⎛             2⎞           ──────────\n",
       "                          ⎛   2⎞     │l′│⎜a⋅(ω_p - ωₓᵢ) ⎟                4⋅b  \n",
       "J_l(-τ⋅(ω_p - ωₓᵢ))⋅L_k__0⎝a⋅τ ⎠⋅L_n′    ⎜──────────────⎟⋅Z_y(ω_p)⋅ℯ          \n",
       "                                         ⎝ 4⋅b⋅(a - b)  ⎠                     \n",
       "\n",
       "  2        \n",
       "ᵢ)         \n",
       "────      2\n",
       "      -b⋅τ \n",
       "    ⋅ℯ     \n",
       "           "
      ]
     },
     "execution_count": 109,
     "metadata": {},
     "output_type": "execute_result"
    }
   ],
   "source": [
    "newexpr3 = \\\n",
    "newexpr2.args[0]*\\\n",
    "newexpr2.args[1]*\\\n",
    "newexpr2.args[2].args[0]*\\\n",
    "newexpr2.args[3].args[0]*\\\n",
    "newexpr2.args[4]"
   ]
  },
  {
   "cell_type": "markdown",
   "metadata": {},
   "source": [
    "The product, once the sums have been put in front\n",
    "\n",
    "!!! The sums are not written !!! They are on $-\\infty \\leq p \\leq \\infty$\n",
    "\n",
    "$0 \\leq n' \\leq \\infty$\n",
    "\n",
    "$-\\infty \\leq l' \\leq \\infty$\n",
    "\n",
    "$0 \\leq k \\leq n_0$"
   ]
  },
  {
   "cell_type": "code",
   "execution_count": 110,
   "metadata": {
    "collapsed": false
   },
   "outputs": [
    {
     "data": {
      "text/latex": [
       "$$- \\frac{i^{- l + {l}'} g_{k} \\kappa \\left(- a + b\\right)^{{n}'}}{2^{\\left|{{l}'}\\right| + 1} e^{b \\tau^{2}}} b^{- {n}' - \\left|{{l}'}\\right| - 1} \\left(\\frac{c_{{n}'}}{\\tau_{b}} \\left(- \\omega_{p} + \\omega_{\\xi}\\right)\\right)^{\\left|{{l}'}\\right|} \\operatorname{J_{l}}{\\left (- \\tau \\left(\\omega_{p} - \\omega_{\\xi}\\right) \\right )} \\operatorname{L^{0}_{k}}{\\left (a \\tau^{2} \\right )} \\operatorname{L_{{n}'}}^{\\left|{{l}'}\\right|}{\\left (\\frac{a \\left(\\omega_{p} - \\omega_{\\xi}\\right)^{2}}{4 b \\left(a - b\\right)} \\right )} \\operatorname{Z_{y}}{\\left (\\omega_{p} \\right )} e^{- \\frac{\\left(\\omega_{p} - \\omega_{\\xi}\\right)^{2}}{4 b}}$$"
      ],
      "text/plain": [
       "                                                                              \n",
       "                                                                              \n",
       "                                                              │l′│            \n",
       "  -│l′│ - 1  -l + l′  -n′ - │l′│ - 1       ⎛c_n′⋅(-ω_p + ωₓᵢ)⎞             n′ \n",
       "-2         ⋅ⅈ       ⋅b              ⋅g_k⋅κ⋅⎜─────────────────⎟    ⋅(-a + b)  ⋅\n",
       "                                           ⎝       τ_b       ⎠                \n",
       "\n",
       "                                                                              \n",
       "                                                                    -(ω_p - ωₓ\n",
       "                                         ⎛             2⎞           ──────────\n",
       "                          ⎛   2⎞     │l′│⎜a⋅(ω_p - ωₓᵢ) ⎟                4⋅b  \n",
       "J_l(-τ⋅(ω_p - ωₓᵢ))⋅L_k__0⎝a⋅τ ⎠⋅L_n′    ⎜──────────────⎟⋅Z_y(ω_p)⋅ℯ          \n",
       "                                         ⎝ 4⋅b⋅(a - b)  ⎠                     \n",
       "\n",
       "  2        \n",
       "ᵢ)         \n",
       "────      2\n",
       "      -b⋅τ \n",
       "    ⋅ℯ     \n",
       "           "
      ]
     },
     "execution_count": 110,
     "metadata": {},
     "output_type": "execute_result"
    }
   ],
   "source": [
    "newexpr3"
   ]
  },
  {
   "cell_type": "markdown",
   "metadata": {},
   "source": [
    "### 2.5) Multiplying by the weight function and integrating in $\\tau$"
   ]
  },
  {
   "cell_type": "markdown",
   "metadata": {},
   "source": [
    "The weight function is necessary for the orthogonality on the LHS"
   ]
  },
  {
   "cell_type": "code",
   "execution_count": 111,
   "metadata": {
    "collapsed": false
   },
   "outputs": [
    {
     "data": {
      "text/latex": [
       "$$2 a a^{\\left|{l}\\right|} \\tau \\tau^{\\left|{l}\\right|} \\operatorname{L_{n}}^{\\left|{l}\\right|}{\\left (a \\tau^{2} \\right )} e^{\\tau^{2} \\left(- a + b\\right)}$$"
      ],
      "text/plain": [
       "                               2         \n",
       "     │l│    │l│    │l│⎛   2⎞  τ ⋅(-a + b)\n",
       "2⋅a⋅a   ⋅τ⋅τ   ⋅L_n   ⎝a⋅τ ⎠⋅ℯ           "
      ]
     },
     "execution_count": 111,
     "metadata": {},
     "output_type": "execute_result"
    }
   ],
   "source": [
    "omega, qy0, omega0, omegas = symbols('Omega Q_y_0 omega_0 omega_s')\n",
    "\n",
    "weight = Ln(a*tau**2)**abs(l)*exp((-a+b)*tau**2)*tau**abs(l)*2*a*tau*a**(abs(l))\n",
    "weight"
   ]
  },
  {
   "cell_type": "code",
   "execution_count": 112,
   "metadata": {
    "collapsed": false
   },
   "outputs": [
    {
     "data": {
      "text/latex": [
       "$$- \\frac{2 i^{- l + {l}'} a a^{\\left|{l}\\right|} g_{k} \\kappa \\tau}{2^{\\left|{{l}'}\\right| + 1} e^{b \\tau^{2}}} b^{- {n}' - \\left|{{l}'}\\right| - 1} \\tau^{\\left|{l}\\right|} \\left(\\frac{c_{{n}'}}{\\tau_{b}} \\left(- \\omega_{p} + \\omega_{\\xi}\\right)\\right)^{\\left|{{l}'}\\right|} \\left(- a + b\\right)^{{n}'} \\operatorname{J_{l}}{\\left (- \\tau \\left(\\omega_{p} - \\omega_{\\xi}\\right) \\right )} \\operatorname{L^{0}_{k}}{\\left (a \\tau^{2} \\right )} \\operatorname{L_{n}}^{\\left|{l}\\right|}{\\left (a \\tau^{2} \\right )} \\operatorname{L_{{n}'}}^{\\left|{{l}'}\\right|}{\\left (\\frac{a \\left(\\omega_{p} - \\omega_{\\xi}\\right)^{2}}{4 b \\left(a - b\\right)} \\right )} \\operatorname{Z_{y}}{\\left (\\omega_{p} \\right )} e^{- \\frac{\\left(\\omega_{p} - \\omega_{\\xi}\\right)^{2}}{4 b}} e^{\\tau^{2} \\left(- a + b\\right)}$$"
      ],
      "text/plain": [
       "                                                                              \n",
       "                                                                              \n",
       "                                                                              \n",
       "    -│l′│ - 1  -l + l′    │l│  -n′ - │l′│ - 1          │l│ ⎛c_n′⋅(-ω_p + ωₓᵢ)⎞\n",
       "-2⋅2         ⋅ⅈ       ⋅a⋅a   ⋅b              ⋅g_k⋅κ⋅τ⋅τ   ⋅⎜─────────────────⎟\n",
       "                                                           ⎝       τ_b       ⎠\n",
       "\n",
       "                                                                              \n",
       "                                                                              \n",
       "│l′│                                                                  ⎛       \n",
       "             n′                           ⎛   2⎞    │l│⎛   2⎞     │l′│⎜a⋅(ω_p \n",
       "    ⋅(-a + b)  ⋅J_l(-τ⋅(ω_p - ωₓᵢ))⋅L_k__0⎝a⋅τ ⎠⋅L_n   ⎝a⋅τ ⎠⋅L_n′    ⎜───────\n",
       "                                                                      ⎝ 4⋅b⋅(a\n",
       "\n",
       "                               2                     \n",
       "                   -(ω_p - ωₓᵢ)                      \n",
       "      2⎞           ──────────────      2   2         \n",
       "- ωₓᵢ) ⎟                4⋅b        -b⋅τ   τ ⋅(-a + b)\n",
       "───────⎟⋅Z_y(ω_p)⋅ℯ              ⋅ℯ     ⋅ℯ           \n",
       " - b)  ⎠                                             "
      ]
     },
     "execution_count": 112,
     "metadata": {},
     "output_type": "execute_result"
    }
   ],
   "source": [
    "rhs_out = newexpr3*weight\n",
    "rhs_out"
   ]
  },
  {
   "cell_type": "raw",
   "metadata": {},
   "source": [
    "rhs_out.args"
   ]
  },
  {
   "cell_type": "code",
   "execution_count": 114,
   "metadata": {
    "collapsed": false,
    "scrolled": true
   },
   "outputs": [
    {
     "data": {
      "text/latex": [
       "$$- \\frac{2 a a^{\\left|{l}\\right|} g_{k} \\kappa}{2^{\\left|{{l}'}\\right| + 1}} i^{- l + {l}'} b^{- {n}' - \\left|{{l}'}\\right| - 1} \\left(\\frac{c_{{n}'}}{\\tau_{b}} \\left(- \\omega_{p} + \\omega_{\\xi}\\right)\\right)^{\\left|{{l}'}\\right|} \\left(- a + b\\right)^{{n}'} \\operatorname{L_{{n}'}}^{\\left|{{l}'}\\right|}{\\left (\\frac{a \\left(\\omega_{p} - \\omega_{\\xi}\\right)^{2}}{4 b \\left(a - b\\right)} \\right )} \\operatorname{Z_{y}}{\\left (\\omega_{p} \\right )} e^{- \\frac{\\left(\\omega_{p} - \\omega_{\\xi}\\right)^{2}}{4 b}}$$"
      ],
      "text/plain": [
       "                                                                              \n",
       "                                                                              \n",
       "                                                                       │l′│   \n",
       "    -│l′│ - 1  -l + l′    │l│  -n′ - │l′│ - 1       ⎛c_n′⋅(-ω_p + ωₓᵢ)⎞       \n",
       "-2⋅2         ⋅ⅈ       ⋅a⋅a   ⋅b              ⋅g_k⋅κ⋅⎜─────────────────⎟    ⋅(-\n",
       "                                                    ⎝       τ_b       ⎠       \n",
       "\n",
       "                                                        2 \n",
       "                                            -(ω_p - ωₓᵢ)  \n",
       "                 ⎛             2⎞           ──────────────\n",
       "      n′     │l′│⎜a⋅(ω_p - ωₓᵢ) ⎟                4⋅b      \n",
       "a + b)  ⋅L_n′    ⎜──────────────⎟⋅Z_y(ω_p)⋅ℯ              \n",
       "                 ⎝ 4⋅b⋅(a - b)  ⎠                         "
      ]
     },
     "execution_count": 114,
     "metadata": {},
     "output_type": "execute_result"
    }
   ],
   "source": [
    "args=np.array(rhs_out.args)\n",
    "\n",
    "rhs_fact=np.prod([args[ii] for ii in [0,1,2,3,5,6,7,8,10,11,13,16,19]])\n",
    "\n",
    "rhs_fact"
   ]
  },
  {
   "cell_type": "markdown",
   "metadata": {},
   "source": [
    "And integrating in $\\tau$"
   ]
  },
  {
   "cell_type": "code",
   "execution_count": 115,
   "metadata": {
    "collapsed": false
   },
   "outputs": [
    {
     "data": {
      "text/latex": [
       "$$\\int_{0}^{\\infty} \\frac{\\tau^{\\left|{l}\\right| + 1}}{e^{a \\tau^{2}}} \\operatorname{J_{l}}{\\left (\\tau \\left(- \\omega_{p} + \\omega_{\\xi}\\right) \\right )} \\operatorname{L^{0}_{k}}{\\left (a \\tau^{2} \\right )} \\operatorname{L_{n}}^{\\left|{l}\\right|}{\\left (a \\tau^{2} \\right )}\\, d\\tau$$"
      ],
      "text/plain": [
       "∞                                                                 \n",
       "⌠                                                                 \n",
       "⎮                                                             2   \n",
       "⎮  │l│ + 1                           ⎛   2⎞    │l│⎛   2⎞  -a⋅τ    \n",
       "⎮ τ       ⋅J_l(τ⋅(-ω_p + ωₓᵢ))⋅L_k__0⎝a⋅τ ⎠⋅L_n   ⎝a⋅τ ⎠⋅ℯ      dτ\n",
       "⌡                                                                 \n",
       "0                                                                 "
      ]
     },
     "execution_count": 115,
     "metadata": {},
     "output_type": "execute_result"
    }
   ],
   "source": [
    "#rhs_fact = 2*2**(-Abs(lprime) - 1)*I**(-l + lprime)*a*a**Abs(l)*b**(-nprime - Abs(lprime) - 1)*\\\n",
    "#gk*kappa*(-cnprime*omegaxi/taub)**Abs(lprime)*(-a + b)**nprime*\\\n",
    "#Lnprime(a*omegaxi**2/(4*b*(a - b)))**Abs(lprime)*exp(-omegaxi**2/(4*b))\n",
    "\n",
    "rhs_int = np.prod([args[ii] for ii in [4,9,12,14,15,17,18]])\n",
    "rhs_int = simplify(rhs_int)\n",
    "rhs_int = Integral(rhs_int,(tau,0,oo))\n",
    "\n",
    "rhs_int"
   ]
  },
  {
   "cell_type": "code",
   "execution_count": 116,
   "metadata": {
    "collapsed": false
   },
   "outputs": [
    {
     "data": {
      "text/latex": [
       "$$- \\frac{2 a a^{\\left|{l}\\right|} g_{k} \\kappa}{2^{\\left|{{l}'}\\right| + 1}} i^{- l + {l}'} b^{- {n}' - \\left|{{l}'}\\right| - 1} \\left(\\frac{c_{{n}'}}{\\tau_{b}} \\left(- \\omega_{p} + \\omega_{\\xi}\\right)\\right)^{\\left|{{l}'}\\right|} \\left(- a + b\\right)^{{n}'} \\operatorname{L_{{n}'}}^{\\left|{{l}'}\\right|}{\\left (\\frac{a \\left(\\omega_{p} - \\omega_{\\xi}\\right)^{2}}{4 b \\left(a - b\\right)} \\right )} \\operatorname{Z_{y}}{\\left (\\omega_{p} \\right )} e^{- \\frac{\\left(\\omega_{p} - \\omega_{\\xi}\\right)^{2}}{4 b}} \\int_{0}^{\\infty} \\frac{\\tau^{\\left|{l}\\right| + 1}}{e^{a \\tau^{2}}} \\operatorname{J_{l}}{\\left (\\tau \\left(- \\omega_{p} + \\omega_{\\xi}\\right) \\right )} \\operatorname{L^{0}_{k}}{\\left (a \\tau^{2} \\right )} \\operatorname{L_{n}}^{\\left|{l}\\right|}{\\left (a \\tau^{2} \\right )}\\, d\\tau$$"
      ],
      "text/plain": [
       "                                                                              \n",
       "                                                                              \n",
       "                                                                       │l′│   \n",
       "    -│l′│ - 1  -l + l′    │l│  -n′ - │l′│ - 1       ⎛c_n′⋅(-ω_p + ωₓᵢ)⎞       \n",
       "-2⋅2         ⋅ⅈ       ⋅a⋅a   ⋅b              ⋅g_k⋅κ⋅⎜─────────────────⎟    ⋅(-\n",
       "                                                    ⎝       τ_b       ⎠       \n",
       "                                                                              \n",
       "\n",
       "                                                        2  ∞                  \n",
       "                                            -(ω_p - ωₓᵢ)   ⌠                  \n",
       "                 ⎛             2⎞           ────────────── ⎮                  \n",
       "      n′     │l′│⎜a⋅(ω_p - ωₓᵢ) ⎟                4⋅b       ⎮  │l│ + 1         \n",
       "a + b)  ⋅L_n′    ⎜──────────────⎟⋅Z_y(ω_p)⋅ℯ              ⋅⎮ τ       ⋅J_l(τ⋅(-\n",
       "                 ⎝ 4⋅b⋅(a - b)  ⎠                          ⌡                  \n",
       "                                                           0                  \n",
       "\n",
       "                                               \n",
       "                                               \n",
       "                                           2   \n",
       "                  ⎛   2⎞    │l│⎛   2⎞  -a⋅τ    \n",
       "ω_p + ωₓᵢ))⋅L_k__0⎝a⋅τ ⎠⋅L_n   ⎝a⋅τ ⎠⋅ℯ      dτ\n",
       "                                               \n",
       "                                               "
      ]
     },
     "execution_count": 116,
     "metadata": {},
     "output_type": "execute_result"
    }
   ],
   "source": [
    "rhs_fact*rhs_int"
   ]
  },
  {
   "cell_type": "markdown",
   "metadata": {},
   "source": [
    "### 2.6) Formula form Erdelyi, vol 2, p43, formula 8 "
   ]
  },
  {
   "cell_type": "code",
   "execution_count": 117,
   "metadata": {
    "collapsed": true
   },
   "outputs": [],
   "source": [
    "x, y, alpha, nu, sigma = symbols(\"x y alpha nu sigma\")\n",
    "i, j = symbols(\"i j\")\n",
    "Li, Lj = symbols(\"L_i L_j\", cls=Function)\n",
    "Jnu = symbols(\"J_nu\", cls=Function)"
   ]
  },
  {
   "cell_type": "code",
   "execution_count": 118,
   "metadata": {
    "collapsed": false
   },
   "outputs": [
    {
     "data": {
      "text/latex": [
       "$$\\int_{0}^{\\infty} x^{\\nu + \\frac{1}{2}} \\sqrt{x y} \\operatorname{J_{\\nu}}{\\left (x y \\right )} \\operatorname{L_{i}}^{\\nu - \\sigma}{\\left (\\alpha x^{2} \\right )} \\operatorname{L_{j}}^{\\sigma}{\\left (\\alpha x^{2} \\right )} e^{- \\alpha x^{2}}\\, dx$$"
      ],
      "text/plain": [
       "∞                                                             \n",
       "⌠                                                             \n",
       "⎮                                                         2   \n",
       "⎮  ν + 1/2   _____            ν - σ⎛   2⎞    σ⎛   2⎞  -α⋅x    \n",
       "⎮ x       ⋅╲╱ x⋅y ⋅J_ν(x⋅y)⋅Lᵢ     ⎝α⋅x ⎠⋅L_j ⎝α⋅x ⎠⋅ℯ      dx\n",
       "⌡                                                             \n",
       "0                                                             "
      ]
     },
     "execution_count": 118,
     "metadata": {},
     "output_type": "execute_result"
    }
   ],
   "source": [
    "erdel_int = Integral(x**(nu+S(1)/2)*exp(-alpha*x**2)*Li(alpha*x**2)**(nu-sigma)*\\\n",
    "                      Lj(alpha*x**2)**sigma*Jnu(x*y)*(x*y)**(S(1)/2),(x,0,oo))\n",
    "\n",
    "erdel_int\n",
    "simplify(erdel_int)"
   ]
  },
  {
   "cell_type": "code",
   "execution_count": 119,
   "metadata": {
    "collapsed": false
   },
   "outputs": [
    {
     "data": {
      "text/latex": [
       "$$\\left(-1\\right)^{i + j} y^{\\nu + \\frac{1}{2}} \\left(2 \\alpha\\right)^{- \\nu - 1} \\operatorname{L_{i}}^{i - j + \\nu - \\sigma}{\\left (\\frac{y^{2}}{4 \\alpha} \\right )} \\operatorname{L_{j}}^{- i + j + \\sigma}{\\left (\\frac{y^{2}}{4 \\alpha} \\right )} e^{- \\frac{y^{2}}{4 \\alpha}}$$"
      ],
      "text/plain": [
       "                                                                          2 \n",
       "                                                                        -y  \n",
       "                                              ⎛  2⎞              ⎛  2⎞  ────\n",
       "    i + j  ν + 1/2      -ν - 1   i - j + ν - σ⎜ y ⎟    -i + j + σ⎜ y ⎟  4⋅α \n",
       "(-1)     ⋅y       ⋅(2⋅α)      ⋅Lᵢ             ⎜───⎟⋅L_j          ⎜───⎟⋅ℯ    \n",
       "                                              ⎝4⋅α⎠              ⎝4⋅α⎠      "
      ]
     },
     "execution_count": 119,
     "metadata": {},
     "output_type": "execute_result"
    }
   ],
   "source": [
    "erdel_sol = (-1)**(i+j)*(2*alpha)**(-nu-1)*y**(nu+S(1)/2)*exp(-y**2/(4*alpha))*\\\n",
    "Lj(y**2/(4*alpha))**(sigma-i+j)*Li(y**2/(4*alpha))**(nu-sigma+i-j)\n",
    "\n",
    "erdel_sol"
   ]
  },
  {
   "cell_type": "markdown",
   "metadata": {},
   "source": [
    "### 2.7) Using the formula"
   ]
  },
  {
   "cell_type": "code",
   "execution_count": 124,
   "metadata": {
    "collapsed": false
   },
   "outputs": [
    {
     "data": {
      "text/latex": [
       "$$\\int_{0}^{\\infty} \\frac{\\tau^{\\left|{l}\\right| + 1}}{e^{a \\tau^{2}}} \\operatorname{J_{l}}{\\left (\\tau \\left(- \\omega_{p} + \\omega_{\\xi}\\right) \\right )} \\operatorname{L^{0}_{k}}{\\left (a \\tau^{2} \\right )} \\operatorname{L_{n}}^{\\left|{l}\\right|}{\\left (a \\tau^{2} \\right )}\\, d\\tau$$"
      ],
      "text/plain": [
       "∞                                                                 \n",
       "⌠                                                                 \n",
       "⎮                                                             2   \n",
       "⎮  │l│ + 1                           ⎛   2⎞    │l│⎛   2⎞  -a⋅τ    \n",
       "⎮ τ       ⋅J_l(τ⋅(-ω_p + ωₓᵢ))⋅L_k__0⎝a⋅τ ⎠⋅L_n   ⎝a⋅τ ⎠⋅ℯ      dτ\n",
       "⌡                                                                 \n",
       "0                                                                 "
      ]
     },
     "execution_count": 124,
     "metadata": {},
     "output_type": "execute_result"
    }
   ],
   "source": [
    "rhs_int"
   ]
  },
  {
   "cell_type": "markdown",
   "metadata": {},
   "source": [
    "- $\\sigma$ is 0\n",
    "- $\\nu$ is abs(l)\n",
    "- i is n\n",
    "- j is k\n",
    "- y is $-\\omega_p$ + $\\omega_{xi}$\n",
    "- $\\alpha$ is a"
   ]
  },
  {
   "cell_type": "code",
   "execution_count": 130,
   "metadata": {
    "collapsed": false
   },
   "outputs": [
    {
     "data": {
      "text/latex": [
       "$$\\frac{\\left(-1\\right)^{k + n} \\left(- \\omega_{p} + \\omega_{\\xi}\\right)^{\\left|{l}\\right|}}{\\left(2 a\\right)^{\\left|{l}\\right| + 1}} \\operatorname{L^{0}_{k}}^{k - n}{\\left (\\frac{\\left(\\omega_{p} - \\omega_{\\xi}\\right)^{2}}{4 a} \\right )} \\operatorname{L_{n}}^{- k + n + \\left|{l}\\right|}{\\left (\\frac{\\left(\\omega_{p} - \\omega_{\\xi}\\right)^{2}}{4 a} \\right )} e^{- \\frac{\\left(\\omega_{p} - \\omega_{\\xi}\\right)^{2}}{4 a}}$$"
      ],
      "text/plain": [
       "                                                                              \n",
       "                                                                              \n",
       "                                                   ⎛           2⎞             \n",
       "    k + n      -│l│ - 1             │l│       k - n⎜(ω_p - ωₓᵢ) ⎟    -k + n + \n",
       "(-1)     ⋅(2⋅a)        ⋅(-ω_p + ωₓᵢ)   ⋅L_k__0     ⎜────────────⎟⋅L_n         \n",
       "                                                   ⎝    4⋅a     ⎠             \n",
       "\n",
       "                               2 \n",
       "                   -(ω_p - ωₓᵢ)  \n",
       "   ⎛           2⎞  ──────────────\n",
       "│l│⎜(ω_p - ωₓᵢ) ⎟       4⋅a      \n",
       "   ⎜────────────⎟⋅ℯ              \n",
       "   ⎝    4⋅a     ⎠                "
      ]
     },
     "execution_count": 130,
     "metadata": {},
     "output_type": "execute_result"
    }
   ],
   "source": [
    "rhs_simpl = simplify((omegaxi-omegap)**(-S(1)/2)*erdel_sol.subs(y,-omegap+omegaxi).subs(alpha,a).subs(nu,Abs(l)).subs(sigma,0)\\\n",
    ".subs(Lj,Lk0).subs(j,k).subs(Li,Ln).subs(i,n))\n",
    "\n",
    "rhs_simpl"
   ]
  },
  {
   "cell_type": "markdown",
   "metadata": {},
   "source": [
    "### 2.8) Putting the two parts together"
   ]
  },
  {
   "cell_type": "code",
   "execution_count": 131,
   "metadata": {
    "collapsed": false
   },
   "outputs": [
    {
     "data": {
      "text/latex": [
       "$$- \\frac{2 \\left(-1\\right)^{k + n} i^{- l + {l}'} a a^{\\left|{l}\\right|} g_{k} \\kappa}{2^{\\left|{{l}'}\\right| + 1} \\left(2 a\\right)^{\\left|{l}\\right| + 1}} b^{- {n}' - \\left|{{l}'}\\right| - 1} \\left(\\frac{c_{{n}'}}{\\tau_{b}} \\left(- \\omega_{p} + \\omega_{\\xi}\\right)\\right)^{\\left|{{l}'}\\right|} \\left(- a + b\\right)^{{n}'} \\left(- \\omega_{p} + \\omega_{\\xi}\\right)^{\\left|{l}\\right|} \\operatorname{L^{0}_{k}}^{k - n}{\\left (\\frac{\\left(\\omega_{p} - \\omega_{\\xi}\\right)^{2}}{4 a} \\right )} \\operatorname{L_{n}}^{- k + n + \\left|{l}\\right|}{\\left (\\frac{\\left(\\omega_{p} - \\omega_{\\xi}\\right)^{2}}{4 a} \\right )} \\operatorname{L_{{n}'}}^{\\left|{{l}'}\\right|}{\\left (\\frac{a \\left(\\omega_{p} - \\omega_{\\xi}\\right)^{2}}{4 b \\left(a - b\\right)} \\right )} \\operatorname{Z_{y}}{\\left (\\omega_{p} \\right )} e^{- \\frac{\\left(\\omega_{p} - \\omega_{\\xi}\\right)^{2}}{4 a}} e^{- \\frac{\\left(\\omega_{p} - \\omega_{\\xi}\\right)^{2}}{4 b}}$$"
      ],
      "text/plain": [
       "                                                                              \n",
       "                                                                              \n",
       "                                                                              \n",
       "       k + n  -│l′│ - 1  -l + l′    │l│  -n′ - │l′│ - 1            -│l│ - 1 ⎛c\n",
       "-2⋅(-1)     ⋅2         ⋅ⅈ       ⋅a⋅a   ⋅b              ⋅g_k⋅κ⋅(2⋅a)        ⋅⎜─\n",
       "                                                                            ⎝ \n",
       "\n",
       "                                                                              \n",
       "                                                                              \n",
       "                 │l′│                                       ⎛           2⎞    \n",
       "_n′⋅(-ω_p + ωₓᵢ)⎞             n′             │l│       k - n⎜(ω_p - ωₓᵢ) ⎟    \n",
       "────────────────⎟    ⋅(-a + b)  ⋅(-ω_p + ωₓᵢ)   ⋅L_k__0     ⎜────────────⎟⋅L_n\n",
       "      τ_b       ⎠                                           ⎝    4⋅a     ⎠    \n",
       "\n",
       "                                                                          2   \n",
       "                                                              -(ω_p - ωₓᵢ)    \n",
       "            ⎛           2⎞         ⎛             2⎞           ──────────────  \n",
       "-k + n + │l│⎜(ω_p - ωₓᵢ) ⎟     │l′│⎜a⋅(ω_p - ωₓᵢ) ⎟                4⋅a        \n",
       "            ⎜────────────⎟⋅L_n′    ⎜──────────────⎟⋅Z_y(ω_p)⋅ℯ              ⋅ℯ\n",
       "            ⎝    4⋅a     ⎠         ⎝ 4⋅b⋅(a - b)  ⎠                           \n",
       "\n",
       "            2 \n",
       "-(ω_p - ωₓᵢ)  \n",
       "──────────────\n",
       "     4⋅b      \n",
       "              \n",
       "              "
      ]
     },
     "execution_count": 131,
     "metadata": {},
     "output_type": "execute_result"
    }
   ],
   "source": [
    "rhs_fact*rhs_simpl"
   ]
  },
  {
   "cell_type": "code",
   "execution_count": 133,
   "metadata": {
    "collapsed": false
   },
   "outputs": [
    {
     "data": {
      "text/latex": [
       "$$\\sum_{\\substack{-\\infty \\leq p \\leq \\infty\\\\-\\infty \\leq {l}' \\leq \\infty\\\\0 \\leq {n}' \\leq \\infty\\\\0 \\leq k \\leq n_{0}}} - \\frac{2 \\left(-1\\right)^{k + n} i^{- l + {l}'} a a^{\\left|{l}\\right|} g_{k} \\kappa}{2^{\\left|{{l}'}\\right| + 1} \\left(2 a\\right)^{\\left|{l}\\right| + 1}} b^{- {n}' - \\left|{{l}'}\\right| - 1} \\left(\\frac{c_{{n}'}}{\\tau_{b}} \\left(- \\omega_{p} + \\omega_{\\xi}\\right)\\right)^{\\left|{{l}'}\\right|} \\left(- a + b\\right)^{{n}'} \\left(- \\omega_{p} + \\omega_{\\xi}\\right)^{\\left|{l}\\right|} \\operatorname{L^{0}_{k}}^{k - n}{\\left (\\frac{\\left(\\omega_{p} - \\omega_{\\xi}\\right)^{2}}{4 a} \\right )} \\operatorname{L_{n}}^{- k + n + \\left|{l}\\right|}{\\left (\\frac{\\left(\\omega_{p} - \\omega_{\\xi}\\right)^{2}}{4 a} \\right )} \\operatorname{L_{{n}'}}^{\\left|{{l}'}\\right|}{\\left (\\frac{a \\left(\\omega_{p} - \\omega_{\\xi}\\right)^{2}}{4 b \\left(a - b\\right)} \\right )} \\operatorname{Z_{y}}{\\left (\\omega_{p} \\right )} e^{- \\frac{\\left(\\omega_{p} - \\omega_{\\xi}\\right)^{2}}{4 a}} e^{- \\frac{\\left(\\omega_{p} - \\omega_{\\xi}\\right)^{2}}{4 b}}$$"
      ],
      "text/plain": [
       "  n₀    ∞       ∞      ∞                                                      \n",
       "_____ _____   _____  _____                                                    \n",
       "╲     ╲       ╲      ╲                                                        \n",
       " ╲     ╲       ╲      ╲                                                       \n",
       "  ╲     ╲       ╲      ╲                                                      \n",
       "   ╲     ╲       ╲      ╲                                                     \n",
       "   ╱     ╱       ╱      ╱          k + n  -│l′│ - 1  -l + l′    │l│  -n′ - │l′\n",
       "  ╱     ╱       ╱      ╱    -2⋅(-1)     ⋅2         ⋅ⅈ       ⋅a⋅a   ⋅b         \n",
       " ╱     ╱       ╱      ╱                                                       \n",
       "╱     ╱       ╱      ╱                                                        \n",
       "‾‾‾‾‾ ‾‾‾‾‾   ‾‾‾‾‾  ‾‾‾‾‾                                                    \n",
       "k = 0 n′ = 0 l′ = -∞ p = -∞                                                   \n",
       "\n",
       "                                                                              \n",
       "                                                                              \n",
       "                                                                              \n",
       "                                                                              \n",
       "                                                                              \n",
       "                                             │l′│                             \n",
       "│ - 1            -│l│ - 1 ⎛c_n′⋅(-ω_p + ωₓᵢ)⎞             n′             │l│  \n",
       "     ⋅g_k⋅κ⋅(2⋅a)        ⋅⎜─────────────────⎟    ⋅(-a + b)  ⋅(-ω_p + ωₓᵢ)   ⋅L\n",
       "                          ⎝       τ_b       ⎠                                 \n",
       "                                                                              \n",
       "                                                                              \n",
       "                                                                              \n",
       "\n",
       "                                                                              \n",
       "                                                                              \n",
       "                                                                              \n",
       "                                                                              \n",
       "                                                                              \n",
       "          ⎛           2⎞                ⎛           2⎞         ⎛             2\n",
       "     k - n⎜(ω_p - ωₓᵢ) ⎟    -k + n + │l│⎜(ω_p - ωₓᵢ) ⎟     │l′│⎜a⋅(ω_p - ωₓᵢ) \n",
       "_k__0     ⎜────────────⎟⋅L_n            ⎜────────────⎟⋅L_n′    ⎜──────────────\n",
       "          ⎝    4⋅a     ⎠                ⎝    4⋅a     ⎠         ⎝ 4⋅b⋅(a - b)  \n",
       "                                                                              \n",
       "                                                                              \n",
       "                                                                              \n",
       "\n",
       "                                          \n",
       "                                          \n",
       "                                          \n",
       "                        2               2 \n",
       "            -(ω_p - ωₓᵢ)    -(ω_p - ωₓᵢ)  \n",
       "⎞           ──────────────  ──────────────\n",
       "⎟                4⋅a             4⋅b      \n",
       "⎟⋅Z_y(ω_p)⋅ℯ              ⋅ℯ              \n",
       "⎠                                         \n",
       "                                          \n",
       "                                          \n",
       "                                          "
      ]
     },
     "execution_count": 133,
     "metadata": {},
     "output_type": "execute_result"
    }
   ],
   "source": [
    "Sum(rhs_fact*rhs_simpl,(p,-oo,oo),(lprime,-oo,oo),(nprime,0,oo),(k,0,n0))"
   ]
  },
  {
   "cell_type": "code",
   "execution_count": null,
   "metadata": {
    "collapsed": true
   },
   "outputs": [],
   "source": []
  },
  {
   "cell_type": "markdown",
   "metadata": {},
   "source": [
    "## 3) LHS"
   ]
  },
  {
   "cell_type": "code",
   "execution_count": 35,
   "metadata": {
    "collapsed": false
   },
   "outputs": [
    {
     "data": {
      "text/latex": [
       "$$2 a a^{\\left|{l}\\right|} \\tau \\tau^{\\left|{l}\\right|} \\left(\\Omega - Q_{y 0} \\omega_{0} - l \\omega_{s}\\right) \\operatorname{L_{n}}^{\\left|{l}\\right|}{\\left (a \\tau^{2} \\right )} e^{\\tau^{2} \\left(- a + b\\right)} \\sum_{{n}'=0}^{\\infty} \\frac{c_{{n}'}^{\\left|{l}\\right|} \\left(\\frac{\\tau}{\\tau_{b}}\\right)^{\\left|{l}\\right|}}{e^{b \\tau^{2}}} \\operatorname{L_{{n}'}}^{\\left|{l}\\right|}{\\left (a \\tau^{2} \\right )}$$"
      ],
      "text/plain": [
       "                                                                   ∞          \n",
       "                                                                  ____        \n",
       "                                                                  ╲           \n",
       "                                                      2            ╲          \n",
       "     │l│    │l│                           │l│⎛   2⎞  τ ⋅(-a + b)    ╲       │l\n",
       "2⋅a⋅a   ⋅τ⋅τ   ⋅(Ω - Q_y_0⋅ω₀ - l⋅ω_s)⋅L_n   ⎝a⋅τ ⎠⋅ℯ           ⋅   ╱   c_n′  \n",
       "                                                                   ╱          \n",
       "                                                                  ╱           \n",
       "                                                                  ‾‾‾‾        \n",
       "                                                                 n′ = 0       \n",
       "\n",
       "                               \n",
       "                               \n",
       "                               \n",
       "       │l│                    2\n",
       "│ ⎛ τ ⎞        │l│⎛   2⎞  -b⋅τ \n",
       " ⋅⎜───⎟   ⋅L_n′   ⎝a⋅τ ⎠⋅ℯ     \n",
       "  ⎝τ_b⎠                        \n",
       "                               \n",
       "                               \n",
       "                               "
      ]
     },
     "execution_count": 35,
     "metadata": {},
     "output_type": "execute_result"
    }
   ],
   "source": [
    "omega, qy0, omega0, omegas = symbols('Omega Q_y_0 omega_0 omega_s')\n",
    "Lnprime = symbols(\"L_nprime\",cls=Function)\n",
    "lhs=(omega - qy0*omega0 - l*omegas)*Rl\n",
    "\n",
    "weight = Ln(a*tau**2)**abs(l)*exp((-a+b)*tau**2)*tau**abs(l)*2*a*tau*a**(abs(l))\n",
    "lhs*= weight\n",
    "lhs"
   ]
  },
  {
   "cell_type": "code",
   "execution_count": 36,
   "metadata": {
    "collapsed": false
   },
   "outputs": [
    {
     "data": {
      "text/latex": [
       "$$\\left ( 2, \\quad a, \\quad \\tau, \\quad a^{\\left|{l}\\right|}, \\quad \\tau^{\\left|{l}\\right|}, \\quad \\operatorname{L_{n}}^{\\left|{l}\\right|}{\\left (a \\tau^{2} \\right )}, \\quad \\Omega - Q_{y 0} \\omega_{0} - l \\omega_{s}, \\quad \\sum_{{n}'=0}^{\\infty} \\frac{c_{{n}'}^{\\left|{l}\\right|} \\left(\\frac{\\tau}{\\tau_{b}}\\right)^{\\left|{l}\\right|}}{e^{b \\tau^{2}}} \\operatorname{L_{{n}'}}^{\\left|{l}\\right|}{\\left (a \\tau^{2} \\right )}, \\quad e^{\\tau^{2} \\left(- a + b\\right)}\\right )$$"
      ],
      "text/plain": [
       "⎛                                                           ∞                 \n",
       "⎜                                                          ____               \n",
       "⎜                                                          ╲                  \n",
       "⎜                                                           ╲                 \n",
       "⎜          │l│   │l│     │l│⎛   2⎞                           ╲       │l│ ⎛ τ ⎞\n",
       "⎜2, a, τ, a   , τ   , L_n   ⎝a⋅τ ⎠, Ω - Q_y_0⋅ω₀ - l⋅ω_s,    ╱   c_n′   ⋅⎜───⎟\n",
       "⎜                                                           ╱            ⎝τ_b⎠\n",
       "⎜                                                          ╱                  \n",
       "⎜                                                          ‾‾‾‾               \n",
       "⎝                                                         n′ = 0              \n",
       "\n",
       "                                      ⎞\n",
       "                                      ⎟\n",
       "                                      ⎟\n",
       "│l│                    2    2         ⎟\n",
       "        │l│⎛   2⎞  -b⋅τ    τ ⋅(-a + b)⎟\n",
       "   ⋅L_n′   ⎝a⋅τ ⎠⋅ℯ     , ℯ           ⎟\n",
       "                                      ⎟\n",
       "                                      ⎟\n",
       "                                      ⎟\n",
       "                                      ⎠"
      ]
     },
     "execution_count": 36,
     "metadata": {},
     "output_type": "execute_result"
    }
   ],
   "source": [
    "lhs.args"
   ]
  },
  {
   "cell_type": "code",
   "execution_count": 37,
   "metadata": {
    "collapsed": false
   },
   "outputs": [
    {
     "data": {
      "text/latex": [
       "$$\\frac{2 c_{{n}'}^{\\left|{l}\\right|} \\tau_{b}^{- \\left|{l}\\right|}}{e^{a \\tau^{2}}} a^{\\left|{l}\\right| + 1} \\tau^{2 \\left|{l}\\right| + 1} \\left(\\Omega - Q_{y 0} \\omega_{0} - l \\omega_{s}\\right) \\operatorname{L_{n}}^{\\left|{l}\\right|}{\\left (a \\tau^{2} \\right )} \\operatorname{L_{{n}'}}^{\\left|{l}\\right|}{\\left (a \\tau^{2} \\right )}$$"
      ],
      "text/plain": [
       "                                                                              \n",
       "   │l│ + 1     │l│  2⋅│l│ + 1    -│l│                           │l│⎛   2⎞     \n",
       "2⋅a       ⋅c_n′   ⋅τ         ⋅τ_b    ⋅(Ω - Q_y_0⋅ω₀ - l⋅ω_s)⋅L_n   ⎝a⋅τ ⎠⋅L_n′\n",
       "\n",
       "               2\n",
       "│l│⎛   2⎞  -a⋅τ \n",
       "   ⎝a⋅τ ⎠⋅ℯ     "
      ]
     },
     "execution_count": 37,
     "metadata": {},
     "output_type": "execute_result"
    }
   ],
   "source": [
    "args=np.array(lhs.args)\n",
    "out=np.prod([args[ii] for ii in [0,1,2,3,4,5,6,8]])\n",
    "out*=args[7].args[0]\n",
    "out=simplify(out)\n",
    "out=expand_power_base(out,tau,force=True)\n",
    "out"
   ]
  },
  {
   "cell_type": "code",
   "execution_count": 38,
   "metadata": {
    "collapsed": false
   },
   "outputs": [
    {
     "data": {
      "text/latex": [
       "$$c_{{n}'}^{\\left|{l}\\right|} \\tau_{b}^{- \\left|{l}\\right|} \\left(\\Omega - Q_{y 0} \\omega_{0} - l \\omega_{s}\\right) \\int_{0}^{\\infty} \\frac{2 a a^{\\left|{l}\\right|} \\tau}{e^{a \\tau^{2}}} \\tau^{2 \\left|{l}\\right|} \\operatorname{L_{n}}^{\\left|{l}\\right|}{\\left (a \\tau^{2} \\right )} \\operatorname{L_{{n}'}}^{\\left|{l}\\right|}{\\left (a \\tau^{2} \\right )}\\, d\\tau$$"
      ],
      "text/plain": [
       "                                       ∞                                      \n",
       "                                       ⌠                                      \n",
       "                                       ⎮                                      \n",
       "    │l│    -│l│                        ⎮      │l│    2⋅│l│    │l│⎛   2⎞     │l\n",
       "c_n′   ⋅τ_b    ⋅(Ω - Q_y_0⋅ω₀ - l⋅ω_s)⋅⎮ 2⋅a⋅a   ⋅τ⋅τ     ⋅L_n   ⎝a⋅τ ⎠⋅L_n′  \n",
       "                                       ⌡                                      \n",
       "                                       0                                      \n",
       "\n",
       "                 \n",
       "                 \n",
       "             2   \n",
       "│⎛   2⎞  -a⋅τ    \n",
       " ⎝a⋅τ ⎠⋅ℯ      dτ\n",
       "                 \n",
       "                 "
      ]
     },
     "execution_count": 38,
     "metadata": {},
     "output_type": "execute_result"
    }
   ],
   "source": [
    "# getting the series out\n",
    "\n",
    "# integrating in tau\n",
    "\n",
    "fact = cnprime**abs(l)*(omega - qy0*omega0 - l*omegas)*taub**(-abs(l))\n",
    "\n",
    "temp=fact*Integral(out*1/fact,(tau,0,oo))\n",
    "temp=expand_power_exp(temp)\n",
    "temp\n",
    "# print(temp)"
   ]
  },
  {
   "cell_type": "markdown",
   "metadata": {},
   "source": [
    "#### 3.1) Laguerre ortogonality\n"
   ]
  },
  {
   "cell_type": "code",
   "execution_count": 39,
   "metadata": {
    "collapsed": false
   },
   "outputs": [
    {
     "data": {
      "text/latex": [
       "$$\\int_{0}^{\\infty} \\frac{2 a a^{\\left|{l}\\right|} \\tau}{e^{a \\tau^{2}}} \\tau^{2 \\left|{l}\\right|} \\operatorname{L_{n}}^{\\left|{l}\\right|}{\\left (a \\tau^{2} \\right )} \\operatorname{L_{{n}'}}^{\\left|{l}\\right|}{\\left (a \\tau^{2} \\right )}\\, d\\tau$$"
      ],
      "text/plain": [
       "∞                                                       \n",
       "⌠                                                       \n",
       "⎮                                                   2   \n",
       "⎮      │l│    2⋅│l│    │l│⎛   2⎞     │l│⎛   2⎞  -a⋅τ    \n",
       "⎮ 2⋅a⋅a   ⋅τ⋅τ     ⋅L_n   ⎝a⋅τ ⎠⋅L_n′   ⎝a⋅τ ⎠⋅ℯ      dτ\n",
       "⌡                                                       \n",
       "0                                                       "
      ]
     },
     "execution_count": 39,
     "metadata": {},
     "output_type": "execute_result"
    }
   ],
   "source": [
    "# a=symbols('a',positive=True)\n",
    "lag2=Integral(exp(-x)*x**l*Ln(x)**l*Lnprime(x)**l,(x,0,oo))\n",
    "lag2=lag2.subs(l,abs(l))\n",
    "lag2=lag2.transform(x,(a*tau**2,tau))\n",
    "lag2=expand_power_base(lag2)\n",
    "lag2"
   ]
  },
  {
   "cell_type": "markdown",
   "metadata": {},
   "source": [
    "#### Solution"
   ]
  },
  {
   "cell_type": "code",
   "execution_count": 40,
   "metadata": {
    "collapsed": false
   },
   "outputs": [
    {
     "data": {
      "text/latex": [
       "$$\\frac{\\delta_{n {n}'}}{{n}'!} \\left({n}' + \\left|{l}\\right|\\right)!$$"
      ],
      "text/plain": [
       "δ    ⋅(n′ + │l│)!\n",
       " n,n′            \n",
       "─────────────────\n",
       "       n′!       "
      ]
     },
     "execution_count": 40,
     "metadata": {},
     "output_type": "execute_result"
    }
   ],
   "source": [
    "nprime=symbols('nprime',positive=True)\n",
    "sol2=factorial(abs(l)+nprime)/factorial(nprime)*KroneckerDelta(n,nprime)\n",
    "sol2"
   ]
  },
  {
   "cell_type": "code",
   "execution_count": 41,
   "metadata": {
    "collapsed": false
   },
   "outputs": [
    {
     "data": {
      "text/latex": [
       "$$\\left ( \\int_{0}^{\\infty} \\frac{2 a a^{\\left|{l}\\right|} \\tau}{e^{a \\tau^{2}}} \\tau^{2 \\left|{l}\\right|} \\operatorname{L_{n}}^{\\left|{l}\\right|}{\\left (a \\tau^{2} \\right )} \\operatorname{L_{{n}'}}^{\\left|{l}\\right|}{\\left (a \\tau^{2} \\right )}\\, d\\tau, \\quad \\int_{0}^{\\infty} \\frac{2 a a^{\\left|{l}\\right|} \\tau}{e^{a \\tau^{2}}} \\tau^{2 \\left|{l}\\right|} \\operatorname{L_{n}}^{\\left|{l}\\right|}{\\left (a \\tau^{2} \\right )} \\operatorname{L_{{n}'}}^{\\left|{l}\\right|}{\\left (a \\tau^{2} \\right )}\\, d\\tau\\right )$$"
      ],
      "text/plain": [
       "⎛∞                                                         ∞                  \n",
       "⎜⌠                                                         ⌠                  \n",
       "⎜⎮                                                   2     ⎮                  \n",
       "⎜⎮      │l│    2⋅│l│    │l│⎛   2⎞     │l│⎛   2⎞  -a⋅τ      ⎮      │l│    2⋅│l│\n",
       "⎜⎮ 2⋅a⋅a   ⋅τ⋅τ     ⋅L_n   ⎝a⋅τ ⎠⋅L_n′   ⎝a⋅τ ⎠⋅ℯ      dτ, ⎮ 2⋅a⋅a   ⋅τ⋅τ     \n",
       "⎜⌡                                                         ⌡                  \n",
       "⎝0                                                         0                  \n",
       "\n",
       "                                     ⎞\n",
       "                                     ⎟\n",
       "                                 2   ⎟\n",
       "    │l│⎛   2⎞     │l│⎛   2⎞  -a⋅τ    ⎟\n",
       "⋅L_n   ⎝a⋅τ ⎠⋅L_n′   ⎝a⋅τ ⎠⋅ℯ      dτ⎟\n",
       "                                     ⎟\n",
       "                                     ⎠"
      ]
     },
     "execution_count": 41,
     "metadata": {},
     "output_type": "execute_result"
    }
   ],
   "source": [
    "temp.args[3], lag2"
   ]
  },
  {
   "cell_type": "code",
   "execution_count": 42,
   "metadata": {
    "collapsed": false
   },
   "outputs": [
    {
     "data": {
      "text/latex": [
       "$$\\sum_{{n}'=0}^{\\infty} \\frac{c_{{n}'}^{\\left|{l}\\right|}}{{n}'!} \\tau_{b}^{- \\left|{l}\\right|} \\left(\\Omega - Q_{y 0} \\omega_{0} - l \\omega_{s}\\right) \\delta_{n {n}'} \\left({n}' + \\left|{l}\\right|\\right)!$$"
      ],
      "text/plain": [
       "  ∞                                                           \n",
       "_____                                                         \n",
       "╲                                                             \n",
       " ╲        │l│    -│l│                                         \n",
       "  ╲   c_n′   ⋅τ_b    ⋅(Ω - Q_y_0⋅ω₀ - l⋅ω_s)⋅δ    ⋅(n′ + │l│)!\n",
       "   ╲                                          n,n′            \n",
       "   ╱  ────────────────────────────────────────────────────────\n",
       "  ╱                             n′!                           \n",
       " ╱                                                            \n",
       "╱                                                             \n",
       "‾‾‾‾‾                                                         \n",
       "False                                                         "
      ]
     },
     "execution_count": 42,
     "metadata": {},
     "output_type": "execute_result"
    }
   ],
   "source": [
    "temp=temp.subs(lag2,sol2)\n",
    "temp\n",
    "\n",
    "# putting back the sum in nprime\n",
    "lhs=Sum(temp,(nprime,0,oo))\n",
    "lhs"
   ]
  },
  {
   "cell_type": "markdown",
   "metadata": {},
   "source": [
    "### LHS solved"
   ]
  },
  {
   "cell_type": "code",
   "execution_count": 43,
   "metadata": {
    "collapsed": false
   },
   "outputs": [
    {
     "data": {
      "text/latex": [
       "$$\\frac{c_{n}^{\\left|{l}\\right|}}{n!} \\tau_{b}^{- \\left|{l}\\right|} \\left(\\Omega - Q_{y 0} \\omega_{0} - l \\omega_{s}\\right) \\left(n + \\left|{l}\\right|\\right)!$$"
      ],
      "text/plain": [
       "   │l│    -│l│                                  \n",
       "c_n   ⋅τ_b    ⋅(Ω - Q_y_0⋅ω₀ - l⋅ω_s)⋅(n + │l│)!\n",
       "────────────────────────────────────────────────\n",
       "                       n!                       "
      ]
     },
     "execution_count": 43,
     "metadata": {},
     "output_type": "execute_result"
    }
   ],
   "source": [
    "lhs.args[0].subs(KroneckerDelta(n,nprime),1).subs(nprime,n).subs(cnprime,cn)"
   ]
  },
  {
   "cell_type": "code",
   "execution_count": null,
   "metadata": {
    "collapsed": true
   },
   "outputs": [],
   "source": []
  }
 ],
 "metadata": {
  "kernelspec": {
   "display_name": "Python 2",
   "language": "python",
   "name": "python2"
  },
  "language_info": {
   "codemirror_mode": {
    "name": "ipython",
    "version": 2
   },
   "file_extension": ".py",
   "mimetype": "text/x-python",
   "name": "python",
   "nbconvert_exporter": "python",
   "pygments_lexer": "ipython2",
   "version": "2.7.11"
  }
 },
 "nbformat": 4,
 "nbformat_minor": 0
}
